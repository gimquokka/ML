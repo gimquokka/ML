{
  "nbformat": 4,
  "nbformat_minor": 0,
  "metadata": {
    "colab": {
      "name": "Absolute beginners Tutorial.ipynb",
      "provenance": [],
      "collapsed_sections": [],
      "authorship_tag": "ABX9TyO53Ox/pSKEpILFXEIXSPis",
      "include_colab_link": true
    },
    "kernelspec": {
      "name": "python3",
      "display_name": "Python 3"
    }
  },
  "cells": [
    {
      "cell_type": "markdown",
      "metadata": {
        "id": "view-in-github",
        "colab_type": "text"
      },
      "source": [
        "<a href=\"https://colab.research.google.com/github/gimquokka/ML/blob/master/Absolute_beginners_Tutorial.ipynb\" target=\"_parent\"><img src=\"https://colab.research.google.com/assets/colab-badge.svg\" alt=\"Open In Colab\"/></a>"
      ]
    },
    {
      "cell_type": "markdown",
      "metadata": {
        "id": "A8l5BeeOlkwJ",
        "colab_type": "text"
      },
      "source": [
        "# Absolute beginners Tutorial"
      ]
    },
    {
      "cell_type": "code",
      "metadata": {
        "id": "btLU1Z2hlu2i",
        "colab_type": "code",
        "outputId": "0844be39-222b-4c77-a93d-86046aa586c4",
        "colab": {
          "base_uri": "https://localhost:8080/",
          "height": 252
        }
      },
      "source": [
        "import numpy as np\n",
        "\n",
        "a = np.arange(10)\n",
        "print(a.shape)\n",
        "a2 = a[np.newaxis, :]\n",
        "print(a2.shape)\n",
        "print(a2)\n",
        "a3 = a2[:,:, np.newaxis]\n",
        "print(a3.shape)\n",
        "a3"
      ],
      "execution_count": 0,
      "outputs": [
        {
          "output_type": "stream",
          "text": [
            "(10,)\n",
            "(1, 10)\n",
            "[[0 1 2 3 4 5 6 7 8 9]]\n",
            "(1, 10, 1)\n"
          ],
          "name": "stdout"
        },
        {
          "output_type": "execute_result",
          "data": {
            "text/plain": [
              "array([[[0],\n",
              "        [1],\n",
              "        [2],\n",
              "        [3],\n",
              "        [4],\n",
              "        [5],\n",
              "        [6],\n",
              "        [7],\n",
              "        [8],\n",
              "        [9]]])"
            ]
          },
          "metadata": {
            "tags": []
          },
          "execution_count": 2
        }
      ]
    },
    {
      "cell_type": "code",
      "metadata": {
        "id": "zzObybg7lu0T",
        "colab_type": "code",
        "outputId": "0c2e0044-1ec6-4310-b7fa-938330f85380",
        "colab": {
          "base_uri": "https://localhost:8080/",
          "height": 34
        }
      },
      "source": [
        "np.zeros(10, dtype=np.int8)"
      ],
      "execution_count": 0,
      "outputs": [
        {
          "output_type": "execute_result",
          "data": {
            "text/plain": [
              "array([0, 0, 0, 0, 0, 0, 0, 0, 0, 0], dtype=int8)"
            ]
          },
          "metadata": {
            "tags": []
          },
          "execution_count": 26
        }
      ]
    },
    {
      "cell_type": "code",
      "metadata": {
        "id": "msWDCFzgluyS",
        "colab_type": "code",
        "outputId": "ae11ce7b-8bad-4127-8b87-e42f296baf97",
        "colab": {
          "base_uri": "https://localhost:8080/",
          "height": 34
        }
      },
      "source": [
        "np.empty(10)"
      ],
      "execution_count": 0,
      "outputs": [
        {
          "output_type": "execute_result",
          "data": {
            "text/plain": [
              "array([0., 0., 0., 0., 0., 0., 0., 0., 0., 0.])"
            ]
          },
          "metadata": {
            "tags": []
          },
          "execution_count": 22
        }
      ]
    },
    {
      "cell_type": "code",
      "metadata": {
        "id": "yoE0yzZ2luwD",
        "colab_type": "code",
        "outputId": "8ea15988-90b8-47c4-88f4-29b99639a8d0",
        "colab": {
          "base_uri": "https://localhost:8080/",
          "height": 50
        }
      },
      "source": [
        "a = np.array([[1, 2, 3]])\n",
        "b = np.array([[4, 5,6]])\n",
        "\n",
        "np.concatenate([a,b])"
      ],
      "execution_count": 0,
      "outputs": [
        {
          "output_type": "execute_result",
          "data": {
            "text/plain": [
              "array([[1, 2, 3],\n",
              "       [4, 5, 6]])"
            ]
          },
          "metadata": {
            "tags": []
          },
          "execution_count": 38
        }
      ]
    },
    {
      "cell_type": "code",
      "metadata": {
        "id": "ROUm2mzmlutu",
        "colab_type": "code",
        "colab": {}
      },
      "source": [
        "c = np.array([[7, 8, 9]])\n",
        "\n",
        "abc = np.concatenate([a, b, c], axis = 0)"
      ],
      "execution_count": 0,
      "outputs": []
    },
    {
      "cell_type": "code",
      "metadata": {
        "id": "vEynIZMalurZ",
        "colab_type": "code",
        "outputId": "a14c1464-f136-42f3-a0db-272ebf44f0dd",
        "colab": {
          "base_uri": "https://localhost:8080/",
          "height": 67
        }
      },
      "source": [
        "print(abc.ndim)\n",
        "print(abc.size)\n",
        "print(abc.shape)"
      ],
      "execution_count": 0,
      "outputs": [
        {
          "output_type": "stream",
          "text": [
            "2\n",
            "9\n",
            "(3, 3)\n"
          ],
          "name": "stdout"
        }
      ]
    },
    {
      "cell_type": "code",
      "metadata": {
        "id": "tsplbB92luoy",
        "colab_type": "code",
        "outputId": "91ce0781-db90-4396-f81a-b838ca414964",
        "colab": {
          "base_uri": "https://localhost:8080/",
          "height": 34
        }
      },
      "source": [
        "a = np.array([1, 2, 3, 4, 5,6])\n",
        "a\n",
        "b = np.expand_dims(a, axis = 0)\n",
        "print(b, b.shape)"
      ],
      "execution_count": 0,
      "outputs": [
        {
          "output_type": "stream",
          "text": [
            "[[1 2 3 4 5 6]] (1, 6)\n"
          ],
          "name": "stdout"
        }
      ]
    },
    {
      "cell_type": "code",
      "metadata": {
        "id": "rIgMUanlxZ59",
        "colab_type": "code",
        "outputId": "2dda9154-7b43-4aea-e2f0-65028f664934",
        "colab": {
          "base_uri": "https://localhost:8080/",
          "height": 67
        }
      },
      "source": [
        "a = np.array([[1, 2, 3], [4,5,6], [7,8,9]])\n",
        "print(a[(a%2 ==0)&(a>5)])\n",
        "print(a[(a%2 ==0)|(a ==3)])\n",
        "print(np.nonzero(a<4))"
      ],
      "execution_count": 0,
      "outputs": [
        {
          "output_type": "stream",
          "text": [
            "[6 8]\n",
            "[2 3 4 6 8]\n",
            "(array([0, 0, 0]), array([0, 1, 2]))\n"
          ],
          "name": "stdout"
        }
      ]
    },
    {
      "cell_type": "code",
      "metadata": {
        "id": "oXcuQwCglukf",
        "colab_type": "code",
        "outputId": "6d6fe4c3-e99f-409e-ffa6-d17b5932b922",
        "colab": {
          "base_uri": "https://localhost:8080/",
          "height": 67
        }
      },
      "source": [
        "c = np.nonzero(a<4)\n",
        "coordinates = list(zip(c[0], c[1]))\n",
        "coordinates\n",
        "\n",
        "for l in coordinates:\n",
        "  print(l)"
      ],
      "execution_count": 0,
      "outputs": [
        {
          "output_type": "stream",
          "text": [
            "(0, 0)\n",
            "(0, 1)\n",
            "(0, 2)\n"
          ],
          "name": "stdout"
        }
      ]
    },
    {
      "cell_type": "code",
      "metadata": {
        "id": "0AgD8QAPluh_",
        "colab_type": "code",
        "outputId": "333ba9fd-1548-4d0e-ea03-6a9a130c23f8",
        "colab": {
          "base_uri": "https://localhost:8080/",
          "height": 34
        }
      },
      "source": [
        "a[c]"
      ],
      "execution_count": 0,
      "outputs": [
        {
          "output_type": "execute_result",
          "data": {
            "text/plain": [
              "array([1, 2, 3])"
            ]
          },
          "metadata": {
            "tags": []
          },
          "execution_count": 23
        }
      ]
    },
    {
      "cell_type": "code",
      "metadata": {
        "id": "wDK-JFKmlufs",
        "colab_type": "code",
        "outputId": "b00a5829-fb01-420f-bd9d-ed0c2cc7d4cf",
        "colab": {
          "base_uri": "https://localhost:8080/",
          "height": 34
        }
      },
      "source": [
        "not_there = np.nonzero(a == 42)\n",
        "\n",
        "print(not_there)"
      ],
      "execution_count": 0,
      "outputs": [
        {
          "output_type": "stream",
          "text": [
            "(array([], dtype=int64), array([], dtype=int64))\n"
          ],
          "name": "stdout"
        }
      ]
    },
    {
      "cell_type": "code",
      "metadata": {
        "id": "GEAWNkhxludL",
        "colab_type": "code",
        "outputId": "b1b9022a-559a-4fa3-fc0c-0bc1f823ff83",
        "colab": {
          "base_uri": "https://localhost:8080/",
          "height": 168
        }
      },
      "source": [
        "a = np.arange(15).reshape(3, 5)\n",
        "b = np.arange(15).reshape(5, 3)\n",
        "\n",
        "print(a,'\\n\\n', b)\n",
        "\n",
        "# np.vstack((a, b))\n",
        "# np.hstack((a, b))"
      ],
      "execution_count": 0,
      "outputs": [
        {
          "output_type": "stream",
          "text": [
            "[[ 0  1  2  3  4]\n",
            " [ 5  6  7  8  9]\n",
            " [10 11 12 13 14]] \n",
            "\n",
            " [[ 0  1  2]\n",
            " [ 3  4  5]\n",
            " [ 6  7  8]\n",
            " [ 9 10 11]\n",
            " [12 13 14]]\n"
          ],
          "name": "stdout"
        }
      ]
    },
    {
      "cell_type": "code",
      "metadata": {
        "id": "hkTkS1eWlua6",
        "colab_type": "code",
        "outputId": "a751846f-e2e7-4ffc-a1b1-62ddd5b09cc7",
        "colab": {
          "base_uri": "https://localhost:8080/",
          "height": 235
        }
      },
      "source": [
        "np.hsplit(a,5)\n",
        "np.hsplit(b,3)"
      ],
      "execution_count": 0,
      "outputs": [
        {
          "output_type": "execute_result",
          "data": {
            "text/plain": [
              "[array([[ 0],\n",
              "        [ 3],\n",
              "        [ 6],\n",
              "        [ 9],\n",
              "        [12]]), array([[ 1],\n",
              "        [ 4],\n",
              "        [ 7],\n",
              "        [10],\n",
              "        [13]]), array([[ 2],\n",
              "        [ 5],\n",
              "        [ 8],\n",
              "        [11],\n",
              "        [14]])]"
            ]
          },
          "metadata": {
            "tags": []
          },
          "execution_count": 34
        }
      ]
    },
    {
      "cell_type": "code",
      "metadata": {
        "id": "3jG2dfhxluY4",
        "colab_type": "code",
        "outputId": "ee7d3905-3e85-4fe6-e848-d489f9da7447",
        "colab": {
          "base_uri": "https://localhost:8080/",
          "height": 134
        }
      },
      "source": [
        "np.hsplit(a, (1,3))"
      ],
      "execution_count": 0,
      "outputs": [
        {
          "output_type": "execute_result",
          "data": {
            "text/plain": [
              "[array([[ 0],\n",
              "        [ 5],\n",
              "        [10]]), array([[ 1,  2],\n",
              "        [ 6,  7],\n",
              "        [11, 12]]), array([[ 3,  4],\n",
              "        [ 8,  9],\n",
              "        [13, 14]])]"
            ]
          },
          "metadata": {
            "tags": []
          },
          "execution_count": 35
        }
      ]
    },
    {
      "cell_type": "code",
      "metadata": {
        "id": "DRHR981UluWZ",
        "colab_type": "code",
        "outputId": "3e144182-95f4-4a19-ddef-b50fe7ad69be",
        "colab": {
          "base_uri": "https://localhost:8080/",
          "height": 34
        }
      },
      "source": [
        "a.sum(axis=0)"
      ],
      "execution_count": 0,
      "outputs": [
        {
          "output_type": "execute_result",
          "data": {
            "text/plain": [
              "array([15, 18, 21, 24, 27])"
            ]
          },
          "metadata": {
            "tags": []
          },
          "execution_count": 37
        }
      ]
    },
    {
      "cell_type": "code",
      "metadata": {
        "id": "wGgD7l6GluUM",
        "colab_type": "code",
        "outputId": "fc0dacbc-97bd-49ea-c3c2-348dc8727d97",
        "colab": {
          "base_uri": "https://localhost:8080/",
          "height": 216
        }
      },
      "source": [
        "a = np.ones(4).reshape(2,2)\n",
        "b = np.ones(8).reshape(4,2)\n",
        "\n",
        "a+b"
      ],
      "execution_count": 0,
      "outputs": [
        {
          "output_type": "error",
          "ename": "ValueError",
          "evalue": "ignored",
          "traceback": [
            "\u001b[0;31m---------------------------------------------------------------------------\u001b[0m",
            "\u001b[0;31mValueError\u001b[0m                                Traceback (most recent call last)",
            "\u001b[0;32m<ipython-input-38-5cbdce0fe833>\u001b[0m in \u001b[0;36m<module>\u001b[0;34m()\u001b[0m\n\u001b[1;32m      2\u001b[0m \u001b[0mb\u001b[0m \u001b[0;34m=\u001b[0m \u001b[0mnp\u001b[0m\u001b[0;34m.\u001b[0m\u001b[0mones\u001b[0m\u001b[0;34m(\u001b[0m\u001b[0;36m8\u001b[0m\u001b[0;34m)\u001b[0m\u001b[0;34m.\u001b[0m\u001b[0mreshape\u001b[0m\u001b[0;34m(\u001b[0m\u001b[0;36m4\u001b[0m\u001b[0;34m,\u001b[0m\u001b[0;36m2\u001b[0m\u001b[0;34m)\u001b[0m\u001b[0;34m\u001b[0m\u001b[0;34m\u001b[0m\u001b[0m\n\u001b[1;32m      3\u001b[0m \u001b[0;34m\u001b[0m\u001b[0m\n\u001b[0;32m----> 4\u001b[0;31m \u001b[0ma\u001b[0m\u001b[0;34m+\u001b[0m\u001b[0mb\u001b[0m\u001b[0;34m\u001b[0m\u001b[0;34m\u001b[0m\u001b[0m\n\u001b[0m",
            "\u001b[0;31mValueError\u001b[0m: operands could not be broadcast together with shapes (2,2) (4,2) "
          ]
        }
      ]
    },
    {
      "cell_type": "code",
      "metadata": {
        "id": "b-lF3rZxluSH",
        "colab_type": "code",
        "outputId": "a6b43b68-3af8-4fe8-841c-85b6e6275116",
        "colab": {
          "base_uri": "https://localhost:8080/",
          "height": 269
        }
      },
      "source": [
        "np.ones((4,3, 10))"
      ],
      "execution_count": 0,
      "outputs": [
        {
          "output_type": "execute_result",
          "data": {
            "text/plain": [
              "array([[[1., 1., 1., 1., 1., 1., 1., 1., 1., 1.],\n",
              "        [1., 1., 1., 1., 1., 1., 1., 1., 1., 1.],\n",
              "        [1., 1., 1., 1., 1., 1., 1., 1., 1., 1.]],\n",
              "\n",
              "       [[1., 1., 1., 1., 1., 1., 1., 1., 1., 1.],\n",
              "        [1., 1., 1., 1., 1., 1., 1., 1., 1., 1.],\n",
              "        [1., 1., 1., 1., 1., 1., 1., 1., 1., 1.]],\n",
              "\n",
              "       [[1., 1., 1., 1., 1., 1., 1., 1., 1., 1.],\n",
              "        [1., 1., 1., 1., 1., 1., 1., 1., 1., 1.],\n",
              "        [1., 1., 1., 1., 1., 1., 1., 1., 1., 1.]],\n",
              "\n",
              "       [[1., 1., 1., 1., 1., 1., 1., 1., 1., 1.],\n",
              "        [1., 1., 1., 1., 1., 1., 1., 1., 1., 1.],\n",
              "        [1., 1., 1., 1., 1., 1., 1., 1., 1., 1.]]])"
            ]
          },
          "metadata": {
            "tags": []
          },
          "execution_count": 39
        }
      ]
    },
    {
      "cell_type": "code",
      "metadata": {
        "id": "66fvPNS8luPo",
        "colab_type": "code",
        "outputId": "2c28fdf0-2cfb-4049-e198-9f55ce7865c1",
        "colab": {
          "base_uri": "https://localhost:8080/",
          "height": 101
        }
      },
      "source": [
        "rng = np.random.default_rng(10)\n",
        "np.floor(10*rng.random((2,2,3)))"
      ],
      "execution_count": 0,
      "outputs": [
        {
          "output_type": "execute_result",
          "data": {
            "text/plain": [
              "array([[[9., 2., 8.],\n",
              "        [1., 5., 1.]],\n",
              "\n",
              "       [[6., 8., 4.],\n",
              "        [9., 8., 3.]]])"
            ]
          },
          "metadata": {
            "tags": []
          },
          "execution_count": 48
        }
      ]
    },
    {
      "cell_type": "code",
      "metadata": {
        "id": "aGzB-Aa7luNr",
        "colab_type": "code",
        "outputId": "9b60f76d-2d78-42cf-9d88-916475bba9d7",
        "colab": {
          "base_uri": "https://localhost:8080/",
          "height": 50
        }
      },
      "source": [
        "rng.integers(10000, size=(2,2))"
      ],
      "execution_count": 0,
      "outputs": [
        {
          "output_type": "execute_result",
          "data": {
            "text/plain": [
              "array([[7487, 5757],\n",
              "       [9387, 7533]])"
            ]
          },
          "metadata": {
            "tags": []
          },
          "execution_count": 49
        }
      ]
    },
    {
      "cell_type": "code",
      "metadata": {
        "id": "1Y-hJI4mluLd",
        "colab_type": "code",
        "outputId": "9a8e159a-2eb4-49de-b4c1-4cb6569b12bf",
        "colab": {
          "base_uri": "https://localhost:8080/",
          "height": 34
        }
      },
      "source": [
        "a = np.array([1, 2, 3, 1, 3])\n",
        "unique_val, indices_list = np.unique(a, return_index=True)\n",
        "print(unique_val, indices_list)"
      ],
      "execution_count": 0,
      "outputs": [
        {
          "output_type": "stream",
          "text": [
            "[1 2 3] [0 1 2]\n"
          ],
          "name": "stdout"
        }
      ]
    },
    {
      "cell_type": "code",
      "metadata": {
        "id": "wxThqeB8luJM",
        "colab_type": "code",
        "outputId": "1a9e9619-ab93-48ac-eb62-f0baf5891ed0",
        "colab": {
          "base_uri": "https://localhost:8080/",
          "height": 34
        }
      },
      "source": [
        "a = np.array([1, 2, 3, 1, 3])\n",
        "unique_val, occurence_count = np.unique(a, return_counts=True)\n",
        "print(unique_val, occurence_count)"
      ],
      "execution_count": 0,
      "outputs": [
        {
          "output_type": "stream",
          "text": [
            "[1 2 3] [2 1 2]\n"
          ],
          "name": "stdout"
        }
      ]
    },
    {
      "cell_type": "code",
      "metadata": {
        "id": "Qnn6h18_luHB",
        "colab_type": "code",
        "outputId": "7df503dc-5019-4f53-db98-aab4a69bc7b3",
        "colab": {
          "base_uri": "https://localhost:8080/",
          "height": 34
        }
      },
      "source": [
        "m = np.array([[1, 1, 1,3],[1,1,1,3], [1,1,1,5]])\n",
        "unique_val, occurence_count = np.unique(m, return_counts=True)\n",
        "unique_val, indices_list = np.unique(a, return_index=True)\n",
        "\n",
        "print(unique_val, occurence_count, indices_list)"
      ],
      "execution_count": 0,
      "outputs": [
        {
          "output_type": "stream",
          "text": [
            "[1 2 3] [9 2 1] [0 1 2]\n"
          ],
          "name": "stdout"
        }
      ]
    },
    {
      "cell_type": "code",
      "metadata": {
        "id": "htUVKeuTluEy",
        "colab_type": "code",
        "outputId": "19cb2217-1ccc-4476-ab2d-dec631cd29f5",
        "colab": {
          "base_uri": "https://localhost:8080/",
          "height": 101
        }
      },
      "source": [
        "unique_rows, indices, occurence_count = np.unique(m, axis = 1, return_counts=True, return_index=True)\n",
        "print(unique_rows)\n",
        "\n",
        "print(indices)\n",
        "\n",
        "print(occurence_count)"
      ],
      "execution_count": 0,
      "outputs": [
        {
          "output_type": "stream",
          "text": [
            "[[1 3]\n",
            " [1 3]\n",
            " [1 5]]\n",
            "[0 3]\n",
            "[3 1]\n"
          ],
          "name": "stdout"
        }
      ]
    },
    {
      "cell_type": "code",
      "metadata": {
        "id": "Q943BxjfE07e",
        "colab_type": "code",
        "outputId": "befb3bdc-1608-4bf8-ec20-9ff08038916f",
        "colab": {
          "base_uri": "https://localhost:8080/",
          "height": 67
        }
      },
      "source": [
        "a = np.arange(15).reshape(3, 5)\n",
        "b = np.flip(a)\n",
        "print(b)"
      ],
      "execution_count": 0,
      "outputs": [
        {
          "output_type": "stream",
          "text": [
            "[[14 13 12 11 10]\n",
            " [ 9  8  7  6  5]\n",
            " [ 4  3  2  1  0]]\n"
          ],
          "name": "stdout"
        }
      ]
    },
    {
      "cell_type": "code",
      "metadata": {
        "colab_type": "code",
        "outputId": "37492ca9-1a00-416b-fa59-1f2535320a0c",
        "id": "1fTOPTDLaBtO",
        "colab": {
          "base_uri": "https://localhost:8080/",
          "height": 218
        }
      },
      "source": [
        "a = np.arange(15).reshape(3, 5)\n",
        "print(a)\n",
        "b = np.flip(a, axis = 0)\n",
        "print(b)\n",
        "a[1] = np.flip(a[1])\n",
        "print(a)\n",
        "a[2, :] = np.flip(a[2, :])\n",
        "print(a)"
      ],
      "execution_count": 0,
      "outputs": [
        {
          "output_type": "stream",
          "text": [
            "[[ 0  1  2  3  4]\n",
            " [ 5  6  7  8  9]\n",
            " [10 11 12 13 14]]\n",
            "[[10 11 12 13 14]\n",
            " [ 5  6  7  8  9]\n",
            " [ 0  1  2  3  4]]\n",
            "[[ 0  1  2  3  4]\n",
            " [ 9  8  7  6  5]\n",
            " [10 11 12 13 14]]\n",
            "[[ 0  1  2  3  4]\n",
            " [ 9  8  7  6  5]\n",
            " [14 13 12 11 10]]\n"
          ],
          "name": "stdout"
        }
      ]
    },
    {
      "cell_type": "code",
      "metadata": {
        "id": "P2AsG-7eE037",
        "colab_type": "code",
        "outputId": "ac931cb7-bfad-4c9c-9749-06b9265025df",
        "colab": {
          "base_uri": "https://localhost:8080/",
          "height": 34
        }
      },
      "source": [
        "a.flatten()"
      ],
      "execution_count": 0,
      "outputs": [
        {
          "output_type": "execute_result",
          "data": {
            "text/plain": [
              "array([ 0,  1,  2,  3,  4,  9,  8,  7,  6,  5, 14, 13, 12, 11, 10])"
            ]
          },
          "metadata": {
            "tags": []
          },
          "execution_count": 87
        }
      ]
    },
    {
      "cell_type": "code",
      "metadata": {
        "id": "ivnKZX_zluCj",
        "colab_type": "code",
        "outputId": "ca236458-773a-4d80-ec12-ed11c7b90e42",
        "colab": {
          "base_uri": "https://localhost:8080/",
          "height": 67
        }
      },
      "source": [
        "a_flat = a.flatten()\n",
        "\n",
        "a_flat[0] = 100\n",
        "a_flat\n",
        "\n",
        "print(a)"
      ],
      "execution_count": 0,
      "outputs": [
        {
          "output_type": "stream",
          "text": [
            "[[ 0  1  2  3  4]\n",
            " [ 9  8  7  6  5]\n",
            " [14 13 12 11 10]]\n"
          ],
          "name": "stdout"
        }
      ]
    },
    {
      "cell_type": "code",
      "metadata": {
        "id": "X5QLdRhMluAd",
        "colab_type": "code",
        "outputId": "78277b28-cdeb-4aa8-ab05-c260440ebe56",
        "colab": {
          "base_uri": "https://localhost:8080/",
          "height": 84
        }
      },
      "source": [
        "a_ravel = a.ravel()\n",
        "a_ravel\n",
        "\n",
        "a_ravel[0] = 100\n",
        "print(a)\n",
        "print(a_ravel)"
      ],
      "execution_count": 0,
      "outputs": [
        {
          "output_type": "stream",
          "text": [
            "[[100   1   2   3   4]\n",
            " [  9   8   7   6   5]\n",
            " [ 14  13  12  11  10]]\n",
            "[100   1   2   3   4   9   8   7   6   5  14  13  12  11  10]\n"
          ],
          "name": "stdout"
        }
      ]
    },
    {
      "cell_type": "code",
      "metadata": {
        "id": "1kZ0zTKUE0vd",
        "colab_type": "code",
        "outputId": "ddca6a03-161b-4bce-98e7-73f7f91d6e8d",
        "colab": {
          "base_uri": "https://localhost:8080/",
          "height": 1000
        }
      },
      "source": [
        "help(np.max)"
      ],
      "execution_count": 0,
      "outputs": [
        {
          "output_type": "stream",
          "text": [
            "Help on function amax in module numpy:\n",
            "\n",
            "amax(a, axis=None, out=None, keepdims=<no value>, initial=<no value>, where=<no value>)\n",
            "    Return the maximum of an array or maximum along an axis.\n",
            "    \n",
            "    Parameters\n",
            "    ----------\n",
            "    a : array_like\n",
            "        Input data.\n",
            "    axis : None or int or tuple of ints, optional\n",
            "        Axis or axes along which to operate.  By default, flattened input is\n",
            "        used.\n",
            "    \n",
            "        .. versionadded:: 1.7.0\n",
            "    \n",
            "        If this is a tuple of ints, the maximum is selected over multiple axes,\n",
            "        instead of a single axis or all the axes as before.\n",
            "    out : ndarray, optional\n",
            "        Alternative output array in which to place the result.  Must\n",
            "        be of the same shape and buffer length as the expected output.\n",
            "        See `ufuncs-output-type` for more details.\n",
            "    \n",
            "    keepdims : bool, optional\n",
            "        If this is set to True, the axes which are reduced are left\n",
            "        in the result as dimensions with size one. With this option,\n",
            "        the result will broadcast correctly against the input array.\n",
            "    \n",
            "        If the default value is passed, then `keepdims` will not be\n",
            "        passed through to the `amax` method of sub-classes of\n",
            "        `ndarray`, however any non-default value will be.  If the\n",
            "        sub-class' method does not implement `keepdims` any\n",
            "        exceptions will be raised.\n",
            "    \n",
            "    initial : scalar, optional\n",
            "        The minimum value of an output element. Must be present to allow\n",
            "        computation on empty slice. See `~numpy.ufunc.reduce` for details.\n",
            "    \n",
            "        .. versionadded:: 1.15.0\n",
            "    \n",
            "    where : array_like of bool, optional\n",
            "        Elements to compare for the maximum. See `~numpy.ufunc.reduce`\n",
            "        for details.\n",
            "    \n",
            "        .. versionadded:: 1.17.0\n",
            "    \n",
            "    Returns\n",
            "    -------\n",
            "    amax : ndarray or scalar\n",
            "        Maximum of `a`. If `axis` is None, the result is a scalar value.\n",
            "        If `axis` is given, the result is an array of dimension\n",
            "        ``a.ndim - 1``.\n",
            "    \n",
            "    See Also\n",
            "    --------\n",
            "    amin :\n",
            "        The minimum value of an array along a given axis, propagating any NaNs.\n",
            "    nanmax :\n",
            "        The maximum value of an array along a given axis, ignoring any NaNs.\n",
            "    maximum :\n",
            "        Element-wise maximum of two arrays, propagating any NaNs.\n",
            "    fmax :\n",
            "        Element-wise maximum of two arrays, ignoring any NaNs.\n",
            "    argmax :\n",
            "        Return the indices of the maximum values.\n",
            "    \n",
            "    nanmin, minimum, fmin\n",
            "    \n",
            "    Notes\n",
            "    -----\n",
            "    NaN values are propagated, that is if at least one item is NaN, the\n",
            "    corresponding max value will be NaN as well. To ignore NaN values\n",
            "    (MATLAB behavior), please use nanmax.\n",
            "    \n",
            "    Don't use `amax` for element-wise comparison of 2 arrays; when\n",
            "    ``a.shape[0]`` is 2, ``maximum(a[0], a[1])`` is faster than\n",
            "    ``amax(a, axis=0)``.\n",
            "    \n",
            "    Examples\n",
            "    --------\n",
            "    >>> a = np.arange(4).reshape((2,2))\n",
            "    >>> a\n",
            "    array([[0, 1],\n",
            "           [2, 3]])\n",
            "    >>> np.amax(a)           # Maximum of the flattened array\n",
            "    3\n",
            "    >>> np.amax(a, axis=0)   # Maxima along the first axis\n",
            "    array([2, 3])\n",
            "    >>> np.amax(a, axis=1)   # Maxima along the second axis\n",
            "    array([1, 3])\n",
            "    >>> np.amax(a, where=[False, True], initial=-1, axis=0)\n",
            "    array([-1,  3])\n",
            "    >>> b = np.arange(5, dtype=float)\n",
            "    >>> b[2] = np.NaN\n",
            "    >>> np.amax(b)\n",
            "    nan\n",
            "    >>> np.amax(b, where=~np.isnan(b), initial=-1)\n",
            "    4.0\n",
            "    >>> np.nanmax(b)\n",
            "    4.0\n",
            "    \n",
            "    You can use an initial value to compute the maximum of an empty slice, or\n",
            "    to initialize it to a different value:\n",
            "    \n",
            "    >>> np.max([[-50], [10]], axis=-1, initial=0)\n",
            "    array([ 0, 10])\n",
            "    \n",
            "    Notice that the initial value is used as one of the elements for which the\n",
            "    maximum is determined, unlike for the default argument Python's max\n",
            "    function, which is only used for empty iterables.\n",
            "    \n",
            "    >>> np.max([5], initial=6)\n",
            "    6\n",
            "    >>> max([5], default=6)\n",
            "    5\n",
            "\n"
          ],
          "name": "stdout"
        }
      ]
    },
    {
      "cell_type": "code",
      "metadata": {
        "id": "kl7s3pvkE0te",
        "colab_type": "code",
        "colab": {}
      },
      "source": [
        "np.all??"
      ],
      "execution_count": 0,
      "outputs": []
    },
    {
      "cell_type": "code",
      "metadata": {
        "id": "pLsKbIn1E0rZ",
        "colab_type": "code",
        "outputId": "05a55286-8adf-4d5e-9e38-fc71038f08fb",
        "colab": {
          "base_uri": "https://localhost:8080/",
          "height": 67
        }
      },
      "source": [
        "a"
      ],
      "execution_count": 0,
      "outputs": [
        {
          "output_type": "execute_result",
          "data": {
            "text/plain": [
              "array([[100,   1,   2,   3,   4],\n",
              "       [  9,   8,   7,   6,   5],\n",
              "       [ 14,  13,  12,  11,  10]])"
            ]
          },
          "metadata": {
            "tags": []
          },
          "execution_count": 96
        }
      ]
    },
    {
      "cell_type": "code",
      "metadata": {
        "id": "a99qIQsGE0pD",
        "colab_type": "code",
        "outputId": "229002f1-391b-473c-a425-d29646c2d209",
        "colab": {
          "base_uri": "https://localhost:8080/",
          "height": 1000
        }
      },
      "source": [
        "print(np.__doc__)"
      ],
      "execution_count": 0,
      "outputs": [
        {
          "output_type": "stream",
          "text": [
            "\n",
            "NumPy\n",
            "=====\n",
            "\n",
            "Provides\n",
            "  1. An array object of arbitrary homogeneous items\n",
            "  2. Fast mathematical operations over arrays\n",
            "  3. Linear Algebra, Fourier Transforms, Random Number Generation\n",
            "\n",
            "How to use the documentation\n",
            "----------------------------\n",
            "Documentation is available in two forms: docstrings provided\n",
            "with the code, and a loose standing reference guide, available from\n",
            "`the NumPy homepage <https://www.scipy.org>`_.\n",
            "\n",
            "We recommend exploring the docstrings using\n",
            "`IPython <https://ipython.org>`_, an advanced Python shell with\n",
            "TAB-completion and introspection capabilities.  See below for further\n",
            "instructions.\n",
            "\n",
            "The docstring examples assume that `numpy` has been imported as `np`::\n",
            "\n",
            "  >>> import numpy as np\n",
            "\n",
            "Code snippets are indicated by three greater-than signs::\n",
            "\n",
            "  >>> x = 42\n",
            "  >>> x = x + 1\n",
            "\n",
            "Use the built-in ``help`` function to view a function's docstring::\n",
            "\n",
            "  >>> help(np.sort)\n",
            "  ... # doctest: +SKIP\n",
            "\n",
            "For some objects, ``np.info(obj)`` may provide additional help.  This is\n",
            "particularly true if you see the line \"Help on ufunc object:\" at the top\n",
            "of the help() page.  Ufuncs are implemented in C, not Python, for speed.\n",
            "The native Python help() does not know how to view their help, but our\n",
            "np.info() function does.\n",
            "\n",
            "To search for documents containing a keyword, do::\n",
            "\n",
            "  >>> np.lookfor('keyword')\n",
            "  ... # doctest: +SKIP\n",
            "\n",
            "General-purpose documents like a glossary and help on the basic concepts\n",
            "of numpy are available under the ``doc`` sub-module::\n",
            "\n",
            "  >>> from numpy import doc\n",
            "  >>> help(doc)\n",
            "  ... # doctest: +SKIP\n",
            "\n",
            "Available subpackages\n",
            "---------------------\n",
            "doc\n",
            "    Topical documentation on broadcasting, indexing, etc.\n",
            "lib\n",
            "    Basic functions used by several sub-packages.\n",
            "random\n",
            "    Core Random Tools\n",
            "linalg\n",
            "    Core Linear Algebra Tools\n",
            "fft\n",
            "    Core FFT routines\n",
            "polynomial\n",
            "    Polynomial tools\n",
            "testing\n",
            "    NumPy testing tools\n",
            "f2py\n",
            "    Fortran to Python Interface Generator.\n",
            "distutils\n",
            "    Enhancements to distutils with support for\n",
            "    Fortran compilers support and more.\n",
            "\n",
            "Utilities\n",
            "---------\n",
            "test\n",
            "    Run numpy unittests\n",
            "show_config\n",
            "    Show numpy build configuration\n",
            "dual\n",
            "    Overwrite certain functions with high-performance Scipy tools\n",
            "matlib\n",
            "    Make everything matrices.\n",
            "__version__\n",
            "    NumPy version string\n",
            "\n",
            "Viewing documentation using IPython\n",
            "-----------------------------------\n",
            "Start IPython with the NumPy profile (``ipython -p numpy``), which will\n",
            "import `numpy` under the alias `np`.  Then, use the ``cpaste`` command to\n",
            "paste examples into the shell.  To see which functions are available in\n",
            "`numpy`, type ``np.<TAB>`` (where ``<TAB>`` refers to the TAB key), or use\n",
            "``np.*cos*?<ENTER>`` (where ``<ENTER>`` refers to the ENTER key) to narrow\n",
            "down the list.  To view the docstring for a function, use\n",
            "``np.cos?<ENTER>`` (to view the docstring) and ``np.cos??<ENTER>`` (to view\n",
            "the source code).\n",
            "\n",
            "Copies vs. in-place operation\n",
            "-----------------------------\n",
            "Most of the functions in `numpy` return a copy of the array argument\n",
            "(e.g., `np.sort`).  In-place versions of these functions are often\n",
            "available as array methods, i.e. ``x = np.array([1,2,3]); x.sort()``.\n",
            "Exceptions to this rule are documented.\n",
            "\n",
            "\n"
          ],
          "name": "stdout"
        }
      ]
    },
    {
      "cell_type": "code",
      "metadata": {
        "id": "WWOH0Cw0E0m6",
        "colab_type": "code",
        "colab": {}
      },
      "source": [
        "len??"
      ],
      "execution_count": 0,
      "outputs": []
    },
    {
      "cell_type": "code",
      "metadata": {
        "id": "Q2KOO0M8E0kp",
        "colab_type": "code",
        "colab": {}
      },
      "source": [
        "len?"
      ],
      "execution_count": 0,
      "outputs": []
    },
    {
      "cell_type": "code",
      "metadata": {
        "id": "_mSrKcU_E0id",
        "colab_type": "code",
        "outputId": "7c0f6e91-2b10-4a50-e95c-9c11ccf591f4",
        "colab": {
          "base_uri": "https://localhost:8080/",
          "height": 67
        }
      },
      "source": [
        "a"
      ],
      "execution_count": 0,
      "outputs": [
        {
          "output_type": "execute_result",
          "data": {
            "text/plain": [
              "array([[100,   1,   2,   3,   4],\n",
              "       [  9,   8,   7,   6,   5],\n",
              "       [ 14,  13,  12,  11,  10]])"
            ]
          },
          "metadata": {
            "tags": []
          },
          "execution_count": 106
        }
      ]
    },
    {
      "cell_type": "code",
      "metadata": {
        "id": "zMi2gJ0YE0gJ",
        "colab_type": "code",
        "colab": {}
      },
      "source": [
        "np.save('saved_array', a)"
      ],
      "execution_count": 0,
      "outputs": []
    },
    {
      "cell_type": "code",
      "metadata": {
        "id": "uiqzgCDpE0d2",
        "colab_type": "code",
        "outputId": "ed830330-d376-4a87-a498-fe41d16bc6a7",
        "colab": {
          "base_uri": "https://localhost:8080/",
          "height": 67
        }
      },
      "source": [
        "b = np.load('saved_array.npy')\n",
        "print(b)"
      ],
      "execution_count": 0,
      "outputs": [
        {
          "output_type": "stream",
          "text": [
            "[[100   1   2   3   4]\n",
            " [  9   8   7   6   5]\n",
            " [ 14  13  12  11  10]]\n"
          ],
          "name": "stdout"
        }
      ]
    },
    {
      "cell_type": "code",
      "metadata": {
        "id": "j5TJUlXVE0bZ",
        "colab_type": "code",
        "colab": {}
      },
      "source": [
        "np.savetxt('txt_array.csv', a)"
      ],
      "execution_count": 0,
      "outputs": []
    },
    {
      "cell_type": "code",
      "metadata": {
        "id": "I-7horJ0mrwA",
        "colab_type": "code",
        "outputId": "24b7d20b-ab6a-42cb-ae1d-dbecdc4eb6c0",
        "colab": {
          "base_uri": "https://localhost:8080/",
          "height": 67
        }
      },
      "source": [
        "np.loadtxt('txt_array.csv')"
      ],
      "execution_count": 0,
      "outputs": [
        {
          "output_type": "execute_result",
          "data": {
            "text/plain": [
              "array([[100.,   1.,   2.,   3.,   4.],\n",
              "       [  9.,   8.,   7.,   6.,   5.],\n",
              "       [ 14.,  13.,  12.,  11.,  10.]])"
            ]
          },
          "metadata": {
            "tags": []
          },
          "execution_count": 110
        }
      ]
    },
    {
      "cell_type": "code",
      "metadata": {
        "id": "Cig4G81ymrt0",
        "colab_type": "code",
        "outputId": "a311b0f9-2b38-4f70-f4c2-a9aa4654a40f",
        "colab": {
          "base_uri": "https://localhost:8080/",
          "height": 87
        }
      },
      "source": [
        "import pandas as pd\n",
        "\n",
        "x =pd.read_csv('txt_array.csv').values\n",
        "x"
      ],
      "execution_count": 0,
      "outputs": [
        {
          "output_type": "execute_result",
          "data": {
            "text/plain": [
              "array([['9.000000000000000000e+00 8.000000000000000000e+00 7.000000000000000000e+00 6.000000000000000000e+00 5.000000000000000000e+00'],\n",
              "       ['1.400000000000000000e+01 1.300000000000000000e+01 1.200000000000000000e+01 1.100000000000000000e+01 1.000000000000000000e+01']],\n",
              "      dtype=object)"
            ]
          },
          "metadata": {
            "tags": []
          },
          "execution_count": 111
        }
      ]
    },
    {
      "cell_type": "code",
      "metadata": {
        "id": "65wo26Ekmrri",
        "colab_type": "code",
        "outputId": "d69148ac-66eb-4fa5-aec7-b4d6281166d6",
        "colab": {
          "base_uri": "https://localhost:8080/",
          "height": 84
        }
      },
      "source": [
        "df = pd.DataFrame(a)\n",
        "print(df)\n",
        "df.to_csv('pd.csv')"
      ],
      "execution_count": 0,
      "outputs": [
        {
          "output_type": "stream",
          "text": [
            "     0   1   2   3   4\n",
            "0  100   1   2   3   4\n",
            "1    9   8   7   6   5\n",
            "2   14  13  12  11  10\n"
          ],
          "name": "stdout"
        }
      ]
    },
    {
      "cell_type": "code",
      "metadata": {
        "id": "kOqWgyBdmrpZ",
        "colab_type": "code",
        "outputId": "527be053-d4d8-4fd6-d0a5-c958f26cb9c8",
        "colab": {
          "base_uri": "https://localhost:8080/",
          "height": 136
        }
      },
      "source": [
        "data = pd.read_csv('pd.csv')\n",
        "data"
      ],
      "execution_count": 0,
      "outputs": [
        {
          "output_type": "execute_result",
          "data": {
            "text/html": [
              "<div>\n",
              "<style scoped>\n",
              "    .dataframe tbody tr th:only-of-type {\n",
              "        vertical-align: middle;\n",
              "    }\n",
              "\n",
              "    .dataframe tbody tr th {\n",
              "        vertical-align: top;\n",
              "    }\n",
              "\n",
              "    .dataframe thead th {\n",
              "        text-align: right;\n",
              "    }\n",
              "</style>\n",
              "<table border=\"1\" class=\"dataframe\">\n",
              "  <thead>\n",
              "    <tr style=\"text-align: right;\">\n",
              "      <th></th>\n",
              "      <th>Unnamed: 0</th>\n",
              "      <th>0</th>\n",
              "      <th>1</th>\n",
              "      <th>2</th>\n",
              "      <th>3</th>\n",
              "      <th>4</th>\n",
              "    </tr>\n",
              "  </thead>\n",
              "  <tbody>\n",
              "    <tr>\n",
              "      <th>0</th>\n",
              "      <td>0</td>\n",
              "      <td>100</td>\n",
              "      <td>1</td>\n",
              "      <td>2</td>\n",
              "      <td>3</td>\n",
              "      <td>4</td>\n",
              "    </tr>\n",
              "    <tr>\n",
              "      <th>1</th>\n",
              "      <td>1</td>\n",
              "      <td>9</td>\n",
              "      <td>8</td>\n",
              "      <td>7</td>\n",
              "      <td>6</td>\n",
              "      <td>5</td>\n",
              "    </tr>\n",
              "    <tr>\n",
              "      <th>2</th>\n",
              "      <td>2</td>\n",
              "      <td>14</td>\n",
              "      <td>13</td>\n",
              "      <td>12</td>\n",
              "      <td>11</td>\n",
              "      <td>10</td>\n",
              "    </tr>\n",
              "  </tbody>\n",
              "</table>\n",
              "</div>"
            ],
            "text/plain": [
              "   Unnamed: 0    0   1   2   3   4\n",
              "0           0  100   1   2   3   4\n",
              "1           1    9   8   7   6   5\n",
              "2           2   14  13  12  11  10"
            ]
          },
          "metadata": {
            "tags": []
          },
          "execution_count": 114
        }
      ]
    },
    {
      "cell_type": "code",
      "metadata": {
        "id": "5rBStlOwmrhF",
        "colab_type": "code",
        "outputId": "b3ac8575-569e-4068-8941-5979e8e3a994",
        "colab": {
          "base_uri": "https://localhost:8080/",
          "height": 84
        }
      },
      "source": [
        "np.savetxt('np.csv', a, fmt = '%.2f', delimiter=',', header = '1, 2, 3, 4')\n",
        "!cat np.csv"
      ],
      "execution_count": 0,
      "outputs": [
        {
          "output_type": "stream",
          "text": [
            "# 1, 2, 3, 4\n",
            "100.00,1.00,2.00,3.00,4.00\n",
            "9.00,8.00,7.00,6.00,5.00\n",
            "14.00,13.00,12.00,11.00,10.00\n"
          ],
          "name": "stdout"
        }
      ]
    },
    {
      "cell_type": "code",
      "metadata": {
        "id": "71w2djoeqa_H",
        "colab_type": "code",
        "outputId": "6587ab5f-c341-42b1-c7b9-097887fa0b14",
        "colab": {
          "base_uri": "https://localhost:8080/",
          "height": 50
        }
      },
      "source": [
        "a = np10*rng.random(10)\n",
        "a"
      ],
      "execution_count": 0,
      "outputs": [
        {
          "output_type": "execute_result",
          "data": {
            "text/plain": [
              "array([8.27103937, 9.33438471, 1.44994695, 7.45580211, 1.39351394,\n",
              "       9.06528756, 2.26114434, 8.5323975 , 3.06317866, 9.69830368])"
            ]
          },
          "metadata": {
            "tags": []
          },
          "execution_count": 117
        }
      ]
    },
    {
      "cell_type": "code",
      "metadata": {
        "id": "LhXiG7nhqa84",
        "colab_type": "code",
        "outputId": "d9d9dac9-6691-4c32-ead9-f97ef50d1554",
        "colab": {
          "base_uri": "https://localhost:8080/",
          "height": 284
        }
      },
      "source": [
        "import matplotlib.pyplot as plt\n",
        "%matplotlib inline\n",
        "\n",
        "plt.plot(a)"
      ],
      "execution_count": 0,
      "outputs": [
        {
          "output_type": "execute_result",
          "data": {
            "text/plain": [
              "[<matplotlib.lines.Line2D at 0x7fd86acc4b00>]"
            ]
          },
          "metadata": {
            "tags": []
          },
          "execution_count": 119
        },
        {
          "output_type": "display_data",
          "data": {
            "image/png": "[encoded data removed]",
            "text/plain": [
              "<Figure size 432x288 with 1 Axes>"
            ]
          },
          "metadata": {
            "tags": [],
            "needs_background": "light"
          }
        }
      ]
    },
    {
      "cell_type": "code",
      "metadata": {
        "id": "Cr_k2Zviqa6g",
        "colab_type": "code",
        "outputId": "2b7a9b07-b984-42e1-e70a-6d08580c9a3e",
        "colab": {
          "base_uri": "https://localhost:8080/",
          "height": 282
        }
      },
      "source": [
        "x = np.linspace(0, 10, 3)\n",
        "y = np.linspace(0, 10, 3)\n",
        "\n",
        "plt.plot(x, y, 'blue')\n",
        "plt.plot(x, y, 'o')"
      ],
      "execution_count": 0,
      "outputs": [
        {
          "output_type": "execute_result",
          "data": {
            "text/plain": [
              "[<matplotlib.lines.Line2D at 0x7fd86a686ac8>]"
            ]
          },
          "metadata": {
            "tags": []
          },
          "execution_count": 124
        },
        {
          "output_type": "display_data",
          "data": {
            "image/png": "[encoded data removed]",
            "text/plain": [
              "<Figure size 432x288 with 1 Axes>"
            ]
          },
          "metadata": {
            "tags": [],
            "needs_background": "light"
          }
        }
      ]
    },
    {
      "cell_type": "code",
      "metadata": {
        "id": "ZcH7ow6Pqa4f",
        "colab_type": "code",
        "outputId": "70b248b2-0d5e-4d1f-c210-7c615cf15cf2",
        "colab": {
          "base_uri": "https://localhost:8080/",
          "height": 336
        }
      },
      "source": [
        "from mpl_toolkits.mplot3d import Axes3D\n",
        "fig = plt.figure()\n",
        "ax = Axes3D(fig)\n",
        "X = np.arange(-5, 5, 0.15)\n",
        "Y = np.arange(-5, 5, 0.15)\n",
        "X, Y = np.meshgrid(X, Y)\n",
        "R = np.sqrt(X**2 + Y**2)\n",
        "Z = np.sin(R)\n",
        "\n",
        "ax.plot_surface(X, Y, Z, rstride=1, cstride=1, cmap='viridis')"
      ],
      "execution_count": 0,
      "outputs": [
        {
          "output_type": "execute_result",
          "data": {
            "text/plain": [
              "<mpl_toolkits.mplot3d.art3d.Poly3DCollection at 0x7fd86a5c32b0>"
            ]
          },
          "metadata": {
            "tags": []
          },
          "execution_count": 125
        },
        {
          "output_type": "display_data",
          "data": {
            "image/png": "[encoded data removed]",
            "text/plain": [
              "<Figure size 432x288 with 1 Axes>"
            ]
          },
          "metadata": {
            "tags": [],
            "needs_background": "light"
          }
        }
      ]
    }
  ]
}
