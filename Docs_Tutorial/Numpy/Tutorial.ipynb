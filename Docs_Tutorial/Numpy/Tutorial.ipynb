{
  "nbformat": 4,
  "nbformat_minor": 0,
  "metadata": {
    "colab": {
      "name": "Numpy_Tutorial.ipynb",
      "provenance": [],
      "collapsed_sections": [
        "lhwggDCRCeBk",
        "IYtA9zYCCd_Z",
        "QD2Zti4oC-3Q"
      ],
      "authorship_tag": "ABX9TyOFiAxMxulJGyUD2/mIKmNl",
      "include_colab_link": true
    },
    "kernelspec": {
      "name": "python3",
      "display_name": "Python 3"
    }
  },
  "cells": [
    {
      "cell_type": "markdown",
      "metadata": {
        "id": "view-in-github",
        "colab_type": "text"
      },
      "source": [
        "<a href=\"https://colab.research.google.com/github/gimquokka/ML/blob/master/Numpy_Tutorial.ipynb\" target=\"_parent\"><img src=\"https://colab.research.google.com/assets/colab-badge.svg\" alt=\"Open In Colab\"/></a>"
      ]
    },
    {
      "cell_type": "markdown",
      "metadata": {
        "id": "ffjAfYIoCeDw",
        "colab_type": "text"
      },
      "source": [
        "# NumPy Tutorial - NumPy basics"
      ]
    },
    {
      "cell_type": "code",
      "metadata": {
        "id": "9Au4URt8DbyB",
        "colab_type": "code",
        "colab": {}
      },
      "source": [
        "import numpy as np\n",
        "from io import StringIO"
      ],
      "execution_count": 0,
      "outputs": []
    },
    {
      "cell_type": "markdown",
      "metadata": {
        "id": "lhwggDCRCeBk",
        "colab_type": "text"
      },
      "source": [
        "## Data types"
      ]
    },
    {
      "cell_type": "code",
      "metadata": {
        "id": "PHhizCcHDYE9",
        "colab_type": "code",
        "outputId": "5f083218-ac8d-4d1f-c3cc-5d38db1ac8e3",
        "colab": {
          "base_uri": "https://localhost:8080/"
        }
      },
      "source": [
        "x = np.array([1, 2, 3], dtype= 'uint8')\n",
        "\n",
        "print(x.astype(float).dtype)\n",
        "\n",
        "np.int8(x).dtype??"
      ],
      "execution_count": 0,
      "outputs": [
        {
          "output_type": "stream",
          "text": [
            "float64\n",
            "Object `dtype` not found.\n"
          ],
          "name": "stdout"
        }
      ]
    },
    {
      "cell_type": "code",
      "metadata": {
        "id": "_J9dvhp0DYCx",
        "colab_type": "code",
        "outputId": "bc8bfdbf-8db0-45ac-ccfb-83849f1c2506",
        "colab": {
          "base_uri": "https://localhost:8080/"
        }
      },
      "source": [
        "d = np.dtype(int)\n",
        "np.issubdtype(d, np.integer)\n",
        "\n",
        "# np.integer?\n",
        "np.issubdtype(d, np.float)\n",
        "np.float?\n"
      ],
      "execution_count": 0,
      "outputs": [
        {
          "output_type": "stream",
          "text": [
            "/usr/local/lib/python3.6/dist-packages/ipykernel_launcher.py:5: FutureWarning: Conversion of the second argument of issubdtype from `float` to `np.floating` is deprecated. In future, it will be treated as `np.float64 == np.dtype(float).type`.\n",
            "  \"\"\"\n"
          ],
          "name": "stderr"
        }
      ]
    },
    {
      "cell_type": "code",
      "metadata": {
        "id": "rn2kyqjpDX_z",
        "colab_type": "code",
        "outputId": "f9e642d8-d80b-4dbd-e70c-c185d4e5a112",
        "colab": {
          "base_uri": "https://localhost:8080/"
        }
      },
      "source": [
        "a = np.array([1, 2, 3])\n",
        "a[1] == 2"
      ],
      "execution_count": 0,
      "outputs": [
        {
          "output_type": "execute_result",
          "data": {
            "text/plain": [
              "True"
            ]
          },
          "metadata": {
            "tags": []
          },
          "execution_count": 4
        }
      ]
    },
    {
      "cell_type": "code",
      "metadata": {
        "id": "j-zc2eqIDX9r",
        "colab_type": "code",
        "outputId": "b586a257-f91b-4d51-c19b-999cdfc8af79",
        "colab": {
          "base_uri": "https://localhost:8080/"
        }
      },
      "source": [
        "print(np.power(100, 50, dtype = np.int64))\n",
        "print(np.power(100, 50, dtype = np.int32))\n",
        "\n",
        "print(np.power(100, 50, dtype = np.float64))\n",
        "\n",
        "np.iinfo(np.int32)\n",
        "np.iinfo(np.int64)"
      ],
      "execution_count": 0,
      "outputs": [
        {
          "output_type": "stream",
          "text": [
            "0\n",
            "0\n",
            "1e+100\n"
          ],
          "name": "stdout"
        },
        {
          "output_type": "execute_result",
          "data": {
            "text/plain": [
              "iinfo(min=-9223372036854775808, max=9223372036854775807, dtype=int64)"
            ]
          },
          "metadata": {
            "tags": []
          },
          "execution_count": 5
        }
      ]
    },
    {
      "cell_type": "code",
      "metadata": {
        "id": "UXSdyAaiDX7a",
        "colab_type": "code",
        "outputId": "f7f3e888-d659-4d3d-ed84-ce2548556fb8",
        "colab": {
          "base_uri": "https://localhost:8080/"
        }
      },
      "source": [
        "np.finfo(np.longdouble)"
      ],
      "execution_count": 0,
      "outputs": [
        {
          "output_type": "execute_result",
          "data": {
            "text/plain": [
              "finfo(resolution=1e-18, min=-1.189731495357231765e+4932, max=1.189731495357231765e+4932, dtype=float128)"
            ]
          },
          "metadata": {
            "tags": []
          },
          "execution_count": 6
        }
      ]
    },
    {
      "cell_type": "code",
      "metadata": {
        "id": "rTP5KBqNDX5C",
        "colab_type": "code",
        "outputId": "894844a3-e332-4ec0-b8d7-98d61e8d70b3",
        "colab": {
          "base_uri": "https://localhost:8080/"
        }
      },
      "source": [
        "1 + np.finfo(np.longdouble).eps"
      ],
      "execution_count": 0,
      "outputs": [
        {
          "output_type": "execute_result",
          "data": {
            "text/plain": [
              "1.0000000000000000001"
            ]
          },
          "metadata": {
            "tags": []
          },
          "execution_count": 7
        }
      ]
    },
    {
      "cell_type": "markdown",
      "metadata": {
        "id": "IYtA9zYCCd_Z",
        "colab_type": "text"
      },
      "source": [
        "## Array creation"
      ]
    },
    {
      "cell_type": "code",
      "metadata": {
        "id": "xLGtQFYbP7ag",
        "colab_type": "code",
        "outputId": "5ae6d6a0-2c22-45de-de72-9f722074ccc9",
        "colab": {
          "base_uri": "https://localhost:8080/"
        }
      },
      "source": [
        "x = np.array([[1, 2,3], (1, 2, 3),1,2])\n",
        "print(x)\n",
        "print(x[3])"
      ],
      "execution_count": 0,
      "outputs": [
        {
          "output_type": "stream",
          "text": [
            "[list([1, 2, 3]) (1, 2, 3) 1 2]\n",
            "2\n"
          ],
          "name": "stdout"
        }
      ]
    },
    {
      "cell_type": "code",
      "metadata": {
        "id": "-dDLA7lEP7Yb",
        "colab_type": "code",
        "outputId": "94106e5a-ef77-472f-9062-6dfa6d339751",
        "colab": {
          "base_uri": "https://localhost:8080/"
        }
      },
      "source": [
        "x = np.array([[1+1j, 1+13j]])\n",
        "print(x)"
      ],
      "execution_count": 0,
      "outputs": [
        {
          "output_type": "stream",
          "text": [
            "[[1. +1.j 1.+13.j]]\n"
          ],
          "name": "stdout"
        }
      ]
    },
    {
      "cell_type": "code",
      "metadata": {
        "id": "ThhlNVwmP7WF",
        "colab_type": "code",
        "outputId": "5eeb56fd-bc4a-4535-bd86-3225c3f8c3f5",
        "colab": {
          "base_uri": "https://localhost:8080/"
        }
      },
      "source": [
        "np.indices([10,4])"
      ],
      "execution_count": 0,
      "outputs": [
        {
          "output_type": "execute_result",
          "data": {
            "text/plain": [
              "array([[[0, 0, 0, 0],\n",
              "        [1, 1, 1, 1],\n",
              "        [2, 2, 2, 2],\n",
              "        [3, 3, 3, 3],\n",
              "        [4, 4, 4, 4],\n",
              "        [5, 5, 5, 5],\n",
              "        [6, 6, 6, 6],\n",
              "        [7, 7, 7, 7],\n",
              "        [8, 8, 8, 8],\n",
              "        [9, 9, 9, 9]],\n",
              "\n",
              "       [[0, 1, 2, 3],\n",
              "        [0, 1, 2, 3],\n",
              "        [0, 1, 2, 3],\n",
              "        [0, 1, 2, 3],\n",
              "        [0, 1, 2, 3],\n",
              "        [0, 1, 2, 3],\n",
              "        [0, 1, 2, 3],\n",
              "        [0, 1, 2, 3],\n",
              "        [0, 1, 2, 3],\n",
              "        [0, 1, 2, 3]]])"
            ]
          },
          "metadata": {
            "tags": []
          },
          "execution_count": 10
        }
      ]
    },
    {
      "cell_type": "code",
      "metadata": {
        "id": "Q0CkpNqgP7Oe",
        "colab_type": "code",
        "colab": {}
      },
      "source": [
        ""
      ],
      "execution_count": 0,
      "outputs": []
    },
    {
      "cell_type": "code",
      "metadata": {
        "id": "LiBM1e9sP7MY",
        "colab_type": "code",
        "colab": {}
      },
      "source": [
        ""
      ],
      "execution_count": 0,
      "outputs": []
    },
    {
      "cell_type": "code",
      "metadata": {
        "id": "0i16tM07P7J8",
        "colab_type": "code",
        "colab": {}
      },
      "source": [
        ""
      ],
      "execution_count": 0,
      "outputs": []
    },
    {
      "cell_type": "markdown",
      "metadata": {
        "id": "MCZ1bn16Cd8q",
        "colab_type": "text"
      },
      "source": [
        "## I/O with Numpy"
      ]
    },
    {
      "cell_type": "code",
      "metadata": {
        "id": "MyR305Bk7H9Z",
        "colab_type": "code",
        "outputId": "b10d4e73-20ee-45fb-8809-5c9de4bd17ad",
        "colab": {
          "base_uri": "https://localhost:8080/",
          "height": 50
        }
      },
      "source": [
        "data = u'1, 2, 3\\n4, 5, 6'\n",
        "\n",
        "np.genfromtxt(StringIO(data))"
      ],
      "execution_count": 0,
      "outputs": [
        {
          "output_type": "execute_result",
          "data": {
            "text/plain": [
              "array([[nan, nan,  3.],\n",
              "       [nan, nan,  6.]])"
            ]
          },
          "metadata": {
            "tags": []
          },
          "execution_count": 11
        }
      ]
    },
    {
      "cell_type": "code",
      "metadata": {
        "id": "AxNzxo4y7H68",
        "colab_type": "code",
        "outputId": "6d68ff92-bff6-44c1-ebe4-f809a4374637",
        "colab": {
          "base_uri": "https://localhost:8080/",
          "height": 67
        }
      },
      "source": [
        "data = u\"  1  2  3\\n  4  5 67\\n890123  4\"\n",
        "np.genfromtxt(StringIO(data), delimiter=3)"
      ],
      "execution_count": 0,
      "outputs": [
        {
          "output_type": "execute_result",
          "data": {
            "text/plain": [
              "array([[  1.,   2.,   3.],\n",
              "       [  4.,   5.,  67.],\n",
              "       [890., 123.,   4.]])"
            ]
          },
          "metadata": {
            "tags": []
          },
          "execution_count": 12
        }
      ]
    },
    {
      "cell_type": "code",
      "metadata": {
        "id": "7xg_ilon7H4m",
        "colab_type": "code",
        "outputId": "2b6d5cc3-4bab-4318-b6d7-cdf5e8d3975c",
        "colab": {
          "base_uri": "https://localhost:8080/",
          "height": 67
        }
      },
      "source": [
        "data = u\"123456789\\n   4  7 9\\n   4567 9\"\n",
        "np.genfromtxt(StringIO(data), delimiter=(4, 3, 2))"
      ],
      "execution_count": 0,
      "outputs": [
        {
          "output_type": "execute_result",
          "data": {
            "text/plain": [
              "array([[1234.,  567.,   89.],\n",
              "       [   4.,    7.,    9.],\n",
              "       [   4.,  567.,    9.]])"
            ]
          },
          "metadata": {
            "tags": []
          },
          "execution_count": 13
        }
      ]
    },
    {
      "cell_type": "code",
      "metadata": {
        "id": "9GgmN6Gv7Hun",
        "colab_type": "code",
        "outputId": "f64c6c6b-4b2d-4fd7-81eb-4db7cfc532a5",
        "colab": {
          "base_uri": "https://localhost:8080/",
          "height": 50
        }
      },
      "source": [
        "data = u'1, abc  , 1 \\n 3, xxx, 23113 '\n",
        "np.genfromtxt(StringIO(data), delimiter=',', dtype='|U5')"
      ],
      "execution_count": 0,
      "outputs": [
        {
          "output_type": "execute_result",
          "data": {
            "text/plain": [
              "array([['1', ' abc ', ' 1'],\n",
              "       ['3', ' xxx', ' 2311']], dtype='<U5')"
            ]
          },
          "metadata": {
            "tags": []
          },
          "execution_count": 14
        }
      ]
    },
    {
      "cell_type": "code",
      "metadata": {
        "id": "Bv1reMIC_7_A",
        "colab_type": "code",
        "outputId": "78346ccf-6da0-40eb-e2f2-7c363773aded",
        "colab": {
          "base_uri": "https://localhost:8080/",
          "height": 50
        }
      },
      "source": [
        "data = u'1, abc  , 1 \\n 3, xxx, 23113 '\n",
        "np.genfromtxt(StringIO(data), delimiter=',', dtype='|U5', autostrip='True')"
      ],
      "execution_count": 0,
      "outputs": [
        {
          "output_type": "execute_result",
          "data": {
            "text/plain": [
              "array([['1', 'abc', '1'],\n",
              "       ['3', 'xxx', '23113']], dtype='<U5')"
            ]
          },
          "metadata": {
            "tags": []
          },
          "execution_count": 15
        }
      ]
    },
    {
      "cell_type": "code",
      "metadata": {
        "id": "aupbEoni_78z",
        "colab_type": "code",
        "colab": {}
      },
      "source": [
        "data = \"\"\"\n",
        "# Hello !\n",
        "# Skip me too !\n",
        "1, 2\n",
        "3, 4\n",
        "5, 6\n",
        "#What the fuck!\n",
        "5, 8\n",
        "# Hi, there?\n",
        "\"\"\"\n",
        "# print(np.dtype(data))\n",
        "?np.genfromtxt(StringIO(data), delimiter=\",\")"
      ],
      "execution_count": 0,
      "outputs": []
    },
    {
      "cell_type": "code",
      "metadata": {
        "id": "ZtR2g5d7_76l",
        "colab_type": "code",
        "outputId": "e8672804-e1f7-41a4-fb7c-03776e26ce63",
        "colab": {
          "base_uri": "https://localhost:8080/",
          "height": 185
        }
      },
      "source": [
        "data = u\"\\n\".join(str(i) for i in range(10))\n",
        "print(data)"
      ],
      "execution_count": 0,
      "outputs": [
        {
          "output_type": "stream",
          "text": [
            "0\n",
            "1\n",
            "2\n",
            "3\n",
            "4\n",
            "5\n",
            "6\n",
            "7\n",
            "8\n",
            "9\n"
          ],
          "name": "stdout"
        }
      ]
    },
    {
      "cell_type": "code",
      "metadata": {
        "id": "QQOTvzsj_74n",
        "colab_type": "code",
        "outputId": "2b305cd3-ae95-4e13-cd30-783c074a1606",
        "colab": {
          "base_uri": "https://localhost:8080/",
          "height": 34
        }
      },
      "source": [
        "np.genfromtxt(StringIO(data))"
      ],
      "execution_count": 0,
      "outputs": [
        {
          "output_type": "execute_result",
          "data": {
            "text/plain": [
              "array([0., 1., 2., 3., 4., 5., 6., 7., 8., 9.])"
            ]
          },
          "metadata": {
            "tags": []
          },
          "execution_count": 18
        }
      ]
    },
    {
      "cell_type": "code",
      "metadata": {
        "id": "Z19-pYuS_72T",
        "colab_type": "code",
        "outputId": "ebe9fc7e-da6a-4e86-c1a4-c9e086387417",
        "colab": {
          "base_uri": "https://localhost:8080/",
          "height": 34
        }
      },
      "source": [
        "np.genfromtxt(StringIO(data), skip_header=2, skip_footer=2)"
      ],
      "execution_count": 0,
      "outputs": [
        {
          "output_type": "execute_result",
          "data": {
            "text/plain": [
              "array([2., 3., 4., 5., 6., 7.])"
            ]
          },
          "metadata": {
            "tags": []
          },
          "execution_count": 19
        }
      ]
    },
    {
      "cell_type": "code",
      "metadata": {
        "id": "Mrld_L5vF9yd",
        "colab_type": "code",
        "outputId": "5e0766e4-37ae-41dd-ce79-4c4b8bb7578f",
        "colab": {
          "base_uri": "https://localhost:8080/",
          "height": 34
        }
      },
      "source": [
        "data = u'1 2 3 4\\n5 6 7 8'\n",
        "np.genfromtxt(StringIO(data), names = 'a, b, c,d', usecols = ('a', 'c'))"
      ],
      "execution_count": 0,
      "outputs": [
        {
          "output_type": "execute_result",
          "data": {
            "text/plain": [
              "array([(1., 3.), (5., 7.)], dtype=[('a', '<f8'), ('c', '<f8')])"
            ]
          },
          "metadata": {
            "tags": []
          },
          "execution_count": 20
        }
      ]
    },
    {
      "cell_type": "code",
      "metadata": {
        "id": "pLH7izOYF9vy",
        "colab_type": "code",
        "outputId": "8eb8ea51-cdce-4658-a2d8-ac0abe7465f5",
        "colab": {
          "base_uri": "https://localhost:8080/",
          "height": 50
        }
      },
      "source": [
        "np.genfromtxt(StringIO(data), usecols=[0, -1])"
      ],
      "execution_count": 0,
      "outputs": [
        {
          "output_type": "execute_result",
          "data": {
            "text/plain": [
              "array([[1., 4.],\n",
              "       [5., 8.]])"
            ]
          },
          "metadata": {
            "tags": []
          },
          "execution_count": 21
        }
      ]
    },
    {
      "cell_type": "code",
      "metadata": {
        "id": "ndbeLEGtF9tc",
        "colab_type": "code",
        "colab": {}
      },
      "source": [
        "?np.dtype(str)"
      ],
      "execution_count": 0,
      "outputs": []
    },
    {
      "cell_type": "code",
      "metadata": {
        "id": "lm_SdcFQF9pK",
        "colab_type": "code",
        "outputId": "a0b4e682-26aa-4e4b-c0ab-8a97223eaa71",
        "colab": {
          "base_uri": "https://localhost:8080/",
          "height": 50
        }
      },
      "source": [
        "data = StringIO('1 2 3 3\\n 4 5 6 6')\n",
        "np.genfromtxt(data, dtype=[(_, int) for _ in 'abcd'])"
      ],
      "execution_count": 0,
      "outputs": [
        {
          "output_type": "execute_result",
          "data": {
            "text/plain": [
              "array([(1, 2, 3, 3), (4, 5, 6, 6)],\n",
              "      dtype=[('a', '<i8'), ('b', '<i8'), ('c', '<i8'), ('d', '<i8')])"
            ]
          },
          "metadata": {
            "tags": []
          },
          "execution_count": 23
        }
      ]
    },
    {
      "cell_type": "code",
      "metadata": {
        "id": "AI-oXN2kF9nR",
        "colab_type": "code",
        "outputId": "273f560d-795b-4973-ee86-1ff3391975aa",
        "colab": {
          "base_uri": "https://localhost:8080/",
          "height": 87
        }
      },
      "source": [
        "np.genfromtxt(data, names=\"1, 2, 3, 4\")"
      ],
      "execution_count": 0,
      "outputs": [
        {
          "output_type": "stream",
          "text": [
            "/usr/local/lib/python3.6/dist-packages/ipykernel_launcher.py:1: UserWarning: genfromtxt: Empty input file: \"<_io.StringIO object at 0x7f2ac317b9d8>\"\n",
            "  \"\"\"Entry point for launching an IPython kernel.\n"
          ],
          "name": "stderr"
        },
        {
          "output_type": "execute_result",
          "data": {
            "text/plain": [
              "array([], dtype=[('1', '<f8'), ('2', '<f8'), ('3', '<f8'), ('4', '<f8')])"
            ]
          },
          "metadata": {
            "tags": []
          },
          "execution_count": 24
        }
      ]
    },
    {
      "cell_type": "code",
      "metadata": {
        "id": "sHHiOoouF9k5",
        "colab_type": "code",
        "outputId": "563ed247-9389-48f7-83e1-c77a0fcf79af",
        "colab": {
          "base_uri": "https://localhost:8080/",
          "height": 50
        }
      },
      "source": [
        "data = StringIO('Skip this line!Bamm!!\\n #m n l s \\n1 2 3 4\\n5 6 7 8')\n",
        "np.genfromtxt(data, skip_header=1, names = True)"
      ],
      "execution_count": 0,
      "outputs": [
        {
          "output_type": "execute_result",
          "data": {
            "text/plain": [
              "array([(1., 2., 3., 4.), (5., 6., 7., 8.)],\n",
              "      dtype=[('m', '<f8'), ('n', '<f8'), ('l', '<f8'), ('s', '<f8')])"
            ]
          },
          "metadata": {
            "tags": []
          },
          "execution_count": 25
        }
      ]
    },
    {
      "cell_type": "code",
      "metadata": {
        "id": "6YxVeBDNF9in",
        "colab_type": "code",
        "colab": {}
      },
      "source": [
        "data = StringIO(\"1 2 3 4\\n5 6 7 8\")\n",
        "# ndtype=[('a', int), ('b', int), ('c', int)]\n",
        "# names = [\"alpha\", \"Beta\", \"gamma\"]\n",
        "# np.genfromtxt(data, dtype=ndtype)"
      ],
      "execution_count": 0,
      "outputs": []
    },
    {
      "cell_type": "code",
      "metadata": {
        "id": "Dchl1jygF9gT",
        "colab_type": "code",
        "outputId": "a0271b0e-a662-4fb5-8083-e8dff29dc78c",
        "colab": {
          "base_uri": "https://localhost:8080/",
          "height": 50
        }
      },
      "source": [
        "ndtype = (int, float, float)\n",
        "np.genfromtxt(data, dtype = ndtype)"
      ],
      "execution_count": 0,
      "outputs": [
        {
          "output_type": "execute_result",
          "data": {
            "text/plain": [
              "array([(1, 2., 3.), (5, 6., 7.)],\n",
              "      dtype=[('f0', '<i8'), ('f1', '<f8'), ('f2', '<f8')])"
            ]
          },
          "metadata": {
            "tags": []
          },
          "execution_count": 27
        }
      ]
    },
    {
      "cell_type": "code",
      "metadata": {
        "id": "nf_Kgjb3seHA",
        "colab_type": "code",
        "outputId": "9ea257b3-b8d5-41e2-e882-cd9f38ed2214",
        "colab": {
          "base_uri": "https://localhost:8080/",
          "height": 50
        }
      },
      "source": [
        "data = StringIO(\"1 2 3 4\\n5 6 7 8\")\n",
        "np.genfromtxt(data, dtype=(int, int, float, int), names = 'apa')"
      ],
      "execution_count": 0,
      "outputs": [
        {
          "output_type": "execute_result",
          "data": {
            "text/plain": [
              "array([(1, 2, 3., 4), (5, 6, 7., 8)],\n",
              "      dtype=[('apa', '<i8'), ('f0', '<i8'), ('f1', '<f8'), ('f2', '<i8')])"
            ]
          },
          "metadata": {
            "tags": []
          },
          "execution_count": 28
        }
      ]
    },
    {
      "cell_type": "code",
      "metadata": {
        "id": "C0eeJ-3etWp4",
        "colab_type": "code",
        "outputId": "925675ce-a760-4e82-d968-36b747fd5d19",
        "colab": {
          "base_uri": "https://localhost:8080/",
          "height": 70
        }
      },
      "source": [
        "data = StringIO(\"1 2 3 4 5\\n6 7 8 9 10\")\n",
        "np.genfromtxt(data, dtype=(int, int, int, float), defaultfmt='alpha_%02i')"
      ],
      "execution_count": 0,
      "outputs": [
        {
          "output_type": "execute_result",
          "data": {
            "text/plain": [
              "array([(1, 2, 3, 4.), (6, 7, 8, 9.)],\n",
              "      dtype=[('alpha_00', '<i8'), ('alpha_01', '<i8'), ('alpha_02', '<i8'), ('alpha_03', '<f8')])"
            ]
          },
          "metadata": {
            "tags": []
          },
          "execution_count": 29
        }
      ]
    },
    {
      "cell_type": "code",
      "metadata": {
        "id": "W7r6pNtbF9eF",
        "colab_type": "code",
        "colab": {}
      },
      "source": [
        "convertfunc = lambda x: float(x.strip(b\"%\"))/100.\n",
        "\n",
        "data = u\"1, 2.34%, 45.\\n6, 78.9%, 1\"\n",
        "names = ('i', 'p', 'n')\n",
        "\n",
        "# np.genfromtxt(StringIO(data), delimiter=',', names = names)"
      ],
      "execution_count": 0,
      "outputs": []
    },
    {
      "cell_type": "code",
      "metadata": {
        "id": "c3O0HPIAF9b_",
        "colab_type": "code",
        "outputId": "2ab05a8c-3e50-4ee1-cd1a-4e34b2999fa3",
        "colab": {
          "base_uri": "https://localhost:8080/",
          "height": 50
        }
      },
      "source": [
        "convertfunc = lambda x: float(x.strip(b\"%\"))/100.\n",
        "data = u\"1, 2.3%, 45.\\n6, 78.9%, 0\"\n",
        "names = (\"i\", \"p\", \"n\")\n",
        "# General case .....\n",
        "np.genfromtxt(StringIO(data), delimiter=\",\", names=names)"
      ],
      "execution_count": 0,
      "outputs": [
        {
          "output_type": "execute_result",
          "data": {
            "text/plain": [
              "array([(1., nan, 45.), (6., nan,  0.)],\n",
              "      dtype=[('i', '<f8'), ('p', '<f8'), ('n', '<f8')])"
            ]
          },
          "metadata": {
            "tags": []
          },
          "execution_count": 31
        }
      ]
    },
    {
      "cell_type": "code",
      "metadata": {
        "colab_type": "code",
        "outputId": "4ba1e919-67e6-42b7-c735-0c916321719e",
        "id": "2-mG6SCh3mz5",
        "colab": {
          "base_uri": "https://localhost:8080/",
          "height": 50
        }
      },
      "source": [
        "convertfunc = lambda x: float(x.strip(b\"%\"))/100.\n",
        "data = u\"1, 2.3%, 45.\\n6, 78.9%, 0\"\n",
        "names = (\"i\", \"p\", \"n\")\n",
        "# General case .....\n",
        "np.genfromtxt(StringIO(data), delimiter=\",\", names=names, converters={\"p\": convertfunc})"
      ],
      "execution_count": 0,
      "outputs": [
        {
          "output_type": "execute_result",
          "data": {
            "text/plain": [
              "array([(1., 0.023, 45.), (6., 0.789,  0.)],\n",
              "      dtype=[('i', '<f8'), ('p', '<f8'), ('n', '<f8')])"
            ]
          },
          "metadata": {
            "tags": []
          },
          "execution_count": 32
        }
      ]
    },
    {
      "cell_type": "code",
      "metadata": {
        "id": "o90eRrSv3mAB",
        "colab_type": "code",
        "outputId": "a9f561e5-455c-4e61-c620-386e7ba628c3",
        "colab": {
          "base_uri": "https://localhost:8080/",
          "height": 50
        }
      },
      "source": [
        "data = u'1, , 3\\n 4, 5,6'\n",
        "convert = lambda x:float(x.strip() or -999)\n",
        "np.genfromtxt(StringIO(data), delimiter=',', converters={1: convert})"
      ],
      "execution_count": 0,
      "outputs": [
        {
          "output_type": "execute_result",
          "data": {
            "text/plain": [
              "array([[   1., -999.,    3.],\n",
              "       [   4.,    5.,    6.]])"
            ]
          },
          "metadata": {
            "tags": []
          },
          "execution_count": 33
        }
      ]
    },
    {
      "cell_type": "code",
      "metadata": {
        "id": "6DHUtZbwF9Zx",
        "colab_type": "code",
        "outputId": "0d411386-851a-47f9-ac40-e7aaf9d7fca3",
        "colab": {
          "base_uri": "https://localhost:8080/",
          "height": 121
        }
      },
      "source": [
        "data = u\"???, N/A, 1, 4\\n ???, 2, !, 3\"\n",
        "\n",
        "keywards = dict(delimiter = \",\",\n",
        "                dtype = int,\n",
        "                names = 'Alpha, Beta, gamma, imma',\n",
        "                missing_values = {0:123, \"Beta\":\"N/A\", -2: \"!\", -1: \" \"},\n",
        "                # filling_values={0: 100, 'Beta': 10000, -2: 10000000, -1: 3}\n",
        "                )\n",
        "\n",
        "np.genfromtxt(StringIO(data), usemask = True,**keywards)"
      ],
      "execution_count": 0,
      "outputs": [
        {
          "output_type": "execute_result",
          "data": {
            "text/plain": [
              "masked_array(data=[(-1, --, 1, 4), (-1, 2, --, 3)],\n",
              "             mask=[(False,  True, False, False),\n",
              "                   (False, False,  True, False)],\n",
              "       fill_value=(999999, 999999, 999999, 999999),\n",
              "            dtype=[('Alpha', '<i8'), ('Beta', '<i8'), ('gamma', '<i8'), ('imma', '<i8')])"
            ]
          },
          "metadata": {
            "tags": []
          },
          "execution_count": 34
        }
      ]
    },
    {
      "cell_type": "markdown",
      "metadata": {
        "id": "7THXnn0ECd6O",
        "colab_type": "text"
      },
      "source": [
        "## Indexing"
      ]
    },
    {
      "cell_type": "code",
      "metadata": {
        "id": "p2_yZv_Ef8tQ",
        "colab_type": "code",
        "outputId": "71a22d56-e382-4e64-bdc8-9481ee44a8c0",
        "colab": {
          "base_uri": "https://localhost:8080/",
          "height": 302
        }
      },
      "source": [
        "x = np.arange(10)\n",
        "print(x)\n",
        "print(x.reshape(5, 2))\n",
        "print(x)\n",
        "x.shape = (5, 2)\n",
        "print(x)\n",
        "print(x)"
      ],
      "execution_count": 0,
      "outputs": [
        {
          "output_type": "stream",
          "text": [
            "[0 1 2 3 4 5 6 7 8 9]\n",
            "[[0 1]\n",
            " [2 3]\n",
            " [4 5]\n",
            " [6 7]\n",
            " [8 9]]\n",
            "[0 1 2 3 4 5 6 7 8 9]\n",
            "[[0 1]\n",
            " [2 3]\n",
            " [4 5]\n",
            " [6 7]\n",
            " [8 9]]\n",
            "[[0 1]\n",
            " [2 3]\n",
            " [4 5]\n",
            " [6 7]\n",
            " [8 9]]\n"
          ],
          "name": "stdout"
        }
      ]
    },
    {
      "cell_type": "code",
      "metadata": {
        "id": "JejynVaLf8rH",
        "colab_type": "code",
        "colab": {}
      },
      "source": [
        "x[0][0] = 100"
      ],
      "execution_count": 0,
      "outputs": []
    },
    {
      "cell_type": "code",
      "metadata": {
        "id": "C6LbOy82f8pM",
        "colab_type": "code",
        "outputId": "9f550df3-36a8-4540-dc4b-497654de2a77",
        "colab": {
          "base_uri": "https://localhost:8080/",
          "height": 34
        }
      },
      "source": [
        "x = np.arange(10)\n",
        "b = x[np.array([2, 2, 3,5])]\n",
        "b[1] =100\n",
        "x"
      ],
      "execution_count": 0,
      "outputs": [
        {
          "output_type": "execute_result",
          "data": {
            "text/plain": [
              "array([0, 1, 2, 3, 4, 5, 6, 7, 8, 9])"
            ]
          },
          "metadata": {
            "tags": []
          },
          "execution_count": 37
        }
      ]
    },
    {
      "cell_type": "code",
      "metadata": {
        "id": "IgBlnyXhf8nI",
        "colab_type": "code",
        "outputId": "c1db780e-af16-45fc-e15a-9f1f81476781",
        "colab": {
          "base_uri": "https://localhost:8080/",
          "height": 50
        }
      },
      "source": [
        "x[np.array([[1, 2],[3, 9]])]"
      ],
      "execution_count": 0,
      "outputs": [
        {
          "output_type": "execute_result",
          "data": {
            "text/plain": [
              "array([[1, 2],\n",
              "       [3, 9]])"
            ]
          },
          "metadata": {
            "tags": []
          },
          "execution_count": 38
        }
      ]
    },
    {
      "cell_type": "code",
      "metadata": {
        "id": "LHiMT-_Lf8kz",
        "colab_type": "code",
        "outputId": "3b40de71-65c6-41b8-91da-6235bb2e2247",
        "colab": {
          "base_uri": "https://localhost:8080/",
          "height": 151
        }
      },
      "source": [
        "y = np.arange(35).reshape(5,7)\n",
        "print(y)\n",
        "y[[0,2,4]]"
      ],
      "execution_count": 0,
      "outputs": [
        {
          "output_type": "stream",
          "text": [
            "[[ 0  1  2  3  4  5  6]\n",
            " [ 7  8  9 10 11 12 13]\n",
            " [14 15 16 17 18 19 20]\n",
            " [21 22 23 24 25 26 27]\n",
            " [28 29 30 31 32 33 34]]\n"
          ],
          "name": "stdout"
        },
        {
          "output_type": "execute_result",
          "data": {
            "text/plain": [
              "array([[ 0,  1,  2,  3,  4,  5,  6],\n",
              "       [14, 15, 16, 17, 18, 19, 20],\n",
              "       [28, 29, 30, 31, 32, 33, 34]])"
            ]
          },
          "metadata": {
            "tags": []
          },
          "execution_count": 39
        }
      ]
    },
    {
      "cell_type": "code",
      "metadata": {
        "id": "y-91fxl2f8ie",
        "colab_type": "code",
        "outputId": "61f7fd3a-baa8-4ae5-8fe3-cd53f2ae73b0",
        "colab": {
          "base_uri": "https://localhost:8080/",
          "height": 151
        }
      },
      "source": [
        "b = y>15\n",
        "print(b)\n",
        "b[:,5]\n",
        "y[b[:, 5]]\n",
        "\n"
      ],
      "execution_count": 0,
      "outputs": [
        {
          "output_type": "stream",
          "text": [
            "[[False False False False False False False]\n",
            " [False False False False False False False]\n",
            " [False False  True  True  True  True  True]\n",
            " [ True  True  True  True  True  True  True]\n",
            " [ True  True  True  True  True  True  True]]\n"
          ],
          "name": "stdout"
        },
        {
          "output_type": "execute_result",
          "data": {
            "text/plain": [
              "array([[14, 15, 16, 17, 18, 19, 20],\n",
              "       [21, 22, 23, 24, 25, 26, 27],\n",
              "       [28, 29, 30, 31, 32, 33, 34]])"
            ]
          },
          "metadata": {
            "tags": []
          },
          "execution_count": 40
        }
      ]
    },
    {
      "cell_type": "code",
      "metadata": {
        "id": "ypfsdF9nNcte",
        "colab_type": "code",
        "outputId": "da6ad923-ccdb-4c5e-ec63-075feb6a9cee",
        "colab": {
          "base_uri": "https://localhost:8080/",
          "height": 588
        }
      },
      "source": [
        "x = np.arange(30).reshape(3, 5, 2)\n",
        "print(x)\n",
        "b = np.array([[[True, False],[True, False],[True, False],[True,True],[False, False]], [[True, False],[True, False],[True, False],[True,True],[False, False]], [[True, False],[True, False],[True, False],[True,True],[False, False]]])\n",
        "print(b)"
      ],
      "execution_count": 0,
      "outputs": [
        {
          "output_type": "stream",
          "text": [
            "[[[ 0  1]\n",
            "  [ 2  3]\n",
            "  [ 4  5]\n",
            "  [ 6  7]\n",
            "  [ 8  9]]\n",
            "\n",
            " [[10 11]\n",
            "  [12 13]\n",
            "  [14 15]\n",
            "  [16 17]\n",
            "  [18 19]]\n",
            "\n",
            " [[20 21]\n",
            "  [22 23]\n",
            "  [24 25]\n",
            "  [26 27]\n",
            "  [28 29]]]\n",
            "[[[ True False]\n",
            "  [ True False]\n",
            "  [ True False]\n",
            "  [ True  True]\n",
            "  [False False]]\n",
            "\n",
            " [[ True False]\n",
            "  [ True False]\n",
            "  [ True False]\n",
            "  [ True  True]\n",
            "  [False False]]\n",
            "\n",
            " [[ True False]\n",
            "  [ True False]\n",
            "  [ True False]\n",
            "  [ True  True]\n",
            "  [False False]]]\n"
          ],
          "name": "stdout"
        }
      ]
    },
    {
      "cell_type": "code",
      "metadata": {
        "id": "xh_9wkgHNcrp",
        "colab_type": "code",
        "outputId": "4cf98e0c-bc5b-4be8-b9cf-0c61637dd88b",
        "colab": {
          "base_uri": "https://localhost:8080/",
          "height": 34
        }
      },
      "source": [
        "print(x[b])"
      ],
      "execution_count": 0,
      "outputs": [
        {
          "output_type": "stream",
          "text": [
            "[ 0  2  4  6  7 10 12 14 16 17 20 22 24 26 27]\n"
          ],
          "name": "stdout"
        }
      ]
    },
    {
      "cell_type": "code",
      "metadata": {
        "id": "TMl6i8K3NcpE",
        "colab_type": "code",
        "outputId": "bddf640e-7776-4be0-a559-944c9dd195e7",
        "colab": {
          "base_uri": "https://localhost:8080/",
          "height": 319
        }
      },
      "source": [
        "print(x.shape)\n",
        "print(x)"
      ],
      "execution_count": 0,
      "outputs": [
        {
          "output_type": "stream",
          "text": [
            "(3, 5, 2)\n",
            "[[[ 0  1]\n",
            "  [ 2  3]\n",
            "  [ 4  5]\n",
            "  [ 6  7]\n",
            "  [ 8  9]]\n",
            "\n",
            " [[10 11]\n",
            "  [12 13]\n",
            "  [14 15]\n",
            "  [16 17]\n",
            "  [18 19]]\n",
            "\n",
            " [[20 21]\n",
            "  [22 23]\n",
            "  [24 25]\n",
            "  [26 27]\n",
            "  [28 29]]]\n"
          ],
          "name": "stdout"
        }
      ]
    },
    {
      "cell_type": "code",
      "metadata": {
        "id": "xJQ4h_HBNcm4",
        "colab_type": "code",
        "outputId": "559d76a1-acad-4595-fe5d-f5c3c5d74ddc",
        "colab": {
          "base_uri": "https://localhost:8080/",
          "height": 50
        }
      },
      "source": [
        "x[[True, False, True],:, 1]"
      ],
      "execution_count": 0,
      "outputs": [
        {
          "output_type": "execute_result",
          "data": {
            "text/plain": [
              "array([[ 1,  3,  5,  7,  9],\n",
              "       [21, 23, 25, 27, 29]])"
            ]
          },
          "metadata": {
            "tags": []
          },
          "execution_count": 44
        }
      ]
    },
    {
      "cell_type": "code",
      "metadata": {
        "id": "XGevBAClNckt",
        "colab_type": "code",
        "outputId": "aebec954-c0c4-46b0-9f5e-e4d0ede3c73c",
        "colab": {
          "base_uri": "https://localhost:8080/",
          "height": 50
        }
      },
      "source": [
        "x[:][[0,2]][:,:,1]"
      ],
      "execution_count": 0,
      "outputs": [
        {
          "output_type": "execute_result",
          "data": {
            "text/plain": [
              "array([[ 1,  3,  5,  7,  9],\n",
              "       [21, 23, 25, 27, 29]])"
            ]
          },
          "metadata": {
            "tags": []
          },
          "execution_count": 45
        }
      ]
    },
    {
      "cell_type": "code",
      "metadata": {
        "id": "0dCNeqCJNciq",
        "colab_type": "code",
        "outputId": "5b27ad4a-8787-42e9-f452-c0f8e2b193ad",
        "colab": {
          "base_uri": "https://localhost:8080/",
          "height": 118
        }
      },
      "source": [
        "b = x > 20\n",
        "print(x.shape)\n",
        "# print(x[b[:,1],1:3 ])\n",
        "print(x[np.array([True, False, True]), 1:3])\n",
        "# print(b)\n",
        "# print()\n",
        "# print(b.shape)\n",
        "# print(y[b[:, 5]])"
      ],
      "execution_count": 0,
      "outputs": [
        {
          "output_type": "stream",
          "text": [
            "(3, 5, 2)\n",
            "[[[ 2  3]\n",
            "  [ 4  5]]\n",
            "\n",
            " [[22 23]\n",
            "  [24 25]]]\n"
          ],
          "name": "stdout"
        }
      ]
    },
    {
      "cell_type": "code",
      "metadata": {
        "id": "DTsj4mzcNcgV",
        "colab_type": "code",
        "outputId": "809dfd4d-72c0-49e6-a179-a26b28be4a08",
        "colab": {
          "base_uri": "https://localhost:8080/",
          "height": 50
        }
      },
      "source": [
        "x = np.arange(10).reshape(2, 5)\n",
        "x"
      ],
      "execution_count": 0,
      "outputs": [
        {
          "output_type": "execute_result",
          "data": {
            "text/plain": [
              "array([[0, 1, 2, 3, 4],\n",
              "       [5, 6, 7, 8, 9]])"
            ]
          },
          "metadata": {
            "tags": []
          },
          "execution_count": 47
        }
      ]
    },
    {
      "cell_type": "code",
      "metadata": {
        "id": "BeMtIDW8Ncd3",
        "colab_type": "code",
        "outputId": "e4939410-a7da-423a-ad82-482043d522ed",
        "colab": {
          "base_uri": "https://localhost:8080/",
          "height": 84
        }
      },
      "source": [
        "x.shape\n",
        "print(x[:,np.newaxis,:].shape)\n",
        "print(x[:,np.newaxis,:])"
      ],
      "execution_count": 0,
      "outputs": [
        {
          "output_type": "stream",
          "text": [
            "(2, 1, 5)\n",
            "[[[0 1 2 3 4]]\n",
            "\n",
            " [[5 6 7 8 9]]]\n"
          ],
          "name": "stdout"
        }
      ]
    },
    {
      "cell_type": "code",
      "metadata": {
        "id": "t38JI5EhNcbl",
        "colab_type": "code",
        "outputId": "d042075a-539c-40f3-c35d-26d461f54869",
        "colab": {
          "base_uri": "https://localhost:8080/",
          "height": 235
        }
      },
      "source": [
        "x = np.arange(5)\n",
        "print(x[:, np.newaxis])\n",
        "print()\n",
        "print(x[np.newaxis, :])\n",
        "print()\n",
        "print(x[np.newaxis, :]+x[:, np.newaxis])"
      ],
      "execution_count": 0,
      "outputs": [
        {
          "output_type": "stream",
          "text": [
            "[[0]\n",
            " [1]\n",
            " [2]\n",
            " [3]\n",
            " [4]]\n",
            "\n",
            "[[0 1 2 3 4]]\n",
            "\n",
            "[[0 1 2 3 4]\n",
            " [1 2 3 4 5]\n",
            " [2 3 4 5 6]\n",
            " [3 4 5 6 7]\n",
            " [4 5 6 7 8]]\n"
          ],
          "name": "stdout"
        }
      ]
    },
    {
      "cell_type": "code",
      "metadata": {
        "id": "ps_hNPCiMAl7",
        "colab_type": "code",
        "outputId": "48ddbbed-e38e-412f-f735-7cb13b02ac4b",
        "colab": {
          "base_uri": "https://localhost:8080/",
          "height": 739
        }
      },
      "source": [
        "z = np.arange(81).reshape(3,3,3,3)\n",
        "print(z)\n",
        "\n",
        "print(z[1,:, :,2])\n",
        "print(z[1, ...,2])"
      ],
      "execution_count": 0,
      "outputs": [
        {
          "output_type": "stream",
          "text": [
            "[[[[ 0  1  2]\n",
            "   [ 3  4  5]\n",
            "   [ 6  7  8]]\n",
            "\n",
            "  [[ 9 10 11]\n",
            "   [12 13 14]\n",
            "   [15 16 17]]\n",
            "\n",
            "  [[18 19 20]\n",
            "   [21 22 23]\n",
            "   [24 25 26]]]\n",
            "\n",
            "\n",
            " [[[27 28 29]\n",
            "   [30 31 32]\n",
            "   [33 34 35]]\n",
            "\n",
            "  [[36 37 38]\n",
            "   [39 40 41]\n",
            "   [42 43 44]]\n",
            "\n",
            "  [[45 46 47]\n",
            "   [48 49 50]\n",
            "   [51 52 53]]]\n",
            "\n",
            "\n",
            " [[[54 55 56]\n",
            "   [57 58 59]\n",
            "   [60 61 62]]\n",
            "\n",
            "  [[63 64 65]\n",
            "   [66 67 68]\n",
            "   [69 70 71]]\n",
            "\n",
            "  [[72 73 74]\n",
            "   [75 76 77]\n",
            "   [78 79 80]]]]\n",
            "[[29 32 35]\n",
            " [38 41 44]\n",
            " [47 50 53]]\n",
            "[[29 32 35]\n",
            " [38 41 44]\n",
            " [47 50 53]]\n"
          ],
          "name": "stdout"
        }
      ]
    },
    {
      "cell_type": "code",
      "metadata": {
        "id": "n42sHr6gMAjc",
        "colab_type": "code",
        "outputId": "a6f3b906-3e88-49b9-cece-f48e5b8840bf",
        "colab": {
          "base_uri": "https://localhost:8080/",
          "height": 34
        }
      },
      "source": [
        "x = np.arange(10)\n",
        "x[2:9] = 1\n",
        "x"
      ],
      "execution_count": 0,
      "outputs": [
        {
          "output_type": "execute_result",
          "data": {
            "text/plain": [
              "array([0, 1, 1, 1, 1, 1, 1, 1, 1, 9])"
            ]
          },
          "metadata": {
            "tags": []
          },
          "execution_count": 51
        }
      ]
    },
    {
      "cell_type": "code",
      "metadata": {
        "id": "CONDASvmMAhY",
        "colab_type": "code",
        "outputId": "937c5c7f-9632-4c8d-c27e-f6572dda21e3",
        "colab": {
          "base_uri": "https://localhost:8080/",
          "height": 34
        }
      },
      "source": [
        "x[2:7] = np.arange(5)\n",
        "x"
      ],
      "execution_count": 0,
      "outputs": [
        {
          "output_type": "execute_result",
          "data": {
            "text/plain": [
              "array([0, 1, 0, 1, 2, 3, 4, 1, 1, 9])"
            ]
          },
          "metadata": {
            "tags": []
          },
          "execution_count": 52
        }
      ]
    },
    {
      "cell_type": "code",
      "metadata": {
        "id": "QpcsjbM8MAfN",
        "colab_type": "code",
        "outputId": "75bf45ed-b1f8-4333-b72d-196ae9c7dac6",
        "colab": {
          "base_uri": "https://localhost:8080/",
          "height": 216
        }
      },
      "source": [
        "x[1]= 100.23\n",
        "x\n",
        "x[1] = 1.3j\n"
      ],
      "execution_count": 0,
      "outputs": [
        {
          "output_type": "error",
          "ename": "TypeError",
          "evalue": "ignored",
          "traceback": [
            "\u001b[0;31m---------------------------------------------------------------------------\u001b[0m",
            "\u001b[0;31mTypeError\u001b[0m                                 Traceback (most recent call last)",
            "\u001b[0;32m<ipython-input-53-730f0d789df5>\u001b[0m in \u001b[0;36m<module>\u001b[0;34m()\u001b[0m\n\u001b[1;32m      1\u001b[0m \u001b[0mx\u001b[0m\u001b[0;34m[\u001b[0m\u001b[0;36m1\u001b[0m\u001b[0;34m]\u001b[0m\u001b[0;34m=\u001b[0m \u001b[0;36m100.23\u001b[0m\u001b[0;34m\u001b[0m\u001b[0;34m\u001b[0m\u001b[0m\n\u001b[1;32m      2\u001b[0m \u001b[0mx\u001b[0m\u001b[0;34m\u001b[0m\u001b[0;34m\u001b[0m\u001b[0m\n\u001b[0;32m----> 3\u001b[0;31m \u001b[0mx\u001b[0m\u001b[0;34m[\u001b[0m\u001b[0;36m1\u001b[0m\u001b[0;34m]\u001b[0m \u001b[0;34m=\u001b[0m \u001b[0;36m1.3j\u001b[0m\u001b[0;34m\u001b[0m\u001b[0;34m\u001b[0m\u001b[0m\n\u001b[0m",
            "\u001b[0;31mTypeError\u001b[0m: can't convert complex to int"
          ]
        }
      ]
    },
    {
      "cell_type": "code",
      "metadata": {
        "id": "OcMrHZHuMAdI",
        "colab_type": "code",
        "colab": {}
      },
      "source": [
        "z = np.arange(81).reshape(3,3,3,3)\n",
        "print(z)\n",
        "indices = (2, 1,1,1)\n",
        "z[indices]"
      ],
      "execution_count": 0,
      "outputs": []
    },
    {
      "cell_type": "code",
      "metadata": {
        "id": "g4dtltLIMAaq",
        "colab_type": "code",
        "colab": {}
      },
      "source": [
        "z = np.arange(81).reshape(3,3,3,3)\n",
        "print(z)\n",
        "indices = (2, 1,1,slice(1,3))\n",
        "z[indices]"
      ],
      "execution_count": 0,
      "outputs": []
    },
    {
      "cell_type": "code",
      "metadata": {
        "id": "rkCl4GTlMAYa",
        "colab_type": "code",
        "colab": {}
      },
      "source": [
        "z = np.arange(81).reshape(3,3,3,3)\n",
        "print(z)\n",
        "indices = (2, ...,1)\n",
        "z[indices]"
      ],
      "execution_count": 0,
      "outputs": []
    },
    {
      "cell_type": "code",
      "metadata": {
        "id": "adDLpsUWMAWK",
        "colab_type": "code",
        "colab": {}
      },
      "source": [
        "np.nonzero(z)"
      ],
      "execution_count": 0,
      "outputs": []
    },
    {
      "cell_type": "code",
      "metadata": {
        "id": "ypWNKSnERy-z",
        "colab_type": "code",
        "colab": {}
      },
      "source": [
        "z[[1,1,1,1]]\n",
        "z[(1,1,1,1)]"
      ],
      "execution_count": 0,
      "outputs": []
    },
    {
      "cell_type": "markdown",
      "metadata": {
        "id": "9IH49Qh_Cd4B",
        "colab_type": "text"
      },
      "source": [
        "\n",
        "## Broadcasting"
      ]
    },
    {
      "cell_type": "code",
      "metadata": {
        "id": "3fGkoMD4X-eQ",
        "colab_type": "code",
        "colab": {}
      },
      "source": [
        "x = np.arange(5)\n",
        "print(x.shape)\n",
        "xx = x[:, np.newaxis]\n",
        "\n",
        "y= np.arange(100).reshape(10,1, 10)\n",
        "z = np.ones((5,3))\n",
        "print(x)\n",
        "print()\n",
        "print(y)\n",
        "print()\n",
        "# print(x + y )\n",
        "print(x + z)"
      ],
      "execution_count": 0,
      "outputs": []
    },
    {
      "cell_type": "markdown",
      "metadata": {
        "id": "UJGl2elbCd2A",
        "colab_type": "text"
      },
      "source": [
        "## Byte-swapping"
      ]
    },
    {
      "cell_type": "code",
      "metadata": {
        "id": "P8FIwgPQX-cM",
        "colab_type": "code",
        "colab": {}
      },
      "source": [
        "a = bytearray([1, 2, 3, 4])\n",
        "a"
      ],
      "execution_count": 0,
      "outputs": []
    },
    {
      "cell_type": "code",
      "metadata": {
        "id": "5fu_QA7IX-Z6",
        "colab_type": "code",
        "colab": {}
      },
      "source": [
        "swapped_end_arr = big_end_arr.byteswap().newbyteorder()\n",
        "swapped_end_arr[0]"
      ],
      "execution_count": 0,
      "outputs": []
    },
    {
      "cell_type": "markdown",
      "metadata": {
        "id": "D4HtLWHsC9_k",
        "colab_type": "text"
      },
      "source": [
        "## Structured arrays"
      ]
    },
    {
      "cell_type": "code",
      "metadata": {
        "id": "5gYzUCdfi5uc",
        "colab_type": "code",
        "colab": {}
      },
      "source": [
        "x = np.array([1.3], dtype= [('Test', 'i4')])\n",
        "\n",
        "print(x.dtype)\n",
        "print(x)"
      ],
      "execution_count": 0,
      "outputs": []
    },
    {
      "cell_type": "code",
      "metadata": {
        "id": "v5EF06sBi5r_",
        "colab_type": "code",
        "outputId": "82cac913-437c-40f1-98f0-efa8ec578afb",
        "colab": {
          "base_uri": "https://localhost:8080/",
          "height": 34
        }
      },
      "source": [
        "np.dtype([('x', 'f4'), ('y',np.float), ('z','f4',(2,2))])"
      ],
      "execution_count": 0,
      "outputs": [
        {
          "output_type": "execute_result",
          "data": {
            "text/plain": [
              "dtype([('x', '<f4'), ('y', '<f8'), ('z', '<f4', (2, 2))])"
            ]
          },
          "metadata": {
            "tags": []
          },
          "execution_count": 56
        }
      ]
    },
    {
      "cell_type": "code",
      "metadata": {
        "id": "J6DoRTVMi5pf",
        "colab_type": "code",
        "outputId": "79d50dd2-b6db-49d9-fea1-24855ceec213",
        "colab": {
          "base_uri": "https://localhost:8080/",
          "height": 34
        }
      },
      "source": [
        "np.dtype([('', 'f4'), ('','i4'), ('','f4')])"
      ],
      "execution_count": 0,
      "outputs": [
        {
          "output_type": "execute_result",
          "data": {
            "text/plain": [
              "dtype([('f0', '<f4'), ('f1', '<i4'), ('f2', '<f4')])"
            ]
          },
          "metadata": {
            "tags": []
          },
          "execution_count": 57
        }
      ]
    },
    {
      "cell_type": "code",
      "metadata": {
        "id": "FBBBLwUni5nK",
        "colab_type": "code",
        "outputId": "b83c9e5d-a9ae-4e53-c722-67392228d56a",
        "colab": {
          "base_uri": "https://localhost:8080/",
          "height": 34
        }
      },
      "source": [
        "np.dtype('i8, f4, S3')"
      ],
      "execution_count": 0,
      "outputs": [
        {
          "output_type": "execute_result",
          "data": {
            "text/plain": [
              "dtype([('f0', '<i8'), ('f1', '<f4'), ('f2', 'S3')])"
            ]
          },
          "metadata": {
            "tags": []
          },
          "execution_count": 59
        }
      ]
    },
    {
      "cell_type": "code",
      "metadata": {
        "id": "638KjmU5i5lI",
        "colab_type": "code",
        "outputId": "72384db5-5c5e-4e58-926b-5286cb23c2b8",
        "colab": {
          "base_uri": "https://localhost:8080/",
          "height": 34
        }
      },
      "source": [
        "np.dtype('3int16, float32, (2, 3)f4')"
      ],
      "execution_count": 0,
      "outputs": [
        {
          "output_type": "execute_result",
          "data": {
            "text/plain": [
              "dtype([('f0', '<i2', (3,)), ('f1', '<f4'), ('f2', '<f4', (2, 3))])"
            ]
          },
          "metadata": {
            "tags": []
          },
          "execution_count": 60
        }
      ]
    },
    {
      "cell_type": "code",
      "metadata": {
        "id": "g8E1wSvXi5iW",
        "colab_type": "code",
        "outputId": "bf664096-bcdd-4854-ed10-7d3c649148c8",
        "colab": {
          "base_uri": "https://localhost:8080/",
          "height": 34
        }
      },
      "source": [
        "np.dtype({'names':['col1', 'col2'], 'formats':['i4', 'f4']})\n"
      ],
      "execution_count": 0,
      "outputs": [
        {
          "output_type": "execute_result",
          "data": {
            "text/plain": [
              "dtype([('col1', '<i4'), ('col2', '<f4')])"
            ]
          },
          "metadata": {
            "tags": []
          },
          "execution_count": 65
        }
      ]
    },
    {
      "cell_type": "code",
      "metadata": {
        "id": "5S3-YC8zi5ft",
        "colab_type": "code",
        "colab": {}
      },
      "source": [
        "data=np.dtype({'names': ['col1', 'col2'], 'formats': [float, 'f4']})"
      ],
      "execution_count": 0,
      "outputs": []
    },
    {
      "cell_type": "code",
      "metadata": {
        "id": "cNuLt8BxpssU",
        "colab_type": "code",
        "outputId": "3510a62e-5877-4e6c-b83d-b9017d2b028f",
        "colab": {
          "base_uri": "https://localhost:8080/",
          "height": 34
        }
      },
      "source": [
        "data.names"
      ],
      "execution_count": 0,
      "outputs": [
        {
          "output_type": "execute_result",
          "data": {
            "text/plain": [
              "('col1', 'col2')"
            ]
          },
          "metadata": {
            "tags": []
          },
          "execution_count": 68
        }
      ]
    },
    {
      "cell_type": "code",
      "metadata": {
        "id": "yBmW9rQGpsqO",
        "colab_type": "code",
        "outputId": "da11b0c0-c9b3-45b8-8603-a33cc555e61b",
        "colab": {
          "base_uri": "https://localhost:8080/",
          "height": 54
        }
      },
      "source": [
        "data.fields"
      ],
      "execution_count": 0,
      "outputs": [
        {
          "output_type": "execute_result",
          "data": {
            "text/plain": [
              "mappingproxy({'col1': (dtype('float64'), 0), 'col2': (dtype('float32'), 8)})"
            ]
          },
          "metadata": {
            "tags": []
          },
          "execution_count": 69
        }
      ]
    },
    {
      "cell_type": "code",
      "metadata": {
        "id": "VKTQuZoapsn0",
        "colab_type": "code",
        "outputId": "e22c4887-de5b-4ec3-8037-b2536d415f4f",
        "colab": {
          "base_uri": "https://localhost:8080/",
          "height": 199
        }
      },
      "source": [
        "# data = np.array([1, 2,3, 4])\n",
        "data"
      ],
      "execution_count": 0,
      "outputs": [
        {
          "output_type": "error",
          "ename": "AttributeError",
          "evalue": "ignored",
          "traceback": [
            "\u001b[0;31m---------------------------------------------------------------------------\u001b[0m",
            "\u001b[0;31mAttributeError\u001b[0m                            Traceback (most recent call last)",
            "\u001b[0;32m<ipython-input-71-23b998f89b53>\u001b[0m in \u001b[0;36m<module>\u001b[0;34m()\u001b[0m\n\u001b[1;32m      1\u001b[0m \u001b[0mdata\u001b[0m \u001b[0;34m=\u001b[0m \u001b[0mnp\u001b[0m\u001b[0;34m.\u001b[0m\u001b[0marray\u001b[0m\u001b[0;34m(\u001b[0m\u001b[0;34m[\u001b[0m\u001b[0;36m1\u001b[0m\u001b[0;34m,\u001b[0m \u001b[0;36m2\u001b[0m\u001b[0;34m,\u001b[0m\u001b[0;36m3\u001b[0m\u001b[0;34m,\u001b[0m \u001b[0;36m4\u001b[0m\u001b[0;34m]\u001b[0m\u001b[0;34m)\u001b[0m\u001b[0;34m\u001b[0m\u001b[0;34m\u001b[0m\u001b[0m\n\u001b[0;32m----> 2\u001b[0;31m \u001b[0mdata\u001b[0m\u001b[0;34m.\u001b[0m\u001b[0mnames\u001b[0m \u001b[0;34m==\u001b[0m \u001b[0;32mNone\u001b[0m\u001b[0;34m\u001b[0m\u001b[0;34m\u001b[0m\u001b[0m\n\u001b[0m",
            "\u001b[0;31mAttributeError\u001b[0m: 'numpy.ndarray' object has no attribute 'names'"
          ]
        }
      ]
    },
    {
      "cell_type": "code",
      "metadata": {
        "id": "6enfSafRpslV",
        "colab_type": "code",
        "outputId": "46bfec77-e629-4576-a138-4fc61984d787",
        "colab": {
          "base_uri": "https://localhost:8080/",
          "height": 50
        }
      },
      "source": [
        "def print_offsets(d):\n",
        "  print(\"Offsets: \", [d.fields[name][1] for name in d.names])\n",
        "  print('Itemsizes: ', d.itemsize)\n",
        "\n",
        "print_offsets(np.dtype('u1, u2, f4, i4, f8, f4'))"
      ],
      "execution_count": 0,
      "outputs": [
        {
          "output_type": "stream",
          "text": [
            "Offsets:  [0, 1, 3, 7, 11, 19]\n",
            "Itemsizes:  23\n"
          ],
          "name": "stdout"
        }
      ]
    },
    {
      "cell_type": "code",
      "metadata": {
        "id": "Z5JnAycVpsjJ",
        "colab_type": "code",
        "outputId": "72d3c98e-f528-4081-acee-899af4cad3f8",
        "colab": {
          "base_uri": "https://localhost:8080/",
          "height": 50
        }
      },
      "source": [
        "print_offsets(np.dtype('u1, u2, f4, i4, f8, f4', align= True))"
      ],
      "execution_count": 0,
      "outputs": [
        {
          "output_type": "stream",
          "text": [
            "Offsets:  [0, 2, 4, 8, 16, 24]\n",
            "Itemsizes:  32\n"
          ],
          "name": "stdout"
        }
      ]
    },
    {
      "cell_type": "code",
      "metadata": {
        "id": "R_soF3Xhpsg8",
        "colab_type": "code",
        "outputId": "bc5fc158-cc87-42d6-8b22-9c9f557a2cb0",
        "colab": {
          "base_uri": "https://localhost:8080/",
          "height": 50
        }
      },
      "source": [
        "data = np.dtype([(('my title', 'name'), 'f4')])\n",
        "data.fields"
      ],
      "execution_count": 0,
      "outputs": [
        {
          "output_type": "execute_result",
          "data": {
            "text/plain": [
              "mappingproxy({'my title': (dtype('float32'), 0, 'my title'),\n",
              "              'name': (dtype('float32'), 0, 'my title')})"
            ]
          },
          "metadata": {
            "tags": []
          },
          "execution_count": 81
        }
      ]
    },
    {
      "cell_type": "code",
      "metadata": {
        "id": "jt-i7y4ipsew",
        "colab_type": "code",
        "outputId": "606135f3-76f6-4b82-98d4-e2afa41d8bfa",
        "colab": {
          "base_uri": "https://localhost:8080/",
          "height": 34
        }
      },
      "source": [
        "for name in data.names:\n",
        "  print(data.fields[name][:])"
      ],
      "execution_count": 0,
      "outputs": [
        {
          "output_type": "stream",
          "text": [
            "(dtype('float32'), 0, 'my title')\n"
          ],
          "name": "stdout"
        }
      ]
    },
    {
      "cell_type": "code",
      "metadata": {
        "id": "lWpu1YKvpscr",
        "colab_type": "code",
        "colab": {}
      },
      "source": [
        "x = np.array([(1, 2, 3), (4,5,6)], dtype='i8,f4,f8')\n",
        "# x[1] = (4, 5)"
      ],
      "execution_count": 0,
      "outputs": []
    },
    {
      "cell_type": "code",
      "metadata": {
        "id": "7zOfzdO5psao",
        "colab_type": "code",
        "outputId": "ec09afe0-be73-408c-ebf5-6f5204edfe71",
        "colab": {
          "base_uri": "https://localhost:8080/",
          "height": 50
        }
      },
      "source": [
        "x = np.ones(1, dtype='i8, f4, ?, S1')\n",
        "print(x)\n",
        "x[:] = 3\n",
        "print(x)"
      ],
      "execution_count": 0,
      "outputs": [
        {
          "output_type": "stream",
          "text": [
            "[(1, 1.,  True, b'1')]\n",
            "[(3, 3.,  True, b'3')]\n"
          ],
          "name": "stdout"
        }
      ]
    },
    {
      "cell_type": "code",
      "metadata": {
        "id": "bIJUs1LmpsX7",
        "colab_type": "code",
        "outputId": "7a5341f4-7cd3-493c-bd6a-313e5a5787b5",
        "colab": {
          "base_uri": "https://localhost:8080/",
          "height": 67
        }
      },
      "source": [
        "x[:] = np.arange(1)\n",
        "print(x)\n",
        "x"
      ],
      "execution_count": 0,
      "outputs": [
        {
          "output_type": "stream",
          "text": [
            "[(0, 0., False, b'0')]\n"
          ],
          "name": "stdout"
        },
        {
          "output_type": "execute_result",
          "data": {
            "text/plain": [
              "array([(0, 0., False, b'0')],\n",
              "      dtype=[('f0', '<i8'), ('f1', '<f4'), ('f2', '?'), ('f3', 'S1')])"
            ]
          },
          "metadata": {
            "tags": []
          },
          "execution_count": 106
        }
      ]
    },
    {
      "cell_type": "code",
      "metadata": {
        "id": "eARbQwq6psVg",
        "colab_type": "code",
        "outputId": "9e6ce5cd-08f7-45f1-da78-1866ea7b2d52",
        "colab": {
          "base_uri": "https://localhost:8080/",
          "height": 300
        }
      },
      "source": [
        "twofield = np.zeros(2, dtype=[('A', 'i4'), ('B', 'f4')])\n",
        "print(twofield)\n",
        "\n",
        "onefield = np.zeros(2, dtype=[('A', 'f4')])\n",
        "print(onefield)\n",
        "\n",
        "nonstruct = np.zeros(2, dtype='i4')\n",
        "print(nonstruct)\n",
        "\n",
        "nonstruct[:] = onefield\n",
        "print(nonstruct)\n",
        "\n",
        "nonstruct[:] = twofield\n",
        "print(nonstruct)"
      ],
      "execution_count": 0,
      "outputs": [
        {
          "output_type": "stream",
          "text": [
            "[(0, 0.) (0, 0.)]\n",
            "[(0.,) (0.,)]\n",
            "[0 0]\n",
            "[0 0]\n"
          ],
          "name": "stdout"
        },
        {
          "output_type": "error",
          "ename": "TypeError",
          "evalue": "ignored",
          "traceback": [
            "\u001b[0;31m---------------------------------------------------------------------------\u001b[0m",
            "\u001b[0;31mTypeError\u001b[0m                                 Traceback (most recent call last)",
            "\u001b[0;32m<ipython-input-116-02af922aeb02>\u001b[0m in \u001b[0;36m<module>\u001b[0;34m()\u001b[0m\n\u001b[1;32m     11\u001b[0m \u001b[0mprint\u001b[0m\u001b[0;34m(\u001b[0m\u001b[0mnonstruct\u001b[0m\u001b[0;34m)\u001b[0m\u001b[0;34m\u001b[0m\u001b[0;34m\u001b[0m\u001b[0m\n\u001b[1;32m     12\u001b[0m \u001b[0;34m\u001b[0m\u001b[0m\n\u001b[0;32m---> 13\u001b[0;31m \u001b[0mnonstruct\u001b[0m\u001b[0;34m[\u001b[0m\u001b[0;34m:\u001b[0m\u001b[0;34m]\u001b[0m \u001b[0;34m=\u001b[0m \u001b[0mtwofield\u001b[0m\u001b[0;34m\u001b[0m\u001b[0;34m\u001b[0m\u001b[0m\n\u001b[0m\u001b[1;32m     14\u001b[0m \u001b[0mprint\u001b[0m\u001b[0;34m(\u001b[0m\u001b[0mnonstruct\u001b[0m\u001b[0;34m)\u001b[0m\u001b[0;34m\u001b[0m\u001b[0;34m\u001b[0m\u001b[0m\n",
            "\u001b[0;31mTypeError\u001b[0m: Cannot cast scalar from dtype([('A', '<i4'), ('B', '<f4')]) to dtype('int32') according to the rule 'unsafe'"
          ]
        }
      ]
    },
    {
      "cell_type": "code",
      "metadata": {
        "id": "PrKXLE9gpsTH",
        "colab_type": "code",
        "outputId": "314ad7a2-a73b-481a-fa35-9ae49580170f",
        "colab": {
          "base_uri": "https://localhost:8080/",
          "height": 67
        }
      },
      "source": [
        "a = np.zeros(2, dtype=[('a', 'i4'), ('b', 'f4')])\n",
        "print(a)\n",
        "b = np.ones(2, dtype=[('x', float), ('y', 'i4')])\n",
        "print(b)\n",
        "\n",
        "b[:] = a\n",
        "print(b)"
      ],
      "execution_count": 0,
      "outputs": [
        {
          "output_type": "stream",
          "text": [
            "[(0, 0.) (0, 0.)]\n",
            "[(1., 1) (1., 1)]\n",
            "[(0., 0) (0., 0)]\n"
          ],
          "name": "stdout"
        }
      ]
    },
    {
      "cell_type": "code",
      "metadata": {
        "id": "WO8zi9X6psQl",
        "colab_type": "code",
        "outputId": "b0c6a4a0-1d4b-4a9c-eca4-4b7e77d7b16a",
        "colab": {
          "base_uri": "https://localhost:8080/",
          "height": 34
        }
      },
      "source": [
        "a['a'] = 10\n",
        "print(a)"
      ],
      "execution_count": 0,
      "outputs": [
        {
          "output_type": "stream",
          "text": [
            "[(10, 0.) (10, 0.)]\n"
          ],
          "name": "stdout"
        }
      ]
    },
    {
      "cell_type": "code",
      "metadata": {
        "id": "wckciep0psOS",
        "colab_type": "code",
        "outputId": "a0944de6-d732-4c9a-d913-aadcef900fed",
        "colab": {
          "base_uri": "https://localhost:8080/",
          "height": 34
        }
      },
      "source": [
        "a['a']"
      ],
      "execution_count": 0,
      "outputs": [
        {
          "output_type": "execute_result",
          "data": {
            "text/plain": [
              "array([10, 10], dtype=int32)"
            ]
          },
          "metadata": {
            "tags": []
          },
          "execution_count": 123
        }
      ]
    },
    {
      "cell_type": "code",
      "metadata": {
        "id": "HKHizAg3emSm",
        "colab_type": "code",
        "outputId": "f06200e1-2f0d-454d-9a31-bd316cbcea38",
        "colab": {
          "base_uri": "https://localhost:8080/",
          "height": 34
        }
      },
      "source": [
        "x = np.zeros(4,dtype = [('a', 'i4'), ('b', 'f8',(3, 3))])\n",
        "print(x['b'].shape)"
      ],
      "execution_count": 0,
      "outputs": [
        {
          "output_type": "stream",
          "text": [
            "(4, 3, 3)\n"
          ],
          "name": "stdout"
        }
      ]
    },
    {
      "cell_type": "code",
      "metadata": {
        "id": "ryQminA_elX5",
        "colab_type": "code",
        "outputId": "2c60b7ac-f09a-42f3-96c5-7f9a8e4d7140",
        "colab": {
          "base_uri": "https://localhost:8080/",
          "height": 84
        }
      },
      "source": [
        "print(x)"
      ],
      "execution_count": 0,
      "outputs": [
        {
          "output_type": "stream",
          "text": [
            "[(0, [[0., 0., 0.], [0., 0., 0.], [0., 0., 0.]])\n",
            " (0, [[0., 0., 0.], [0., 0., 0.], [0., 0., 0.]])\n",
            " (0, [[0., 0., 0.], [0., 0., 0.], [0., 0., 0.]])\n",
            " (0, [[0., 0., 0.], [0., 0., 0.], [0., 0., 0.]])]\n"
          ],
          "name": "stdout"
        }
      ]
    },
    {
      "cell_type": "code",
      "metadata": {
        "id": "j9pBPxn8emCQ",
        "colab_type": "code",
        "outputId": "f3bc602e-2a3b-47a5-dd2a-f45c8f2adda2",
        "colab": {
          "base_uri": "https://localhost:8080/",
          "height": 50
        }
      },
      "source": [
        "a = np.zeros(4, dtype= [('a', 'i4'), ('b', 'f4'), ('c', 'f4'), ('d', 'i4')])\n",
        "print(a)\n",
        "print(a[['a', 'b']])"
      ],
      "execution_count": 0,
      "outputs": [
        {
          "output_type": "stream",
          "text": [
            "[(0, 0., 0., 0) (0, 0., 0., 0) (0, 0., 0., 0) (0, 0., 0., 0)]\n",
            "[(0, 0.) (0, 0.) (0, 0.) (0, 0.)]\n"
          ],
          "name": "stdout"
        }
      ]
    },
    {
      "cell_type": "code",
      "metadata": {
        "id": "7ZN9mJzrelVr",
        "colab_type": "code",
        "outputId": "74603f1a-44e8-4963-a108-4808923f77ce",
        "colab": {
          "base_uri": "https://localhost:8080/",
          "height": 50
        }
      },
      "source": [
        "a[['a', 'b']] = 1, 2\n",
        "print(a)\n",
        "a[['b', 'a']] = a[['a', 'b']]\n",
        "print(a)"
      ],
      "execution_count": 0,
      "outputs": [
        {
          "output_type": "stream",
          "text": [
            "[(1, 2., 0., 0) (1, 2., 0., 0) (1, 2., 0., 0) (1, 2., 0., 0)]\n",
            "[(2, 1., 0., 0) (2, 1., 0., 0) (2, 1., 0., 0) (2, 1., 0., 0)]\n"
          ],
          "name": "stdout"
        }
      ]
    },
    {
      "cell_type": "code",
      "metadata": {
        "id": "XkGwpaybelTo",
        "colab_type": "code",
        "outputId": "8fe91332-8d51-4a8f-c97c-055f2badf7e6",
        "colab": {
          "base_uri": "https://localhost:8080/",
          "height": 50
        }
      },
      "source": [
        "a = np.zeros((2, 2), dtype = [('a', 'f4'), ('b', 'i4')])\n",
        "b = np.ones((2, 2), dtype =[('a', 'f4'), ('b', 'i4')])\n",
        "\n",
        "a == b"
      ],
      "execution_count": 0,
      "outputs": [
        {
          "output_type": "execute_result",
          "data": {
            "text/plain": [
              "array([[False, False],\n",
              "       [False, False]])"
            ]
          },
          "metadata": {
            "tags": []
          },
          "execution_count": 150
        }
      ]
    },
    {
      "cell_type": "code",
      "metadata": {
        "id": "LYZb8z-CelRG",
        "colab_type": "code",
        "outputId": "0ef8063d-a4e0-48a1-b398-a9b7334af127",
        "colab": {
          "base_uri": "https://localhost:8080/",
          "height": 101
        }
      },
      "source": [
        "record_a = np.rec.array(a)\n",
        "print(record_a)\n",
        "print()\n",
        "print(record_a.b)"
      ],
      "execution_count": 0,
      "outputs": [
        {
          "output_type": "stream",
          "text": [
            "[[(0., 0) (0., 0)]\n",
            " [(0., 0) (0., 0)]]\n",
            "\n",
            "[[0 0]\n",
            " [0 0]]\n"
          ],
          "name": "stdout"
        }
      ]
    },
    {
      "cell_type": "code",
      "metadata": {
        "id": "_HIcTesQelOv",
        "colab_type": "code",
        "outputId": "489f784c-c373-488c-ff8d-71c2de5ad139",
        "colab": {
          "base_uri": "https://localhost:8080/",
          "height": 34
        }
      },
      "source": [
        "record_a.shape"
      ],
      "execution_count": 0,
      "outputs": [
        {
          "output_type": "execute_result",
          "data": {
            "text/plain": [
              "(2, 2)"
            ]
          },
          "metadata": {
            "tags": []
          },
          "execution_count": 156
        }
      ]
    },
    {
      "cell_type": "code",
      "metadata": {
        "id": "ZJrhSDTGelMQ",
        "colab_type": "code",
        "outputId": "665ded62-184a-462c-f009-f47041f9411b",
        "colab": {
          "base_uri": "https://localhost:8080/",
          "height": 50
        }
      },
      "source": [
        "re_a = a.view(dtype=np.dtype((np.record, a.dtype)),\n",
        "                     type=np.recarray)\n",
        "\n",
        "print(re_a)"
      ],
      "execution_count": 0,
      "outputs": [
        {
          "output_type": "stream",
          "text": [
            "[[(0., 0) (0., 0)]\n",
            " [(0., 0) (0., 0)]]\n"
          ],
          "name": "stdout"
        }
      ]
    },
    {
      "cell_type": "code",
      "metadata": {
        "id": "aLs6t2tkuUs5",
        "colab_type": "code",
        "colab": {}
      },
      "source": [
        "from numpy.lib import recfunctions as rfn"
      ],
      "execution_count": 0,
      "outputs": []
    },
    {
      "cell_type": "markdown",
      "metadata": {
        "id": "ttmawHABC-5N",
        "colab_type": "text"
      },
      "source": [
        "## Writing custom array containers"
      ]
    },
    {
      "cell_type": "code",
      "metadata": {
        "id": "AMex2mV78XiK",
        "colab_type": "code",
        "outputId": "34e43281-dba9-489a-adfb-6e15355ffd5d",
        "colab": {
          "base_uri": "https://localhost:8080/",
          "height": 391
        }
      },
      "source": [
        "class DiagonalArray:\n",
        "  def __init__(self, N, value):\n",
        "    self._N = N\n",
        "    self._i = value\n",
        "  def __repr__(self):\n",
        "    return f\"{self.__class__.__name__}(N = {self._N}, value = {self._i})\"\n",
        "  def __array__(self):\n",
        "    return self._i*np.eye(self._N)\n",
        "  def implements(np_function):\n",
        "   \"Register an __array_function__ implementation for DiagonalArray objects.\"\n",
        "   def decorator(func):\n",
        "       HANDLED_FUNCTIONS[np_function] = func\n",
        "       return func\n",
        "   return decorator\n",
        "  \n",
        "  @implements(np.mean)\n",
        "  def mean(arr):\n",
        "    \"Implementation of np.mean for DiagonalArray objects\"\n",
        "    return arr._i / arr._N\n",
        "\n",
        "  \n",
        "dir(DiagonalArray)\n",
        "repr(DiagonalArray(4,2))\n",
        "arr = DiagonalArray(5, 10)\n",
        "print(np.mean(arr))\n",
        "# np.asarray(arr, dtype= int)\n",
        "type(np.multiply(arr, 5))"
      ],
      "execution_count": 0,
      "outputs": [
        {
          "output_type": "error",
          "ename": "NameError",
          "evalue": "ignored",
          "traceback": [
            "\u001b[0;31m---------------------------------------------------------------------------\u001b[0m",
            "\u001b[0;31mNameError\u001b[0m                                 Traceback (most recent call last)",
            "\u001b[0;32m<ipython-input-179-a02066f36860>\u001b[0m in \u001b[0;36m<module>\u001b[0;34m()\u001b[0m\n\u001b[0;32m----> 1\u001b[0;31m \u001b[0;32mclass\u001b[0m \u001b[0mDiagonalArray\u001b[0m\u001b[0;34m:\u001b[0m\u001b[0;34m\u001b[0m\u001b[0;34m\u001b[0m\u001b[0m\n\u001b[0m\u001b[1;32m      2\u001b[0m   \u001b[0;32mdef\u001b[0m \u001b[0m__init__\u001b[0m\u001b[0;34m(\u001b[0m\u001b[0mself\u001b[0m\u001b[0;34m,\u001b[0m \u001b[0mN\u001b[0m\u001b[0;34m,\u001b[0m \u001b[0mvalue\u001b[0m\u001b[0;34m)\u001b[0m\u001b[0;34m:\u001b[0m\u001b[0;34m\u001b[0m\u001b[0;34m\u001b[0m\u001b[0m\n\u001b[1;32m      3\u001b[0m     \u001b[0mself\u001b[0m\u001b[0;34m.\u001b[0m\u001b[0m_N\u001b[0m \u001b[0;34m=\u001b[0m \u001b[0mN\u001b[0m\u001b[0;34m\u001b[0m\u001b[0;34m\u001b[0m\u001b[0m\n\u001b[1;32m      4\u001b[0m     \u001b[0mself\u001b[0m\u001b[0;34m.\u001b[0m\u001b[0m_i\u001b[0m \u001b[0;34m=\u001b[0m \u001b[0mvalue\u001b[0m\u001b[0;34m\u001b[0m\u001b[0;34m\u001b[0m\u001b[0m\n\u001b[1;32m      5\u001b[0m   \u001b[0;32mdef\u001b[0m \u001b[0m__repr__\u001b[0m\u001b[0;34m(\u001b[0m\u001b[0mself\u001b[0m\u001b[0;34m)\u001b[0m\u001b[0;34m:\u001b[0m\u001b[0;34m\u001b[0m\u001b[0;34m\u001b[0m\u001b[0m\n",
            "\u001b[0;32m<ipython-input-179-a02066f36860>\u001b[0m in \u001b[0;36mDiagonalArray\u001b[0;34m()\u001b[0m\n\u001b[1;32m     14\u001b[0m    \u001b[0;32mreturn\u001b[0m \u001b[0mdecorator\u001b[0m\u001b[0;34m\u001b[0m\u001b[0;34m\u001b[0m\u001b[0m\n\u001b[1;32m     15\u001b[0m \u001b[0;34m\u001b[0m\u001b[0m\n\u001b[0;32m---> 16\u001b[0;31m   \u001b[0;34m@\u001b[0m\u001b[0mimplements\u001b[0m\u001b[0;34m(\u001b[0m\u001b[0mnp\u001b[0m\u001b[0;34m.\u001b[0m\u001b[0mmean\u001b[0m\u001b[0;34m)\u001b[0m\u001b[0;34m\u001b[0m\u001b[0;34m\u001b[0m\u001b[0m\n\u001b[0m\u001b[1;32m     17\u001b[0m   \u001b[0;32mdef\u001b[0m \u001b[0mmean\u001b[0m\u001b[0;34m(\u001b[0m\u001b[0marr\u001b[0m\u001b[0;34m)\u001b[0m\u001b[0;34m:\u001b[0m\u001b[0;34m\u001b[0m\u001b[0;34m\u001b[0m\u001b[0m\n\u001b[1;32m     18\u001b[0m     \u001b[0;34m\"Implementation of np.mean for DiagonalArray objects\"\u001b[0m\u001b[0;34m\u001b[0m\u001b[0;34m\u001b[0m\u001b[0m\n",
            "\u001b[0;32m<ipython-input-179-a02066f36860>\u001b[0m in \u001b[0;36mdecorator\u001b[0;34m(func)\u001b[0m\n\u001b[1;32m     10\u001b[0m    \u001b[0;34m\"Register an __array_function__ implementation for DiagonalArray objects.\"\u001b[0m\u001b[0;34m\u001b[0m\u001b[0;34m\u001b[0m\u001b[0m\n\u001b[1;32m     11\u001b[0m    \u001b[0;32mdef\u001b[0m \u001b[0mdecorator\u001b[0m\u001b[0;34m(\u001b[0m\u001b[0mfunc\u001b[0m\u001b[0;34m)\u001b[0m\u001b[0;34m:\u001b[0m\u001b[0;34m\u001b[0m\u001b[0;34m\u001b[0m\u001b[0m\n\u001b[0;32m---> 12\u001b[0;31m        \u001b[0mHANDLED_FUNCTIONS\u001b[0m\u001b[0;34m[\u001b[0m\u001b[0mnp_function\u001b[0m\u001b[0;34m]\u001b[0m \u001b[0;34m=\u001b[0m \u001b[0mfunc\u001b[0m\u001b[0;34m\u001b[0m\u001b[0;34m\u001b[0m\u001b[0m\n\u001b[0m\u001b[1;32m     13\u001b[0m        \u001b[0;32mreturn\u001b[0m \u001b[0mfunc\u001b[0m\u001b[0;34m\u001b[0m\u001b[0;34m\u001b[0m\u001b[0m\n\u001b[1;32m     14\u001b[0m    \u001b[0;32mreturn\u001b[0m \u001b[0mdecorator\u001b[0m\u001b[0;34m\u001b[0m\u001b[0;34m\u001b[0m\u001b[0m\n",
            "\u001b[0;31mNameError\u001b[0m: name 'HANDLED_FUNCTIONS' is not defined"
          ]
        }
      ]
    },
    {
      "cell_type": "code",
      "metadata": {
        "id": "GMhGab008XgQ",
        "colab_type": "code",
        "colab": {}
      },
      "source": [
        ""
      ],
      "execution_count": 0,
      "outputs": []
    },
    {
      "cell_type": "code",
      "metadata": {
        "id": "TJA20MSS8Xd8",
        "colab_type": "code",
        "colab": {}
      },
      "source": [
        ""
      ],
      "execution_count": 0,
      "outputs": []
    },
    {
      "cell_type": "code",
      "metadata": {
        "id": "bTZp6WU28Xbj",
        "colab_type": "code",
        "colab": {}
      },
      "source": [
        ""
      ],
      "execution_count": 0,
      "outputs": []
    },
    {
      "cell_type": "code",
      "metadata": {
        "id": "TemYoimu8XZE",
        "colab_type": "code",
        "colab": {}
      },
      "source": [
        ""
      ],
      "execution_count": 0,
      "outputs": []
    },
    {
      "cell_type": "code",
      "metadata": {
        "id": "84zlEYd98XW0",
        "colab_type": "code",
        "colab": {}
      },
      "source": [
        ""
      ],
      "execution_count": 0,
      "outputs": []
    },
    {
      "cell_type": "code",
      "metadata": {
        "id": "fpd8QiX38XUR",
        "colab_type": "code",
        "colab": {}
      },
      "source": [
        ""
      ],
      "execution_count": 0,
      "outputs": []
    },
    {
      "cell_type": "markdown",
      "metadata": {
        "id": "QD2Zti4oC-3Q",
        "colab_type": "text"
      },
      "source": [
        "## Subclassing ndarray"
      ]
    },
    {
      "cell_type": "markdown",
      "metadata": {
        "id": "c6Kiyd4hC-Vr",
        "colab_type": "text"
      },
      "source": [
        "\n",
        "\n",
        "---\n",
        "\n"
      ]
    }
  ]
}
