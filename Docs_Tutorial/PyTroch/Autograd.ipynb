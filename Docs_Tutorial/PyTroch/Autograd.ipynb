{
  "nbformat": 4,
  "nbformat_minor": 0,
  "metadata": {
    "colab": {
      "name": "AUTOGRAD: AUTOMATIC DIFFERENTIATION.ipynb",
      "provenance": [],
      "authorship_tag": "ABX9TyMmUV1PvBAWU9DyJ4XW+JOF",
      "include_colab_link": true
    },
    "kernelspec": {
      "name": "python3",
      "display_name": "Python 3"
    }
  },
  "cells": [
    {
      "cell_type": "markdown",
      "metadata": {
        "id": "view-in-github",
        "colab_type": "text"
      },
      "source": [
        "<a href=\"https://colab.research.google.com/github/gimquokka/ML/blob/master/Pytorch_Docs_AUTOGRAD_AUTOMATIC_DIFFERENTIATION.ipynb\" target=\"_parent\"><img src=\"https://colab.research.google.com/assets/colab-badge.svg\" alt=\"Open In Colab\"/></a>"
      ]
    },
    {
      "cell_type": "code",
      "metadata": {
        "id": "o1OJK7daKpJ2",
        "colab_type": "code",
        "colab": {}
      },
      "source": [
        ""
      ],
      "execution_count": null,
      "outputs": []
    },
    {
      "cell_type": "markdown",
      "metadata": {
        "id": "7dTxXECiCK4l",
        "colab_type": "text"
      },
      "source": [
        "# AUTOGRAD: AUTOMATIC DIFFERENTIATION"
      ]
    },
    {
      "cell_type": "markdown",
      "metadata": {
        "id": "XDUrMN2aCPGi",
        "colab_type": "text"
      },
      "source": [
        "## Tensor"
      ]
    },
    {
      "cell_type": "code",
      "metadata": {
        "id": "Fz9GA6MBCSGu",
        "colab_type": "code",
        "colab": {}
      },
      "source": [
        "import torch"
      ],
      "execution_count": 1,
      "outputs": []
    },
    {
      "cell_type": "code",
      "metadata": {
        "id": "DRX9O70cCSEq",
        "colab_type": "code",
        "colab": {
          "base_uri": "https://localhost:8080/",
          "height": 68
        },
        "outputId": "862d68d2-9eef-4ace-d96b-4961947708f6"
      },
      "source": [
        "x = torch.ones(3, 2, requires_grad=True)\n",
        "print(x)"
      ],
      "execution_count": 4,
      "outputs": [
        {
          "output_type": "stream",
          "text": [
            "tensor([[1., 1.],\n",
            "        [1., 1.],\n",
            "        [1., 1.]], requires_grad=True)\n"
          ],
          "name": "stdout"
        }
      ]
    },
    {
      "cell_type": "code",
      "metadata": {
        "id": "toCkpSDWCSCU",
        "colab_type": "code",
        "colab": {
          "base_uri": "https://localhost:8080/",
          "height": 68
        },
        "outputId": "5be40aa1-fcc1-445a-838c-0eccba76f550"
      },
      "source": [
        "y = x + 10\n",
        "print(y)"
      ],
      "execution_count": 5,
      "outputs": [
        {
          "output_type": "stream",
          "text": [
            "tensor([[11., 11.],\n",
            "        [11., 11.],\n",
            "        [11., 11.]], grad_fn=<AddBackward0>)\n"
          ],
          "name": "stdout"
        }
      ]
    },
    {
      "cell_type": "code",
      "metadata": {
        "id": "tmzEGKgvCSAI",
        "colab_type": "code",
        "colab": {
          "base_uri": "https://localhost:8080/",
          "height": 34
        },
        "outputId": "3cc36dd3-7b02-433c-b4d7-c19753a11c81"
      },
      "source": [
        "print(y.grad_fn)"
      ],
      "execution_count": 10,
      "outputs": [
        {
          "output_type": "stream",
          "text": [
            "<AddBackward0 object at 0x7f1c7d3fb438>\n"
          ],
          "name": "stdout"
        }
      ]
    },
    {
      "cell_type": "code",
      "metadata": {
        "id": "a11DFF5qCs3u",
        "colab_type": "code",
        "colab": {
          "base_uri": "https://localhost:8080/",
          "height": 85
        },
        "outputId": "7f20b621-ac58-439a-bad2-e3fd6fecd133"
      },
      "source": [
        "z = y*y\n",
        "out = z.mean()\n",
        "\n",
        "print(z)\n",
        "print(out)"
      ],
      "execution_count": 13,
      "outputs": [
        {
          "output_type": "stream",
          "text": [
            "tensor([[121., 121.],\n",
            "        [121., 121.],\n",
            "        [121., 121.]], grad_fn=<MulBackward0>)\n",
            "tensor(121., grad_fn=<MeanBackward0>)\n"
          ],
          "name": "stdout"
        }
      ]
    },
    {
      "cell_type": "code",
      "metadata": {
        "id": "4rtXQSDvC3zE",
        "colab_type": "code",
        "colab": {
          "base_uri": "https://localhost:8080/",
          "height": 119
        },
        "outputId": "86660ae7-cdc7-4de7-8e1f-3f8f7f69a622"
      },
      "source": [
        "a = torch.randn(2, 2)\n",
        "a = a*a\n",
        "print(a.requires_grad)\n",
        "a.requires_grad_(True)\n",
        "print(a.requires_grad)\n",
        "b = (a*a)\n",
        "print(b)\n",
        "print(b.sum())\n",
        "print(b.grad_fn)"
      ],
      "execution_count": 22,
      "outputs": [
        {
          "output_type": "stream",
          "text": [
            "False\n",
            "True\n",
            "tensor([[9.7295e-01, 5.3858e-03],\n",
            "        [1.0405e+00, 9.2645e-07]], grad_fn=<MulBackward0>)\n",
            "tensor(2.0189, grad_fn=<SumBackward0>)\n",
            "<MulBackward0 object at 0x7f1c7d3f94a8>\n"
          ],
          "name": "stdout"
        }
      ]
    },
    {
      "cell_type": "markdown",
      "metadata": {
        "id": "KRRv29kkCPXM",
        "colab_type": "text"
      },
      "source": [
        "## Gradients"
      ]
    },
    {
      "cell_type": "code",
      "metadata": {
        "id": "p3Q_4Q1kEvOi",
        "colab_type": "code",
        "colab": {}
      },
      "source": [
        "out.backward()"
      ],
      "execution_count": 25,
      "outputs": []
    },
    {
      "cell_type": "code",
      "metadata": {
        "id": "d2eAwzfeEvVo",
        "colab_type": "code",
        "colab": {
          "base_uri": "https://localhost:8080/",
          "height": 68
        },
        "outputId": "caabb6ee-4d66-4143-b466-9f48732dbdc8"
      },
      "source": [
        "print(x.grad)"
      ],
      "execution_count": 26,
      "outputs": [
        {
          "output_type": "stream",
          "text": [
            "tensor([[3.6667, 3.6667],\n",
            "        [3.6667, 3.6667],\n",
            "        [3.6667, 3.6667]])\n"
          ],
          "name": "stdout"
        }
      ]
    },
    {
      "cell_type": "code",
      "metadata": {
        "id": "nZlI1O7rGE_5",
        "colab_type": "code",
        "colab": {
          "base_uri": "https://localhost:8080/",
          "height": 34
        },
        "outputId": "e5e1987e-1971-4040-eefa-9d5e35da5634"
      },
      "source": [
        "print(y.retain_grad())"
      ],
      "execution_count": 30,
      "outputs": [
        {
          "output_type": "stream",
          "text": [
            "None\n"
          ],
          "name": "stdout"
        }
      ]
    },
    {
      "cell_type": "code",
      "metadata": {
        "id": "eHf0cb9qEvTj",
        "colab_type": "code",
        "colab": {
          "base_uri": "https://localhost:8080/",
          "height": 51
        },
        "outputId": "bc28901d-f1cf-4189-c33b-80e32b760202"
      },
      "source": [
        "x = torch.randn(2,2, requires_grad=True)\n",
        "\n",
        "y = x*15\n",
        "\n",
        "print(y)"
      ],
      "execution_count": 66,
      "outputs": [
        {
          "output_type": "stream",
          "text": [
            "tensor([[ 2.9872,  5.6401],\n",
            "        [ 9.0412, -6.7844]], grad_fn=<MulBackward0>)\n"
          ],
          "name": "stdout"
        }
      ]
    },
    {
      "cell_type": "code",
      "metadata": {
        "id": "b6GAeN9qEvRQ",
        "colab_type": "code",
        "colab": {
          "base_uri": "https://localhost:8080/",
          "height": 85
        },
        "outputId": "4e0655df-33dd-4115-ab63-abbaf06c89c1"
      },
      "source": [
        "x = torch.randn(2,2, requires_grad=True)\n",
        "\n",
        "y = x**3\n",
        "\n",
        "print(x)\n",
        "# ------------------------------------------------------------\n",
        "v = torch.tensor([[1, 2],[1, 4]], dtype=torch.float)\n",
        "y.backward(v)\n",
        "\n",
        "print(x.grad)"
      ],
      "execution_count": 73,
      "outputs": [
        {
          "output_type": "stream",
          "text": [
            "tensor([[0.8468, 1.2747],\n",
            "        [0.0539, 0.2396]], requires_grad=True)\n",
            "tensor([[2.1510e+00, 9.7487e+00],\n",
            "        [8.7195e-03, 6.8905e-01]])\n"
          ],
          "name": "stdout"
        }
      ]
    },
    {
      "cell_type": "code",
      "metadata": {
        "id": "CzV_tLDvKpQ9",
        "colab_type": "code",
        "colab": {
          "base_uri": "https://localhost:8080/",
          "height": 68
        },
        "outputId": "b32e9221-d101-4fb2-fcf4-92bb43400524"
      },
      "source": [
        "print(x.requires_grad)\n",
        "print((x*x*x).requires_grad)\n",
        "\n",
        "with torch.no_grad():\n",
        "  print((x**3).requires_grad)"
      ],
      "execution_count": 72,
      "outputs": [
        {
          "output_type": "stream",
          "text": [
            "True\n",
            "True\n",
            "False\n"
          ],
          "name": "stdout"
        }
      ]
    },
    {
      "cell_type": "code",
      "metadata": {
        "id": "30D9pQFVKpOq",
        "colab_type": "code",
        "colab": {
          "base_uri": "https://localhost:8080/",
          "height": 68
        },
        "outputId": "d43c36ed-fef8-4b2a-a5f0-71c2140626a8"
      },
      "source": [
        "print(x.requires_grad)\n",
        "y = x.detach()\n",
        "print(y.requires_grad)\n",
        "print(x.eq(y).all())"
      ],
      "execution_count": 75,
      "outputs": [
        {
          "output_type": "stream",
          "text": [
            "True\n",
            "False\n",
            "tensor(True)\n"
          ],
          "name": "stdout"
        }
      ]
    }
  ]
}