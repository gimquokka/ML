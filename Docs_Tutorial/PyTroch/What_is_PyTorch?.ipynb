{
  "nbformat": 4,
  "nbformat_minor": 0,
  "metadata": {
    "colab": {
      "name": "Pytorch Docs: WHAT IS PYTORCH?.ipynb",
      "provenance": [],
      "collapsed_sections": [],
      "authorship_tag": "ABX9TyNkihiacuvUeCbDmvAqpeUG",
      "include_colab_link": true
    },
    "kernelspec": {
      "name": "python3",
      "display_name": "Python 3"
    },
    "accelerator": "GPU"
  },
  "cells": [
    {
      "cell_type": "markdown",
      "metadata": {
        "id": "view-in-github",
        "colab_type": "text"
      },
      "source": [
        "<a href=\"https://colab.research.google.com/github/gimquokka/ML/blob/master/Pytorch_Docs_WHAT_IS_PYTORCH%3F.ipynb\" target=\"_parent\"><img src=\"https://colab.research.google.com/assets/colab-badge.svg\" alt=\"Open In Colab\"/></a>"
      ]
    },
    {
      "cell_type": "markdown",
      "metadata": {
        "id": "95H1hyFXDPIo",
        "colab_type": "text"
      },
      "source": [
        "# WHAT IS PYTORCH?"
      ]
    },
    {
      "cell_type": "markdown",
      "metadata": {
        "id": "bIt23iCfDWnu",
        "colab_type": "text"
      },
      "source": [
        "## Getting stared"
      ]
    },
    {
      "cell_type": "markdown",
      "metadata": {
        "id": "J2MP3bmsDZcW",
        "colab_type": "text"
      },
      "source": [
        "### Tensors"
      ]
    },
    {
      "cell_type": "code",
      "metadata": {
        "id": "ivCfR3rDnnjH",
        "colab_type": "code",
        "colab": {
          "base_uri": "https://localhost:8080/",
          "height": 102
        },
        "outputId": "6f23dba2-21c1-43d7-d580-0bb395c27f20"
      },
      "source": [
        "# from __future__ import print_function\n",
        "import torch\n",
        "\n",
        "x = torch.rand(5, 3)\n",
        "print(x)"
      ],
      "execution_count": 2,
      "outputs": [
        {
          "output_type": "stream",
          "text": [
            "tensor([[0.3893, 0.4298, 0.6030],\n",
            "        [0.9913, 0.7243, 0.3279],\n",
            "        [0.2813, 0.0425, 0.3246],\n",
            "        [0.6688, 0.0263, 0.7115],\n",
            "        [0.8539, 0.7296, 0.8299]])\n"
          ],
          "name": "stdout"
        }
      ]
    },
    {
      "cell_type": "code",
      "metadata": {
        "id": "fkRwojIaFg-T",
        "colab_type": "code",
        "colab": {
          "base_uri": "https://localhost:8080/",
          "height": 102
        },
        "outputId": "8e1d6926-65b1-48da-a010-8334e7e2e934"
      },
      "source": [
        "torch.empty(5, 3)"
      ],
      "execution_count": 3,
      "outputs": [
        {
          "output_type": "execute_result",
          "data": {
            "text/plain": [
              "tensor([[2.1833e-35, 0.0000e+00, 3.3631e-44],\n",
              "        [0.0000e+00,        nan, 0.0000e+00],\n",
              "        [1.1578e+27, 1.1362e+30, 7.1547e+22],\n",
              "        [4.5828e+30, 1.2121e+04, 7.1846e+22],\n",
              "        [9.2198e-39, 7.0374e+22, 5.0948e-14]])"
            ]
          },
          "metadata": {
            "tags": []
          },
          "execution_count": 3
        }
      ]
    },
    {
      "cell_type": "code",
      "metadata": {
        "id": "heGnSt7GFqMU",
        "colab_type": "code",
        "colab": {
          "base_uri": "https://localhost:8080/",
          "height": 68
        },
        "outputId": "6b5ca7df-a42d-4790-f868-322d9151613f"
      },
      "source": [
        "torch.rand(3, 3)"
      ],
      "execution_count": 4,
      "outputs": [
        {
          "output_type": "execute_result",
          "data": {
            "text/plain": [
              "tensor([[0.8364, 0.9508, 0.8205],\n",
              "        [0.6163, 0.7690, 0.8439],\n",
              "        [0.9222, 0.2829, 0.0864]])"
            ]
          },
          "metadata": {
            "tags": []
          },
          "execution_count": 4
        }
      ]
    },
    {
      "cell_type": "code",
      "metadata": {
        "id": "CsuT3OgdF0It",
        "colab_type": "code",
        "colab": {
          "base_uri": "https://localhost:8080/",
          "height": 68
        },
        "outputId": "890e461c-d45b-4af3-ac4c-74618a8848e8"
      },
      "source": [
        "torch.zeros(3, 3, dtype=torch.int)"
      ],
      "execution_count": 5,
      "outputs": [
        {
          "output_type": "execute_result",
          "data": {
            "text/plain": [
              "tensor([[0, 0, 0],\n",
              "        [0, 0, 0],\n",
              "        [0, 0, 0]], dtype=torch.int32)"
            ]
          },
          "metadata": {
            "tags": []
          },
          "execution_count": 5
        }
      ]
    },
    {
      "cell_type": "code",
      "metadata": {
        "id": "3DNyIAyJF0Gn",
        "colab_type": "code",
        "colab": {}
      },
      "source": [
        "x = torch.tensor([1, 2.3])"
      ],
      "execution_count": 6,
      "outputs": []
    },
    {
      "cell_type": "code",
      "metadata": {
        "id": "TYc5ZUfpF0ES",
        "colab_type": "code",
        "colab": {
          "base_uri": "https://localhost:8080/",
          "height": 153
        },
        "outputId": "697b801e-6f5f-4c19-b230-d6e099692ef8"
      },
      "source": [
        "x = x.new_ones(4, 3, dtype=torch.int)\n",
        "print(x)\n",
        "\n",
        "y = torch.randn_like(x, dtype=torch.float)\n",
        "print(y)"
      ],
      "execution_count": 7,
      "outputs": [
        {
          "output_type": "stream",
          "text": [
            "tensor([[1, 1, 1],\n",
            "        [1, 1, 1],\n",
            "        [1, 1, 1],\n",
            "        [1, 1, 1]], dtype=torch.int32)\n",
            "tensor([[-1.0790, -0.5086, -1.2842],\n",
            "        [-1.4947,  1.3933,  1.5676],\n",
            "        [-0.4340, -0.0876, -0.3106],\n",
            "        [ 1.5105, -0.6886,  0.2189]])\n"
          ],
          "name": "stdout"
        }
      ]
    },
    {
      "cell_type": "code",
      "metadata": {
        "id": "bggU2HGKF0CC",
        "colab_type": "code",
        "colab": {
          "base_uri": "https://localhost:8080/",
          "height": 34
        },
        "outputId": "5500ce19-1c05-4b22-a61e-bbaa7fc57475"
      },
      "source": [
        "print(y.size())"
      ],
      "execution_count": 8,
      "outputs": [
        {
          "output_type": "stream",
          "text": [
            "torch.Size([4, 3])\n"
          ],
          "name": "stdout"
        }
      ]
    },
    {
      "cell_type": "markdown",
      "metadata": {
        "id": "_i7oQyNYDhff",
        "colab_type": "text"
      },
      "source": [
        "### Operations"
      ]
    },
    {
      "cell_type": "code",
      "metadata": {
        "id": "wMQ-Md1mFz_2",
        "colab_type": "code",
        "colab": {
          "base_uri": "https://localhost:8080/",
          "height": 85
        },
        "outputId": "0aa124f2-8939-426b-bc8b-08e534c46917"
      },
      "source": [
        "print(x+y)"
      ],
      "execution_count": 9,
      "outputs": [
        {
          "output_type": "stream",
          "text": [
            "tensor([[-0.0790,  0.4914, -0.2842],\n",
            "        [-0.4947,  2.3933,  2.5676],\n",
            "        [ 0.5660,  0.9124,  0.6894],\n",
            "        [ 2.5105,  0.3114,  1.2189]])\n"
          ],
          "name": "stdout"
        }
      ]
    },
    {
      "cell_type": "code",
      "metadata": {
        "id": "S8N22jxXFz57",
        "colab_type": "code",
        "colab": {
          "base_uri": "https://localhost:8080/",
          "height": 85
        },
        "outputId": "a235ed68-6afb-42b3-d73f-2bcd233385d2"
      },
      "source": [
        "torch.add(x, y)"
      ],
      "execution_count": 10,
      "outputs": [
        {
          "output_type": "execute_result",
          "data": {
            "text/plain": [
              "tensor([[-0.0790,  0.4914, -0.2842],\n",
              "        [-0.4947,  2.3933,  2.5676],\n",
              "        [ 0.5660,  0.9124,  0.6894],\n",
              "        [ 2.5105,  0.3114,  1.2189]])"
            ]
          },
          "metadata": {
            "tags": []
          },
          "execution_count": 10
        }
      ]
    },
    {
      "cell_type": "code",
      "metadata": {
        "id": "sHV1-INNSgpw",
        "colab_type": "code",
        "colab": {
          "base_uri": "https://localhost:8080/",
          "height": 85
        },
        "outputId": "fea6a851-3102-4984-8c85-e88d82f65dea"
      },
      "source": [
        "result = torch.empty(4, 3)\n",
        "\n",
        "torch.add(x, y, out=result)\n",
        "\n",
        "print(result)"
      ],
      "execution_count": 11,
      "outputs": [
        {
          "output_type": "stream",
          "text": [
            "tensor([[-0.0790,  0.4914, -0.2842],\n",
            "        [-0.4947,  2.3933,  2.5676],\n",
            "        [ 0.5660,  0.9124,  0.6894],\n",
            "        [ 2.5105,  0.3114,  1.2189]])\n"
          ],
          "name": "stdout"
        }
      ]
    },
    {
      "cell_type": "code",
      "metadata": {
        "id": "_D5eBIkoSq5J",
        "colab_type": "code",
        "colab": {
          "base_uri": "https://localhost:8080/",
          "height": 85
        },
        "outputId": "62c6c05c-8840-4275-a8b3-293e08fbe1c7"
      },
      "source": [
        "y.add_(x)\n",
        "print(y)"
      ],
      "execution_count": 12,
      "outputs": [
        {
          "output_type": "stream",
          "text": [
            "tensor([[-0.0790,  0.4914, -0.2842],\n",
            "        [-0.4947,  2.3933,  2.5676],\n",
            "        [ 0.5660,  0.9124,  0.6894],\n",
            "        [ 2.5105,  0.3114,  1.2189]])\n"
          ],
          "name": "stdout"
        }
      ]
    },
    {
      "cell_type": "code",
      "metadata": {
        "id": "5Y6Nz1yGSgnR",
        "colab_type": "code",
        "colab": {
          "base_uri": "https://localhost:8080/",
          "height": 34
        },
        "outputId": "52bb733b-bb2c-411d-d19e-5deca64daf54"
      },
      "source": [
        "y[:1, :2]"
      ],
      "execution_count": 13,
      "outputs": [
        {
          "output_type": "execute_result",
          "data": {
            "text/plain": [
              "tensor([[-0.0790,  0.4914]])"
            ]
          },
          "metadata": {
            "tags": []
          },
          "execution_count": 13
        }
      ]
    },
    {
      "cell_type": "code",
      "metadata": {
        "id": "Rhqod7i2SglF",
        "colab_type": "code",
        "colab": {
          "base_uri": "https://localhost:8080/",
          "height": 34
        },
        "outputId": "be981fc5-cb57-47df-d4e0-628b91112b91"
      },
      "source": [
        "x = torch.rand(3, 3)\n",
        "y = x.view(9)\n",
        "z = x.view(3, -1)\n",
        "\n",
        "print(x.size(), y.size(), z.size())"
      ],
      "execution_count": 14,
      "outputs": [
        {
          "output_type": "stream",
          "text": [
            "torch.Size([3, 3]) torch.Size([9]) torch.Size([3, 3])\n"
          ],
          "name": "stdout"
        }
      ]
    },
    {
      "cell_type": "code",
      "metadata": {
        "id": "iViUNwsOSgjB",
        "colab_type": "code",
        "colab": {
          "base_uri": "https://localhost:8080/",
          "height": 34
        },
        "outputId": "6ea5f265-1b6f-4434-cb1b-f1cd57d0ac2e"
      },
      "source": [
        "x = torch.rand(1)\n",
        "print(x.item())"
      ],
      "execution_count": 15,
      "outputs": [
        {
          "output_type": "stream",
          "text": [
            "0.24317604303359985\n"
          ],
          "name": "stdout"
        }
      ]
    },
    {
      "cell_type": "markdown",
      "metadata": {
        "id": "Uay7v7xnVw7k",
        "colab_type": "text"
      },
      "source": [
        "## NumPy Bridge"
      ]
    },
    {
      "cell_type": "markdown",
      "metadata": {
        "id": "I1zfxjGtVwjs",
        "colab_type": "text"
      },
      "source": [
        "### Converting a Torch Tensor to a Numpy Array"
      ]
    },
    {
      "cell_type": "code",
      "metadata": {
        "id": "nn6rshAJSggx",
        "colab_type": "code",
        "colab": {
          "base_uri": "https://localhost:8080/",
          "height": 34
        },
        "outputId": "89fc7954-498f-43f0-cd6e-79a66b69a623"
      },
      "source": [
        "x = torch.ones(4)\n",
        "\n",
        "print(x)"
      ],
      "execution_count": 16,
      "outputs": [
        {
          "output_type": "stream",
          "text": [
            "tensor([1., 1., 1., 1.])\n"
          ],
          "name": "stdout"
        }
      ]
    },
    {
      "cell_type": "code",
      "metadata": {
        "id": "7vV0-yGYSgen",
        "colab_type": "code",
        "colab": {
          "base_uri": "https://localhost:8080/",
          "height": 34
        },
        "outputId": "378c1f33-f3af-4b65-f684-c0142a3a2768"
      },
      "source": [
        "y = x.numpy()\n",
        "\n",
        "print(y)"
      ],
      "execution_count": 18,
      "outputs": [
        {
          "output_type": "stream",
          "text": [
            "[1. 1. 1. 1.]\n"
          ],
          "name": "stdout"
        }
      ]
    },
    {
      "cell_type": "code",
      "metadata": {
        "id": "HgPdiPYQShtB",
        "colab_type": "code",
        "colab": {
          "base_uri": "https://localhost:8080/",
          "height": 51
        },
        "outputId": "bf132c08-0df6-4e60-a68b-0c3453d6ca12"
      },
      "source": [
        "x.add_(2)\n",
        "\n",
        "print(x)\n",
        "print(y)"
      ],
      "execution_count": 19,
      "outputs": [
        {
          "output_type": "stream",
          "text": [
            "tensor([3., 3., 3., 3.])\n",
            "[3. 3. 3. 3.]\n"
          ],
          "name": "stdout"
        }
      ]
    },
    {
      "cell_type": "markdown",
      "metadata": {
        "id": "B_3gHCWaEpaS",
        "colab_type": "text"
      },
      "source": [
        "### Converting Numpy Array to Torch Tensor"
      ]
    },
    {
      "cell_type": "code",
      "metadata": {
        "id": "269zVXl3Shq5",
        "colab_type": "code",
        "colab": {
          "base_uri": "https://localhost:8080/",
          "height": 85
        },
        "outputId": "1d204132-9272-4a3c-f18a-c6a21fcdb2d1"
      },
      "source": [
        "import numpy as np\n",
        "\n",
        "x = np.ones((2, 2))\n",
        "y = torch.from_numpy(x)\n",
        "np.add(x, 1, out = x)\n",
        "\n",
        "print(x)\n",
        "print(y)"
      ],
      "execution_count": 22,
      "outputs": [
        {
          "output_type": "stream",
          "text": [
            "[[2. 2.]\n",
            " [2. 2.]]\n",
            "tensor([[2., 2.],\n",
            "        [2., 2.]], dtype=torch.float64)\n"
          ],
          "name": "stdout"
        }
      ]
    },
    {
      "cell_type": "markdown",
      "metadata": {
        "id": "n-y03OZpFsit",
        "colab_type": "text"
      },
      "source": [
        "### CUDA Tensors"
      ]
    },
    {
      "cell_type": "code",
      "metadata": {
        "id": "SBThB1jBEvbY",
        "colab_type": "code",
        "colab": {
          "base_uri": "https://localhost:8080/",
          "height": 85
        },
        "outputId": "25eae2e0-35f8-41cd-b515-5e9cd32454a8"
      },
      "source": [
        "torch.cuda.is_available()\n",
        "if torch.cuda.is_available():\n",
        "  device = torch.device(\"cuda\")\n",
        "  x = torch.rand(2, 2)\n",
        "  y = torch.ones_like(x, device=device)\n",
        "  x = x.to(device)\n",
        "  z = x + y\n",
        "  \n",
        "  print(z)\n",
        "  print(z.to('cpu', torch.int))"
      ],
      "execution_count": 26,
      "outputs": [
        {
          "output_type": "stream",
          "text": [
            "tensor([[1.1383, 1.2715],\n",
            "        [1.5521, 1.4691]], device='cuda:0')\n",
            "tensor([[1, 1],\n",
            "        [1, 1]], dtype=torch.int32)\n"
          ],
          "name": "stdout"
        }
      ]
    }
  ]
}