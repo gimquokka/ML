{
  "nbformat": 4,
  "nbformat_minor": 0,
  "metadata": {
    "colab": {
      "name": "Numpy Quickstart tutorial.ipynb",
      "provenance": [],
      "authorship_tag": "ABX9TyMHPtnwdPBh6HwaGd9lyNQB",
      "include_colab_link": true
    },
    "kernelspec": {
      "name": "python3",
      "display_name": "Python 3"
    }
  },
  "cells": [
    {
      "cell_type": "markdown",
      "metadata": {
        "id": "view-in-github",
        "colab_type": "text"
      },
      "source": [
        "<a href=\"https://colab.research.google.com/github/gimquokka/ML/blob/master/Numpy_Quickstart_tutorial.ipynb\" target=\"_parent\"><img src=\"https://colab.research.google.com/assets/colab-badge.svg\" alt=\"Open In Colab\"/></a>"
      ]
    },
    {
      "cell_type": "markdown",
      "metadata": {
        "id": "ms_oCm3c3voZ",
        "colab_type": "text"
      },
      "source": [
        "# Numpy Quickstart tutorial"
      ]
    },
    {
      "cell_type": "code",
      "metadata": {
        "id": "LEg2SaTOwPcW",
        "colab_type": "code",
        "colab": {}
      },
      "source": [
        "import numpy as np\n",
        "rg = np.random.default_rng(10)"
      ],
      "execution_count": 0,
      "outputs": []
    },
    {
      "cell_type": "markdown",
      "metadata": {
        "id": "lIp58feL7phM",
        "colab_type": "text"
      },
      "source": [
        "## Prerequisites"
      ]
    },
    {
      "cell_type": "markdown",
      "metadata": {
        "id": "NvvK_RFD7fF5",
        "colab_type": "text"
      },
      "source": [
        "## The Basics"
      ]
    },
    {
      "cell_type": "markdown",
      "metadata": {
        "id": "qcoOHzzb4qw4",
        "colab_type": "text"
      },
      "source": [
        "## **shape Manipulation**"
      ]
    },
    {
      "cell_type": "markdown",
      "metadata": {
        "id": "D5Ehe-Us5DF4",
        "colab_type": "text"
      },
      "source": [
        "### Stacking together different **arrays**"
      ]
    },
    {
      "cell_type": "code",
      "metadata": {
        "id": "J1-ta7mr3j6U",
        "colab_type": "code",
        "outputId": "faa9e191-9d77-46a2-fdec-7122144df51f",
        "colab": {
          "base_uri": "https://localhost:8080/",
          "height": 50
        }
      },
      "source": [
        "a = np.floor(10*rg.random((2, 2)))\n",
        "a"
      ],
      "execution_count": 0,
      "outputs": [
        {
          "output_type": "execute_result",
          "data": {
            "text/plain": [
              "array([[9., 2.],\n",
              "       [8., 1.]])"
            ]
          },
          "metadata": {
            "tags": []
          },
          "execution_count": 76
        }
      ]
    },
    {
      "cell_type": "code",
      "metadata": {
        "id": "NxVQTJVi19fA",
        "colab_type": "code",
        "outputId": "56165baf-39b1-49dc-a909-1daf3edfb6da",
        "colab": {
          "base_uri": "https://localhost:8080/",
          "height": 50
        }
      },
      "source": [
        "b = np.floor(10*rg.random((2,2)))\n",
        "b"
      ],
      "execution_count": 0,
      "outputs": [
        {
          "output_type": "execute_result",
          "data": {
            "text/plain": [
              "array([[4., 9.],\n",
              "       [8., 3.]])"
            ]
          },
          "metadata": {
            "tags": []
          },
          "execution_count": 14
        }
      ]
    },
    {
      "cell_type": "code",
      "metadata": {
        "id": "DP52XGinL2k_",
        "colab_type": "code",
        "outputId": "2b214427-3e8d-4091-9de9-b224e01b6a4a",
        "colab": {
          "base_uri": "https://localhost:8080/",
          "height": 84
        }
      },
      "source": [
        "np.vstack((a, b))"
      ],
      "execution_count": 0,
      "outputs": [
        {
          "output_type": "execute_result",
          "data": {
            "text/plain": [
              "array([[5., 1.],\n",
              "       [6., 8.],\n",
              "       [4., 9.],\n",
              "       [8., 3.]])"
            ]
          },
          "metadata": {
            "tags": []
          },
          "execution_count": 15
        }
      ]
    },
    {
      "cell_type": "code",
      "metadata": {
        "id": "AShaerENL2x3",
        "colab_type": "code",
        "outputId": "3b1dd75e-caa1-4dfb-89a6-e50227b3697a",
        "colab": {
          "base_uri": "https://localhost:8080/",
          "height": 50
        }
      },
      "source": [
        "np.hstack((a,b))"
      ],
      "execution_count": 0,
      "outputs": [
        {
          "output_type": "execute_result",
          "data": {
            "text/plain": [
              "array([[5., 1., 4., 9.],\n",
              "       [6., 8., 8., 3.]])"
            ]
          },
          "metadata": {
            "tags": []
          },
          "execution_count": 16
        }
      ]
    },
    {
      "cell_type": "code",
      "metadata": {
        "id": "X2roSh_7L2_A",
        "colab_type": "code",
        "outputId": "d3fc0b55-33de-460c-ced3-ad864fd9d410",
        "colab": {
          "base_uri": "https://localhost:8080/",
          "height": 50
        }
      },
      "source": [
        "np.column_stack((a,b))"
      ],
      "execution_count": 0,
      "outputs": [
        {
          "output_type": "execute_result",
          "data": {
            "text/plain": [
              "array([[5., 1., 4., 9.],\n",
              "       [6., 8., 8., 3.]])"
            ]
          },
          "metadata": {
            "tags": []
          },
          "execution_count": 17
        }
      ]
    },
    {
      "cell_type": "code",
      "metadata": {
        "id": "1YJZpNFxL3vf",
        "colab_type": "code",
        "outputId": "a7688ef4-fabf-4ce0-9796-d7199a562b3a",
        "colab": {
          "base_uri": "https://localhost:8080/",
          "height": 50
        }
      },
      "source": [
        "a = np.array([4, 2])\n",
        "b = np.array([1,2 ])\n",
        "np.column_stack([a, b])"
      ],
      "execution_count": 0,
      "outputs": [
        {
          "output_type": "execute_result",
          "data": {
            "text/plain": [
              "array([[4, 1],\n",
              "       [2, 2]])"
            ]
          },
          "metadata": {
            "tags": []
          },
          "execution_count": 18
        }
      ]
    },
    {
      "cell_type": "code",
      "metadata": {
        "id": "pTb1IZ_YL3o1",
        "colab_type": "code",
        "outputId": "e647bd28-823d-4435-85c1-da8cfe7e4a85",
        "colab": {
          "base_uri": "https://localhost:8080/",
          "height": 34
        }
      },
      "source": [
        "np.hstack((a, b))"
      ],
      "execution_count": 0,
      "outputs": [
        {
          "output_type": "execute_result",
          "data": {
            "text/plain": [
              "array([4, 2, 1, 2])"
            ]
          },
          "metadata": {
            "tags": []
          },
          "execution_count": 19
        }
      ]
    },
    {
      "cell_type": "code",
      "metadata": {
        "id": "__vITLX9y0Pl",
        "colab_type": "code",
        "colab": {}
      },
      "source": [
        "from numpy import newaxis\n",
        "an = a[:,newaxis]"
      ],
      "execution_count": 0,
      "outputs": []
    },
    {
      "cell_type": "code",
      "metadata": {
        "id": "gOiItPvl19nk",
        "colab_type": "code",
        "outputId": "2df946a8-37e4-46da-e3a1-0a6afd8849c7",
        "colab": {
          "base_uri": "https://localhost:8080/",
          "height": 34
        }
      },
      "source": [
        "bn = b[:, newaxis]\n",
        "bn.shape"
      ],
      "execution_count": 0,
      "outputs": [
        {
          "output_type": "execute_result",
          "data": {
            "text/plain": [
              "(2, 1)"
            ]
          },
          "metadata": {
            "tags": []
          },
          "execution_count": 36
        }
      ]
    },
    {
      "cell_type": "code",
      "metadata": {
        "id": "UtzwXFoW192D",
        "colab_type": "code",
        "outputId": "330087cf-8fd4-4aa0-ea6c-1a4ead422f0e",
        "colab": {
          "base_uri": "https://localhost:8080/",
          "height": 50
        }
      },
      "source": [
        "np.column_stack((an,bn))"
      ],
      "execution_count": 0,
      "outputs": [
        {
          "output_type": "execute_result",
          "data": {
            "text/plain": [
              "array([[4, 1],\n",
              "       [2, 2]])"
            ]
          },
          "metadata": {
            "tags": []
          },
          "execution_count": 34
        }
      ]
    },
    {
      "cell_type": "code",
      "metadata": {
        "id": "wYktWE5W199Q",
        "colab_type": "code",
        "outputId": "a271e963-3f2f-4443-a87c-e101cfabec72",
        "colab": {
          "base_uri": "https://localhost:8080/",
          "height": 50
        }
      },
      "source": [
        "np.hstack((an, bn))"
      ],
      "execution_count": 0,
      "outputs": [
        {
          "output_type": "execute_result",
          "data": {
            "text/plain": [
              "array([[4, 1],\n",
              "       [2, 2]])"
            ]
          },
          "metadata": {
            "tags": []
          },
          "execution_count": 38
        }
      ]
    },
    {
      "cell_type": "code",
      "metadata": {
        "id": "LGvghS_71-MS",
        "colab_type": "code",
        "outputId": "31a414ce-2941-44a3-bcaf-f9068eb3331a",
        "colab": {
          "base_uri": "https://localhost:8080/",
          "height": 34
        }
      },
      "source": [
        "np.column_stack is np.hstack"
      ],
      "execution_count": 0,
      "outputs": [
        {
          "output_type": "execute_result",
          "data": {
            "text/plain": [
              "False"
            ]
          },
          "metadata": {
            "tags": []
          },
          "execution_count": 39
        }
      ]
    },
    {
      "cell_type": "code",
      "metadata": {
        "id": "-qc0HSNfP2V3",
        "colab_type": "code",
        "outputId": "28e7a86c-d227-404e-b385-aa19f46b3100",
        "colab": {
          "base_uri": "https://localhost:8080/",
          "height": 34
        }
      },
      "source": [
        "np.row_stack is np.vstack"
      ],
      "execution_count": 0,
      "outputs": [
        {
          "output_type": "execute_result",
          "data": {
            "text/plain": [
              "True"
            ]
          },
          "metadata": {
            "tags": []
          },
          "execution_count": 40
        }
      ]
    },
    {
      "cell_type": "code",
      "metadata": {
        "id": "WTBl72WZ1-O3",
        "colab_type": "code",
        "outputId": "e76ab473-e9a0-4664-bd18-2b8c434b39fb",
        "colab": {
          "base_uri": "https://localhost:8080/",
          "height": 34
        }
      },
      "source": [
        "np.r_[1:10]"
      ],
      "execution_count": 0,
      "outputs": [
        {
          "output_type": "execute_result",
          "data": {
            "text/plain": [
              "array([1, 2, 3, 4, 5, 6, 7, 8, 9])"
            ]
          },
          "metadata": {
            "tags": []
          },
          "execution_count": 43
        }
      ]
    },
    {
      "cell_type": "code",
      "metadata": {
        "id": "9HF95WwA1-ik",
        "colab_type": "code",
        "outputId": "f48c17d8-033e-431d-ead9-0d848415419a",
        "colab": {
          "base_uri": "https://localhost:8080/",
          "height": 168
        }
      },
      "source": [
        "np.c_[1:10]"
      ],
      "execution_count": 0,
      "outputs": [
        {
          "output_type": "execute_result",
          "data": {
            "text/plain": [
              "array([[1],\n",
              "       [2],\n",
              "       [3],\n",
              "       [4],\n",
              "       [5],\n",
              "       [6],\n",
              "       [7],\n",
              "       [8],\n",
              "       [9]])"
            ]
          },
          "metadata": {
            "tags": []
          },
          "execution_count": 44
        }
      ]
    },
    {
      "cell_type": "code",
      "metadata": {
        "id": "5RX83ned1-rX",
        "colab_type": "code",
        "outputId": "1225cc3f-592c-43e5-a95c-3299c4ee46b4",
        "colab": {
          "base_uri": "https://localhost:8080/",
          "height": 34
        }
      },
      "source": [
        "np.r_[1:5, 5, 7]"
      ],
      "execution_count": 0,
      "outputs": [
        {
          "output_type": "execute_result",
          "data": {
            "text/plain": [
              "array([1, 2, 3, 4, 5, 7])"
            ]
          },
          "metadata": {
            "tags": []
          },
          "execution_count": 46
        }
      ]
    },
    {
      "cell_type": "markdown",
      "metadata": {
        "id": "QABlD1fD1-0v",
        "colab_type": "text"
      },
      "source": [
        "### Splitting one array into several smaller ones"
      ]
    },
    {
      "cell_type": "code",
      "metadata": {
        "id": "R9vs1DThQ-an",
        "colab_type": "code",
        "outputId": "2e33d646-75a4-4bcd-a383-f9e5af98d1e4",
        "colab": {
          "base_uri": "https://localhost:8080/",
          "height": 84
        }
      },
      "source": [
        "a = np.floor(10*rg.random((4, 4)))\n",
        "a"
      ],
      "execution_count": 0,
      "outputs": [
        {
          "output_type": "execute_result",
          "data": {
            "text/plain": [
              "array([[2., 8., 0., 8.],\n",
              "       [8., 4., 8., 3.],\n",
              "       [5., 5., 1., 3.],\n",
              "       [2., 4., 6., 6.]])"
            ]
          },
          "metadata": {
            "tags": []
          },
          "execution_count": 49
        }
      ]
    },
    {
      "cell_type": "code",
      "metadata": {
        "id": "hFdr5NIsQ-gn",
        "colab_type": "code",
        "outputId": "9306facc-2163-4c97-df41-bdc8462933f4",
        "colab": {
          "base_uri": "https://localhost:8080/",
          "height": 235
        }
      },
      "source": [
        "np.hsplit(a,4)"
      ],
      "execution_count": 0,
      "outputs": [
        {
          "output_type": "execute_result",
          "data": {
            "text/plain": [
              "[array([[2.],\n",
              "        [8.],\n",
              "        [5.],\n",
              "        [2.]]), array([[8.],\n",
              "        [4.],\n",
              "        [5.],\n",
              "        [4.]]), array([[0.],\n",
              "        [8.],\n",
              "        [1.],\n",
              "        [6.]]), array([[8.],\n",
              "        [3.],\n",
              "        [3.],\n",
              "        [6.]])]"
            ]
          },
          "metadata": {
            "tags": []
          },
          "execution_count": 62
        }
      ]
    },
    {
      "cell_type": "code",
      "metadata": {
        "id": "6lEpn6usQ-ki",
        "colab_type": "code",
        "outputId": "70fc7cf0-b94b-40c9-ee85-34bee7b45316",
        "colab": {
          "base_uri": "https://localhost:8080/",
          "height": 134
        }
      },
      "source": [
        "np.hsplit(a, (1,1))"
      ],
      "execution_count": 0,
      "outputs": [
        {
          "output_type": "execute_result",
          "data": {
            "text/plain": [
              "[array([[2.],\n",
              "        [8.],\n",
              "        [5.],\n",
              "        [2.]]), array([], shape=(4, 0), dtype=float64), array([[8., 0., 8.],\n",
              "        [4., 8., 3.],\n",
              "        [5., 1., 3.],\n",
              "        [4., 6., 6.]])]"
            ]
          },
          "metadata": {
            "tags": []
          },
          "execution_count": 55
        }
      ]
    },
    {
      "cell_type": "code",
      "metadata": {
        "id": "Z2xP6oDdQ-oz",
        "colab_type": "code",
        "outputId": "f3588968-13f2-47d6-cd0d-ecb706bc8c7d",
        "colab": {
          "base_uri": "https://localhost:8080/",
          "height": 185
        }
      },
      "source": [
        "np.hsplit(a, (1,3))"
      ],
      "execution_count": 0,
      "outputs": [
        {
          "output_type": "execute_result",
          "data": {
            "text/plain": [
              "[array([[2.],\n",
              "        [8.],\n",
              "        [5.],\n",
              "        [2.]]), array([[8., 0.],\n",
              "        [4., 8.],\n",
              "        [5., 1.],\n",
              "        [4., 6.]]), array([[8.],\n",
              "        [3.],\n",
              "        [3.],\n",
              "        [6.]])]"
            ]
          },
          "metadata": {
            "tags": []
          },
          "execution_count": 64
        }
      ]
    },
    {
      "cell_type": "markdown",
      "metadata": {
        "id": "t819ceeDQ-sV",
        "colab_type": "text"
      },
      "source": [
        "## Copies and Views"
      ]
    },
    {
      "cell_type": "markdown",
      "metadata": {
        "id": "CwTArtirQ-wO",
        "colab_type": "text"
      },
      "source": [
        "### No copy at All"
      ]
    },
    {
      "cell_type": "code",
      "metadata": {
        "id": "2yy3gCtjQ-0J",
        "colab_type": "code",
        "outputId": "35f3fdfc-a1bd-4de0-ba50-890000b1b622",
        "colab": {
          "base_uri": "https://localhost:8080/",
          "height": 34
        }
      },
      "source": [
        "a = rg.random(10*(2,2))\n",
        "\n",
        "b = a\n",
        "a is b"
      ],
      "execution_count": 0,
      "outputs": [
        {
          "output_type": "execute_result",
          "data": {
            "text/plain": [
              "True"
            ]
          },
          "metadata": {
            "tags": []
          },
          "execution_count": 66
        }
      ]
    },
    {
      "cell_type": "code",
      "metadata": {
        "id": "YjtM0L3VQ-3Q",
        "colab_type": "code",
        "outputId": "5e7b48c4-5456-40c6-de0b-6e790ed98484",
        "colab": {
          "base_uri": "https://localhost:8080/",
          "height": 67
        }
      },
      "source": [
        "def f(x):\n",
        "  print(id(x))\n",
        "\n",
        "print(id(a))\n",
        "print(f(a))"
      ],
      "execution_count": 0,
      "outputs": [
        {
          "output_type": "stream",
          "text": [
            "140434837895728\n",
            "140434837895728\n",
            "None\n"
          ],
          "name": "stdout"
        }
      ]
    },
    {
      "cell_type": "markdown",
      "metadata": {
        "id": "yHsAZgv4Q-60",
        "colab_type": "text"
      },
      "source": [
        "### Views or Shallow copy"
      ]
    },
    {
      "cell_type": "code",
      "metadata": {
        "id": "YoCmouGpQ--S",
        "colab_type": "code",
        "outputId": "b9508dbe-be39-446a-a5e4-bb3405c94581",
        "colab": {
          "base_uri": "https://localhost:8080/",
          "height": 34
        }
      },
      "source": [
        "a\n",
        "c = a.view()\n",
        "\n",
        "c is a"
      ],
      "execution_count": 0,
      "outputs": [
        {
          "output_type": "execute_result",
          "data": {
            "text/plain": [
              "False"
            ]
          },
          "metadata": {
            "tags": []
          },
          "execution_count": 79
        }
      ]
    },
    {
      "cell_type": "code",
      "metadata": {
        "id": "fpxVj40pQ_Bo",
        "colab_type": "code",
        "outputId": "d8b1806f-22a7-4dd7-aba1-57eda118b1de",
        "colab": {
          "base_uri": "https://localhost:8080/",
          "height": 34
        }
      },
      "source": [
        "c.base is a"
      ],
      "execution_count": 0,
      "outputs": [
        {
          "output_type": "execute_result",
          "data": {
            "text/plain": [
              "True"
            ]
          },
          "metadata": {
            "tags": []
          },
          "execution_count": 80
        }
      ]
    },
    {
      "cell_type": "code",
      "metadata": {
        "id": "vYMhVzK4Q_E8",
        "colab_type": "code",
        "outputId": "a4e32fe5-925d-4c23-c016-dc333306150c",
        "colab": {
          "base_uri": "https://localhost:8080/",
          "height": 34
        }
      },
      "source": [
        "c.flags.owndata"
      ],
      "execution_count": 0,
      "outputs": [
        {
          "output_type": "execute_result",
          "data": {
            "text/plain": [
              "False"
            ]
          },
          "metadata": {
            "tags": []
          },
          "execution_count": 81
        }
      ]
    },
    {
      "cell_type": "code",
      "metadata": {
        "id": "84_BCThyQ_H4",
        "colab_type": "code",
        "outputId": "84548701-3250-420f-d809-76d50695c0fd",
        "colab": {
          "base_uri": "https://localhost:8080/",
          "height": 34
        }
      },
      "source": [
        "print(c.shape)\n",
        "c = c.reshape((1,4))"
      ],
      "execution_count": 0,
      "outputs": [
        {
          "output_type": "stream",
          "text": [
            "(2, 2)\n"
          ],
          "name": "stdout"
        }
      ]
    },
    {
      "cell_type": "code",
      "metadata": {
        "id": "CMrTBp4FQ_LC",
        "colab_type": "code",
        "outputId": "85657aa4-ceef-4bb2-e312-899ef40be797",
        "colab": {
          "base_uri": "https://localhost:8080/",
          "height": 34
        }
      },
      "source": [
        "c.shape\n",
        "a.shape"
      ],
      "execution_count": 0,
      "outputs": [
        {
          "output_type": "execute_result",
          "data": {
            "text/plain": [
              "(2, 2)"
            ]
          },
          "metadata": {
            "tags": []
          },
          "execution_count": 87
        }
      ]
    },
    {
      "cell_type": "code",
      "metadata": {
        "id": "_Iwx1Xq_Q_Nu",
        "colab_type": "code",
        "outputId": "7ead384f-5e7e-48e4-f0b9-2e215debf7ad",
        "colab": {
          "base_uri": "https://localhost:8080/",
          "height": 34
        }
      },
      "source": [
        "c[0,0] = 111\n",
        "c"
      ],
      "execution_count": 0,
      "outputs": [
        {
          "output_type": "execute_result",
          "data": {
            "text/plain": [
              "array([[111.,   2.,   8.,   1.]])"
            ]
          },
          "metadata": {
            "tags": []
          },
          "execution_count": 89
        }
      ]
    },
    {
      "cell_type": "code",
      "metadata": {
        "id": "vWOFWpiZQ_SI",
        "colab_type": "code",
        "outputId": "86f7d200-d8b6-4c2e-c6b3-02d50df56620",
        "colab": {
          "base_uri": "https://localhost:8080/",
          "height": 50
        }
      },
      "source": [
        "a"
      ],
      "execution_count": 0,
      "outputs": [
        {
          "output_type": "execute_result",
          "data": {
            "text/plain": [
              "array([[111.,   2.],\n",
              "       [  8.,   1.]])"
            ]
          },
          "metadata": {
            "tags": []
          },
          "execution_count": 90
        }
      ]
    },
    {
      "cell_type": "code",
      "metadata": {
        "id": "wTv68WhmQ_Ux",
        "colab_type": "code",
        "outputId": "5d4987ff-f1d4-4fe0-8536-1ea2fc5bf98e",
        "colab": {
          "base_uri": "https://localhost:8080/",
          "height": 50
        }
      },
      "source": [
        "s = a[ : , 0:1]\n",
        "s\n",
        "s[:] = 0\n",
        "s"
      ],
      "execution_count": 0,
      "outputs": [
        {
          "output_type": "execute_result",
          "data": {
            "text/plain": [
              "array([[0.],\n",
              "       [0.]])"
            ]
          },
          "metadata": {
            "tags": []
          },
          "execution_count": 99
        }
      ]
    },
    {
      "cell_type": "code",
      "metadata": {
        "id": "wjQVXB74Q_YU",
        "colab_type": "code",
        "outputId": "2595aa8d-b07a-4194-dfdc-182ebed5f1ed",
        "colab": {
          "base_uri": "https://localhost:8080/",
          "height": 50
        }
      },
      "source": [
        "a"
      ],
      "execution_count": 0,
      "outputs": [
        {
          "output_type": "execute_result",
          "data": {
            "text/plain": [
              "array([[0., 2.],\n",
              "       [0., 1.]])"
            ]
          },
          "metadata": {
            "tags": []
          },
          "execution_count": 100
        }
      ]
    },
    {
      "cell_type": "markdown",
      "metadata": {
        "id": "jIeDLLoGQ_bd",
        "colab_type": "text"
      },
      "source": [
        "### Deep Copy"
      ]
    },
    {
      "cell_type": "code",
      "metadata": {
        "id": "d_dMD9XsQ_fU",
        "colab_type": "code",
        "outputId": "9a01de87-d729-4b9a-e876-8fae1279778f",
        "colab": {
          "base_uri": "https://localhost:8080/",
          "height": 50
        }
      },
      "source": [
        "d = a.copy()\n",
        "d"
      ],
      "execution_count": 0,
      "outputs": [
        {
          "output_type": "execute_result",
          "data": {
            "text/plain": [
              "array([[0., 2.],\n",
              "       [0., 1.]])"
            ]
          },
          "metadata": {
            "tags": []
          },
          "execution_count": 103
        }
      ]
    },
    {
      "cell_type": "code",
      "metadata": {
        "id": "IOjC84nzQ_iC",
        "colab_type": "code",
        "outputId": "d8fd78ad-de4d-40ef-f7b7-4610e3b3df42",
        "colab": {
          "base_uri": "https://localhost:8080/",
          "height": 34
        }
      },
      "source": [
        "d is a"
      ],
      "execution_count": 0,
      "outputs": [
        {
          "output_type": "execute_result",
          "data": {
            "text/plain": [
              "False"
            ]
          },
          "metadata": {
            "tags": []
          },
          "execution_count": 104
        }
      ]
    },
    {
      "cell_type": "code",
      "metadata": {
        "id": "XyfauJtMQ_kl",
        "colab_type": "code",
        "outputId": "109eb8d5-5b2e-4994-8b7d-a532eb35c1f3",
        "colab": {
          "base_uri": "https://localhost:8080/",
          "height": 34
        }
      },
      "source": [
        "d.base is a"
      ],
      "execution_count": 0,
      "outputs": [
        {
          "output_type": "execute_result",
          "data": {
            "text/plain": [
              "False"
            ]
          },
          "metadata": {
            "tags": []
          },
          "execution_count": 105
        }
      ]
    },
    {
      "cell_type": "code",
      "metadata": {
        "id": "eyiSKsDS1_F7",
        "colab_type": "code",
        "outputId": "ca3f6c83-2f0d-437e-8e2e-fb08cf8c49f3",
        "colab": {
          "base_uri": "https://localhost:8080/",
          "height": 50
        }
      },
      "source": [
        "d[0, 0] = 9999\n"
      ],
      "execution_count": 0,
      "outputs": [
        {
          "output_type": "execute_result",
          "data": {
            "text/plain": [
              "array([[9.999e+03, 2.000e+00],\n",
              "       [0.000e+00, 1.000e+00]])"
            ]
          },
          "metadata": {
            "tags": []
          },
          "execution_count": 108
        }
      ]
    },
    {
      "cell_type": "code",
      "metadata": {
        "id": "MxvwxLSO1_PT",
        "colab_type": "code",
        "outputId": "8ae34b46-eec4-4818-9666-466df07cb176",
        "colab": {
          "base_uri": "https://localhost:8080/",
          "height": 50
        }
      },
      "source": [
        "a"
      ],
      "execution_count": 0,
      "outputs": [
        {
          "output_type": "execute_result",
          "data": {
            "text/plain": [
              "array([[0., 2.],\n",
              "       [0., 1.]])"
            ]
          },
          "metadata": {
            "tags": []
          },
          "execution_count": 109
        }
      ]
    },
    {
      "cell_type": "code",
      "metadata": {
        "id": "M_-weaka1_Wv",
        "colab_type": "code",
        "outputId": "c961dabe-3e99-46e0-bfc3-26e6a5994aa9",
        "colab": {
          "base_uri": "https://localhost:8080/",
          "height": 34
        }
      },
      "source": [
        "a = np.arange(int(1e8))\n",
        "a"
      ],
      "execution_count": 0,
      "outputs": [
        {
          "output_type": "execute_result",
          "data": {
            "text/plain": [
              "array([       0,        1,        2, ..., 99999997, 99999998, 99999999])"
            ]
          },
          "metadata": {
            "tags": []
          },
          "execution_count": 112
        }
      ]
    },
    {
      "cell_type": "code",
      "metadata": {
        "id": "Mdh8jZLY1_dj",
        "colab_type": "code",
        "outputId": "7821d89b-04fb-4406-c113-d8e677844c13",
        "colab": {
          "base_uri": "https://localhost:8080/",
          "height": 179
        }
      },
      "source": [
        "b = a[:10].copy()\n",
        "del a"
      ],
      "execution_count": 0,
      "outputs": [
        {
          "output_type": "error",
          "ename": "NameError",
          "evalue": "ignored",
          "traceback": [
            "\u001b[0;31m---------------------------------------------------------------------------\u001b[0m",
            "\u001b[0;31mNameError\u001b[0m                                 Traceback (most recent call last)",
            "\u001b[0;32m<ipython-input-115-6de7a6e2deeb>\u001b[0m in \u001b[0;36m<module>\u001b[0;34m()\u001b[0m\n\u001b[0;32m----> 1\u001b[0;31m \u001b[0mb\u001b[0m \u001b[0;34m=\u001b[0m \u001b[0ma\u001b[0m\u001b[0;34m[\u001b[0m\u001b[0;34m:\u001b[0m\u001b[0;36m10\u001b[0m\u001b[0;34m]\u001b[0m\u001b[0;34m.\u001b[0m\u001b[0mcopy\u001b[0m\u001b[0;34m(\u001b[0m\u001b[0;34m)\u001b[0m\u001b[0;34m\u001b[0m\u001b[0;34m\u001b[0m\u001b[0m\n\u001b[0m\u001b[1;32m      2\u001b[0m \u001b[0;32mdel\u001b[0m \u001b[0ma\u001b[0m\u001b[0;34m\u001b[0m\u001b[0;34m\u001b[0m\u001b[0m\n",
            "\u001b[0;31mNameError\u001b[0m: name 'a' is not defined"
          ]
        }
      ]
    },
    {
      "cell_type": "code",
      "metadata": {
        "id": "18xgVyxb1_jy",
        "colab_type": "code",
        "outputId": "91d5729b-857f-43c7-8e20-80aa7f664260",
        "colab": {
          "base_uri": "https://localhost:8080/",
          "height": 34
        }
      },
      "source": [
        "b"
      ],
      "execution_count": 0,
      "outputs": [
        {
          "output_type": "execute_result",
          "data": {
            "text/plain": [
              "array([0, 1, 2, 3, 4, 5, 6, 7, 8, 9])"
            ]
          },
          "metadata": {
            "tags": []
          },
          "execution_count": 116
        }
      ]
    },
    {
      "cell_type": "code",
      "metadata": {
        "id": "Lpa3VB2Y1_r0",
        "colab_type": "code",
        "outputId": "641007a2-395b-44ce-8a31-a671605a85c7",
        "colab": {
          "base_uri": "https://localhost:8080/",
          "height": 34
        }
      },
      "source": [
        "b.item(0)"
      ],
      "execution_count": 0,
      "outputs": [
        {
          "output_type": "execute_result",
          "data": {
            "text/plain": [
              "0"
            ]
          },
          "metadata": {
            "tags": []
          },
          "execution_count": 122
        }
      ]
    },
    {
      "cell_type": "markdown",
      "metadata": {
        "id": "-RVnv18Ly-im",
        "colab_type": "text"
      },
      "source": [
        "## Less Basic"
      ]
    },
    {
      "cell_type": "markdown",
      "metadata": {
        "id": "fY5p9H8XcxVK",
        "colab_type": "text"
      },
      "source": [
        "### Broadingcasting rules"
      ]
    },
    {
      "cell_type": "markdown",
      "metadata": {
        "id": "opC49_jJhQPF",
        "colab_type": "text"
      },
      "source": [
        "## Advanced indexing and index tricks"
      ]
    },
    {
      "cell_type": "markdown",
      "metadata": {
        "id": "hIqw1NdKgYaq",
        "colab_type": "text"
      },
      "source": [
        "### Indexing with Arrays of Indices"
      ]
    },
    {
      "cell_type": "code",
      "metadata": {
        "id": "0_K5ij59ijSh",
        "colab_type": "code",
        "outputId": "57f4c512-af9f-431a-ed6d-f7b396df17ba",
        "colab": {
          "base_uri": "https://localhost:8080/",
          "height": 34
        }
      },
      "source": [
        "a = np.arange(12)**2\n",
        "a"
      ],
      "execution_count": 0,
      "outputs": [
        {
          "output_type": "execute_result",
          "data": {
            "text/plain": [
              "array([  0,   1,   4,   9,  16,  25,  36,  49,  64,  81, 100, 121])"
            ]
          },
          "metadata": {
            "tags": []
          },
          "execution_count": 127
        }
      ]
    },
    {
      "cell_type": "code",
      "metadata": {
        "id": "b-nIocamij6t",
        "colab_type": "code",
        "outputId": "33dfff65-0afb-40c8-a310-ffa840b1df4f",
        "colab": {
          "base_uri": "https://localhost:8080/",
          "height": 34
        }
      },
      "source": [
        "i = np.array([1, 2, 3,1, 2,3])\n",
        "\n",
        "a[i]"
      ],
      "execution_count": 0,
      "outputs": [
        {
          "output_type": "execute_result",
          "data": {
            "text/plain": [
              "array([1, 4, 9, 1, 4, 9])"
            ]
          },
          "metadata": {
            "tags": []
          },
          "execution_count": 128
        }
      ]
    },
    {
      "cell_type": "code",
      "metadata": {
        "id": "g52IDY-DikUS",
        "colab_type": "code",
        "outputId": "534ef11e-8e95-4270-ffab-6f35ed93e4af",
        "colab": {
          "base_uri": "https://localhost:8080/",
          "height": 50
        }
      },
      "source": [
        "j = np.array([[1, 2], [3, 4]])\n",
        "print(a[j])"
      ],
      "execution_count": 0,
      "outputs": [
        {
          "output_type": "stream",
          "text": [
            "[[ 1  4]\n",
            " [ 9 16]]\n"
          ],
          "name": "stdout"
        }
      ]
    },
    {
      "cell_type": "code",
      "metadata": {
        "id": "1Ic2I5ziikob",
        "colab_type": "code",
        "outputId": "3b64116a-d94e-423d-eff9-5769ac90ccf4",
        "colab": {
          "base_uri": "https://localhost:8080/",
          "height": 134
        }
      },
      "source": [
        "palette = np.array([[0, 0, 0], [255, 0,0], [0, 255,0]])\n",
        "image = np.array([[0, 1,0], [1, 2, 0]])\n",
        "\n",
        "palette[image]"
      ],
      "execution_count": 0,
      "outputs": [
        {
          "output_type": "execute_result",
          "data": {
            "text/plain": [
              "array([[[  0,   0,   0],\n",
              "        [255,   0,   0],\n",
              "        [  0,   0,   0]],\n",
              "\n",
              "       [[255,   0,   0],\n",
              "        [  0, 255,   0],\n",
              "        [  0,   0,   0]]])"
            ]
          },
          "metadata": {
            "tags": []
          },
          "execution_count": 134
        }
      ]
    },
    {
      "cell_type": "code",
      "metadata": {
        "id": "VNnqEg8Sik50",
        "colab_type": "code",
        "outputId": "fcc6d199-d967-4310-88b4-d405ed52b6e3",
        "colab": {
          "base_uri": "https://localhost:8080/",
          "height": 336
        }
      },
      "source": [
        "a = np.arange(25).reshape(5, 5)\n",
        "print(a)\n",
        "\n",
        "i = np.array([[1, 1],[1, 1]])\n",
        "j = np.array([[1, 1],[1, 1]])\n",
        "\n",
        "a[i, 2]\n",
        "a[:, j]"
      ],
      "execution_count": 0,
      "outputs": [
        {
          "output_type": "stream",
          "text": [
            "[[ 0  1  2  3  4]\n",
            " [ 5  6  7  8  9]\n",
            " [10 11 12 13 14]\n",
            " [15 16 17 18 19]\n",
            " [20 21 22 23 24]]\n"
          ],
          "name": "stdout"
        },
        {
          "output_type": "execute_result",
          "data": {
            "text/plain": [
              "array([[[ 1,  1],\n",
              "        [ 1,  1]],\n",
              "\n",
              "       [[ 6,  6],\n",
              "        [ 6,  6]],\n",
              "\n",
              "       [[11, 11],\n",
              "        [11, 11]],\n",
              "\n",
              "       [[16, 16],\n",
              "        [16, 16]],\n",
              "\n",
              "       [[21, 21],\n",
              "        [21, 21]]])"
            ]
          },
          "metadata": {
            "tags": []
          },
          "execution_count": 139
        }
      ]
    },
    {
      "cell_type": "code",
      "metadata": {
        "id": "6TKi9Tq1ilJc",
        "colab_type": "code",
        "outputId": "2ba78064-a689-4e5f-eb7e-132d7e9ea000",
        "colab": {
          "base_uri": "https://localhost:8080/",
          "height": 101
        }
      },
      "source": [
        "t = (i, j)\n",
        "print(t)\n",
        "\n",
        "a[t]"
      ],
      "execution_count": 0,
      "outputs": [
        {
          "output_type": "stream",
          "text": [
            "(array([[1, 1],\n",
            "       [1, 1]]), array([[1, 1],\n",
            "       [1, 1]]))\n"
          ],
          "name": "stdout"
        },
        {
          "output_type": "execute_result",
          "data": {
            "text/plain": [
              "array([[6, 6],\n",
              "       [6, 6]])"
            ]
          },
          "metadata": {
            "tags": []
          },
          "execution_count": 145
        }
      ]
    },
    {
      "cell_type": "code",
      "metadata": {
        "id": "P0zAUvZ0ilW4",
        "colab_type": "code",
        "outputId": "f0fbe117-1de7-4eb2-acd4-5fc7d603c47a",
        "colab": {
          "base_uri": "https://localhost:8080/",
          "height": 101
        }
      },
      "source": [
        "s = np.array([i, j])\n",
        "print(tuple([i, j]))\n",
        "\n",
        "a[s]\n",
        "a[tuple(s)]"
      ],
      "execution_count": 0,
      "outputs": [
        {
          "output_type": "stream",
          "text": [
            "(array([[1, 1],\n",
            "       [1, 1]]), array([[1, 1],\n",
            "       [1, 1]]))\n"
          ],
          "name": "stdout"
        },
        {
          "output_type": "execute_result",
          "data": {
            "text/plain": [
              "array([[6, 6],\n",
              "       [6, 6]])"
            ]
          },
          "metadata": {
            "tags": []
          },
          "execution_count": 152
        }
      ]
    },
    {
      "cell_type": "code",
      "metadata": {
        "id": "ykj6RXw2nND9",
        "colab_type": "code",
        "outputId": "956293e3-2e71-46cd-febe-64271c631ed4",
        "colab": {
          "base_uri": "https://localhost:8080/",
          "height": 50
        }
      },
      "source": [
        "time = np.linspace(10, 100, 9)\n",
        "time"
      ],
      "execution_count": 0,
      "outputs": [
        {
          "output_type": "execute_result",
          "data": {
            "text/plain": [
              "array([ 10.  ,  21.25,  32.5 ,  43.75,  55.  ,  66.25,  77.5 ,  88.75,\n",
              "       100.  ])"
            ]
          },
          "metadata": {
            "tags": []
          },
          "execution_count": 161
        }
      ]
    },
    {
      "cell_type": "code",
      "metadata": {
        "id": "e4r6HdWinNLd",
        "colab_type": "code",
        "outputId": "4276224e-ebab-46bc-b8b4-7bd1dc988bc1",
        "colab": {
          "base_uri": "https://localhost:8080/",
          "height": 185
        }
      },
      "source": [
        "data = np.cos(np.arange(40)).reshape(10, 4)\n",
        "data"
      ],
      "execution_count": 0,
      "outputs": [
        {
          "output_type": "execute_result",
          "data": {
            "text/plain": [
              "array([[ 1.        ,  0.54030231, -0.41614684, -0.9899925 ],\n",
              "       [-0.65364362,  0.28366219,  0.96017029,  0.75390225],\n",
              "       [-0.14550003, -0.91113026, -0.83907153,  0.0044257 ],\n",
              "       [ 0.84385396,  0.90744678,  0.13673722, -0.75968791],\n",
              "       [-0.95765948, -0.27516334,  0.66031671,  0.98870462],\n",
              "       [ 0.40808206, -0.54772926, -0.99996083, -0.53283302],\n",
              "       [ 0.42417901,  0.99120281,  0.64691932, -0.29213881],\n",
              "       [-0.96260587, -0.74805753,  0.15425145,  0.91474236],\n",
              "       [ 0.83422336, -0.01327675, -0.84857027, -0.90369221],\n",
              "       [-0.12796369,  0.76541405,  0.95507364,  0.26664293]])"
            ]
          },
          "metadata": {
            "tags": []
          },
          "execution_count": 156
        }
      ]
    },
    {
      "cell_type": "code",
      "metadata": {
        "id": "jqppzOcInNUX",
        "colab_type": "code",
        "outputId": "61eaeb7d-ef6f-4c01-c6c0-663c959c222b",
        "colab": {
          "base_uri": "https://localhost:8080/",
          "height": 34
        }
      },
      "source": [
        "ind = data.argmax(axis=0)\n",
        "ind"
      ],
      "execution_count": 0,
      "outputs": [
        {
          "output_type": "execute_result",
          "data": {
            "text/plain": [
              "array([0, 6, 1, 4])"
            ]
          },
          "metadata": {
            "tags": []
          },
          "execution_count": 160
        }
      ]
    },
    {
      "cell_type": "code",
      "metadata": {
        "id": "zK1InFefnNbc",
        "colab_type": "code",
        "outputId": "b1b4aa8c-3911-4616-fd3f-1d3e8ba9ddbd",
        "colab": {
          "base_uri": "https://localhost:8080/",
          "height": 34
        }
      },
      "source": [
        "time_max = time[ind]\n",
        "time_max"
      ],
      "execution_count": 0,
      "outputs": [
        {
          "output_type": "execute_result",
          "data": {
            "text/plain": [
              "array([10.  , 77.5 , 21.25, 55.  ])"
            ]
          },
          "metadata": {
            "tags": []
          },
          "execution_count": 162
        }
      ]
    },
    {
      "cell_type": "code",
      "metadata": {
        "id": "QKJXx00anNiA",
        "colab_type": "code",
        "outputId": "7f69f8eb-edb5-47bc-e31d-6161fce753c4",
        "colab": {
          "base_uri": "https://localhost:8080/",
          "height": 34
        }
      },
      "source": [
        "data_max = data[ind, range(data.shape[1])]\n",
        "data_max"
      ],
      "execution_count": 0,
      "outputs": [
        {
          "output_type": "execute_result",
          "data": {
            "text/plain": [
              "array([1.        , 0.99120281, 0.96017029, 0.98870462])"
            ]
          },
          "metadata": {
            "tags": []
          },
          "execution_count": 167
        }
      ]
    },
    {
      "cell_type": "code",
      "metadata": {
        "id": "9wOnaC_xnNqa",
        "colab_type": "code",
        "outputId": "0720e025-c198-4ddd-bcc6-90ea90787808",
        "colab": {
          "base_uri": "https://localhost:8080/",
          "height": 50
        }
      },
      "source": [
        "print(data_max == data.max(axis = 0))\n",
        "data.max(axis=0)"
      ],
      "execution_count": 0,
      "outputs": [
        {
          "output_type": "stream",
          "text": [
            "[ True  True  True  True]\n"
          ],
          "name": "stdout"
        },
        {
          "output_type": "execute_result",
          "data": {
            "text/plain": [
              "array([1.        , 0.99120281, 0.96017029, 0.98870462])"
            ]
          },
          "metadata": {
            "tags": []
          },
          "execution_count": 171
        }
      ]
    },
    {
      "cell_type": "code",
      "metadata": {
        "id": "tPK5RUtlnNxq",
        "colab_type": "code",
        "outputId": "c15f2460-c3b9-4934-b78c-325fa10a5f9d",
        "colab": {
          "base_uri": "https://localhost:8080/",
          "height": 34
        }
      },
      "source": [
        "a = np.arange(10)\n",
        "a"
      ],
      "execution_count": 0,
      "outputs": [
        {
          "output_type": "execute_result",
          "data": {
            "text/plain": [
              "array([0, 1, 2, 3, 4, 5, 6, 7, 8, 9])"
            ]
          },
          "metadata": {
            "tags": []
          },
          "execution_count": 172
        }
      ]
    },
    {
      "cell_type": "code",
      "metadata": {
        "id": "gJmeLhcxnN4t",
        "colab_type": "code",
        "outputId": "a689d0f8-3b9e-4e90-854a-b11cd796a9de",
        "colab": {
          "base_uri": "https://localhost:8080/",
          "height": 34
        }
      },
      "source": [
        "a[[9,9,9,8]] = [1, 2, 3,100]\n",
        "a"
      ],
      "execution_count": 0,
      "outputs": [
        {
          "output_type": "execute_result",
          "data": {
            "text/plain": [
              "array([  0,   1,   2,   3,   4,   5,   6,   7, 100,   3])"
            ]
          },
          "metadata": {
            "tags": []
          },
          "execution_count": 175
        }
      ]
    },
    {
      "cell_type": "code",
      "metadata": {
        "id": "70ns3ntLnN_r",
        "colab_type": "code",
        "outputId": "bd9b8a39-5aff-4418-f541-4665ef758229",
        "colab": {
          "base_uri": "https://localhost:8080/",
          "height": 34
        }
      },
      "source": [
        "a[[0,0, 1]] += 10\n",
        "a"
      ],
      "execution_count": 0,
      "outputs": [
        {
          "output_type": "execute_result",
          "data": {
            "text/plain": [
              "array([ 10,  11,   2,   3,   4,   5,   6,   7, 100,   3])"
            ]
          },
          "metadata": {
            "tags": []
          },
          "execution_count": 176
        }
      ]
    },
    {
      "cell_type": "markdown",
      "metadata": {
        "id": "gHSKwbhQc2WA",
        "colab_type": "text"
      },
      "source": [
        "### Indexing with Boolean Arrays"
      ]
    },
    {
      "cell_type": "code",
      "metadata": {
        "id": "xOhtzvYPuH7I",
        "colab_type": "code",
        "outputId": "433db067-0cf2-4c91-aca6-a7f598a04336",
        "colab": {
          "base_uri": "https://localhost:8080/",
          "height": 353
        }
      },
      "source": [
        "a = np.arange(100).reshape(10, 10)\n",
        "b = a >50\n",
        "print(b)\n",
        "a[b] = 0\n",
        "print(a)"
      ],
      "execution_count": 0,
      "outputs": [
        {
          "output_type": "stream",
          "text": [
            "[[False False False False False False False False False False]\n",
            " [False False False False False False False False False False]\n",
            " [False False False False False False False False False False]\n",
            " [False False False False False False False False False False]\n",
            " [False False False False False False False False False False]\n",
            " [False  True  True  True  True  True  True  True  True  True]\n",
            " [ True  True  True  True  True  True  True  True  True  True]\n",
            " [ True  True  True  True  True  True  True  True  True  True]\n",
            " [ True  True  True  True  True  True  True  True  True  True]\n",
            " [ True  True  True  True  True  True  True  True  True  True]]\n",
            "[[ 0  1  2  3  4  5  6  7  8  9]\n",
            " [10 11 12 13 14 15 16 17 18 19]\n",
            " [20 21 22 23 24 25 26 27 28 29]\n",
            " [30 31 32 33 34 35 36 37 38 39]\n",
            " [40 41 42 43 44 45 46 47 48 49]\n",
            " [50  0  0  0  0  0  0  0  0  0]\n",
            " [ 0  0  0  0  0  0  0  0  0  0]\n",
            " [ 0  0  0  0  0  0  0  0  0  0]\n",
            " [ 0  0  0  0  0  0  0  0  0  0]\n",
            " [ 0  0  0  0  0  0  0  0  0  0]]\n"
          ],
          "name": "stdout"
        }
      ]
    },
    {
      "cell_type": "code",
      "metadata": {
        "id": "13wBxqCtuH47",
        "colab_type": "code",
        "outputId": "b79b97e2-867f-48ef-a665-5df07f6b1aca",
        "colab": {
          "base_uri": "https://localhost:8080/",
          "height": 286
        }
      },
      "source": [
        "import numpy as np\n",
        "import matplotlib.pyplot as plt\n",
        "def mandelbrot( h,w, maxit=20 ):\n",
        "    \"\"\"Returns an image of the Mandelbrot fractal of size (h,w).\"\"\"\n",
        "    y,x = np.ogrid[ -1.4:1.4:h*1j, -2:0.8:w*1j ]\n",
        "    c = x+y*1j\n",
        "    z = c\n",
        "    divtime = maxit + np.zeros(z.shape, dtype=int)\n",
        "\n",
        "    for i in range(maxit):\n",
        "        z = z**2 + c\n",
        "        diverge = z*np.conj(z) > 2**2            # who is diverging\n",
        "        div_now = diverge & (divtime==maxit)  # who is diverging now\n",
        "        divtime[div_now] = i                  # note when\n",
        "        z[diverge] = 2                        # avoid diverging too much\n",
        "\n",
        "    return divtime\n",
        "plt.imshow(mandelbrot(10000,10000))"
      ],
      "execution_count": 0,
      "outputs": [
        {
          "output_type": "execute_result",
          "data": {
            "text/plain": [
              "<matplotlib.image.AxesImage at 0x7fb9867e5d68>"
            ]
          },
          "metadata": {
            "tags": []
          },
          "execution_count": 194
        },
        {
          "output_type": "display_data",
          "data": {
            "image/png": "[encoded data removed]",
            "text/plain": [
              "<Figure size 432x288 with 1 Axes>"
            ]
          },
          "metadata": {
            "tags": [],
            "needs_background": "light"
          }
        }
      ]
    },
    {
      "cell_type": "code",
      "metadata": {
        "id": "coCzmg3iuH2H",
        "colab_type": "code",
        "outputId": "cc5daca8-292a-431a-db26-3758692cfbf9",
        "colab": {
          "base_uri": "https://localhost:8080/",
          "height": 185
        }
      },
      "source": [
        "a = np.arange(100).reshape(10, 10)\n",
        "a"
      ],
      "execution_count": 0,
      "outputs": [
        {
          "output_type": "execute_result",
          "data": {
            "text/plain": [
              "array([[ 0,  1,  2,  3,  4,  5,  6,  7,  8,  9],\n",
              "       [10, 11, 12, 13, 14, 15, 16, 17, 18, 19],\n",
              "       [20, 21, 22, 23, 24, 25, 26, 27, 28, 29],\n",
              "       [30, 31, 32, 33, 34, 35, 36, 37, 38, 39],\n",
              "       [40, 41, 42, 43, 44, 45, 46, 47, 48, 49],\n",
              "       [50, 51, 52, 53, 54, 55, 56, 57, 58, 59],\n",
              "       [60, 61, 62, 63, 64, 65, 66, 67, 68, 69],\n",
              "       [70, 71, 72, 73, 74, 75, 76, 77, 78, 79],\n",
              "       [80, 81, 82, 83, 84, 85, 86, 87, 88, 89],\n",
              "       [90, 91, 92, 93, 94, 95, 96, 97, 98, 99]])"
            ]
          },
          "metadata": {
            "tags": []
          },
          "execution_count": 195
        }
      ]
    },
    {
      "cell_type": "code",
      "metadata": {
        "id": "ucwtrxJLuHzh",
        "colab_type": "code",
        "colab": {}
      },
      "source": [
        "i = [True, False, False, True, False, False, False, False, False, True]\n",
        "j = [True, False, False, False, False, False, False, False, False, True]"
      ],
      "execution_count": 0,
      "outputs": []
    },
    {
      "cell_type": "code",
      "metadata": {
        "id": "NGeRwm9ouHxO",
        "colab_type": "code",
        "outputId": "74ed7834-4b4c-4869-8a78-a7f4639d76da",
        "colab": {
          "base_uri": "https://localhost:8080/",
          "height": 67
        }
      },
      "source": [
        "a[i, :]"
      ],
      "execution_count": 0,
      "outputs": [
        {
          "output_type": "execute_result",
          "data": {
            "text/plain": [
              "array([[ 0,  1,  2,  3,  4,  5,  6,  7,  8,  9],\n",
              "       [30, 31, 32, 33, 34, 35, 36, 37, 38, 39],\n",
              "       [90, 91, 92, 93, 94, 95, 96, 97, 98, 99]])"
            ]
          },
          "metadata": {
            "tags": []
          },
          "execution_count": 197
        }
      ]
    },
    {
      "cell_type": "code",
      "metadata": {
        "id": "YUwdplB6uHun",
        "colab_type": "code",
        "outputId": "9b8bccaf-eeec-4e15-89f0-391e3ebd7210",
        "colab": {
          "base_uri": "https://localhost:8080/",
          "height": 185
        }
      },
      "source": [
        "a[:, j]"
      ],
      "execution_count": 0,
      "outputs": [
        {
          "output_type": "execute_result",
          "data": {
            "text/plain": [
              "array([[ 0,  9],\n",
              "       [10, 19],\n",
              "       [20, 29],\n",
              "       [30, 39],\n",
              "       [40, 49],\n",
              "       [50, 59],\n",
              "       [60, 69],\n",
              "       [70, 79],\n",
              "       [80, 89],\n",
              "       [90, 99]])"
            ]
          },
          "metadata": {
            "tags": []
          },
          "execution_count": 198
        }
      ]
    },
    {
      "cell_type": "code",
      "metadata": {
        "id": "n6DZfrNouHsU",
        "colab_type": "code",
        "outputId": "110aeba5-382b-493f-de6d-dcbbb7da1d1a",
        "colab": {
          "base_uri": "https://localhost:8080/",
          "height": 182
        }
      },
      "source": [
        "a[(i, j)]"
      ],
      "execution_count": 0,
      "outputs": [
        {
          "output_type": "error",
          "ename": "IndexError",
          "evalue": "ignored",
          "traceback": [
            "\u001b[0;31m---------------------------------------------------------------------------\u001b[0m",
            "\u001b[0;31mIndexError\u001b[0m                                Traceback (most recent call last)",
            "\u001b[0;32m<ipython-input-207-b7209208b571>\u001b[0m in \u001b[0;36m<module>\u001b[0;34m()\u001b[0m\n\u001b[0;32m----> 1\u001b[0;31m \u001b[0ma\u001b[0m\u001b[0;34m[\u001b[0m\u001b[0;34m(\u001b[0m\u001b[0mi\u001b[0m\u001b[0;34m,\u001b[0m \u001b[0mj\u001b[0m\u001b[0;34m)\u001b[0m\u001b[0;34m]\u001b[0m\u001b[0;34m\u001b[0m\u001b[0;34m\u001b[0m\u001b[0m\n\u001b[0m",
            "\u001b[0;31mIndexError\u001b[0m: shape mismatch: indexing arrays could not be broadcast together with shapes (3,) (2,) "
          ]
        }
      ]
    },
    {
      "cell_type": "markdown",
      "metadata": {
        "id": "Sj1vTGcPc2d9",
        "colab_type": "text"
      },
      "source": [
        "### The ix_() function"
      ]
    },
    {
      "cell_type": "code",
      "metadata": {
        "id": "iLS45k4S6jwC",
        "colab_type": "code",
        "outputId": "ced5b6a7-c405-4130-93a4-339d9c5b2335",
        "colab": {
          "base_uri": "https://localhost:8080/",
          "height": 50
        }
      },
      "source": [
        "a = np.array([1, 2, 3])\n",
        "b = np.array([4, 5, 6, 7])\n",
        "c = np.array([8, 9, 10])\n",
        "\n",
        "ax, bx, cx = np.ix_(a, b, c)\n",
        "\n",
        "'''\n",
        "print(ax)\n",
        "print(bx)\n",
        "print(cx)\n",
        "'''\n",
        "result = ax+bx*cx\n",
        "print(result.shape)\n",
        "\n",
        "print(result[2, 3, 2], a[2]+b[3]*c[2])"
      ],
      "execution_count": 0,
      "outputs": [
        {
          "output_type": "stream",
          "text": [
            "(3, 4, 3)\n",
            "73 73\n"
          ],
          "name": "stdout"
        }
      ]
    },
    {
      "cell_type": "code",
      "metadata": {
        "id": "9Vj1gqWG6jt1",
        "colab_type": "code",
        "colab": {}
      },
      "source": [
        "def ufunc_reduce(ufct, *vectors):\n",
        "   vs = np.ix_(*vectors)\n",
        "   r = ufct.identity\n",
        "   for v in vs:\n",
        "       r = ufct(r,v)\n",
        "   return r"
      ],
      "execution_count": 0,
      "outputs": []
    },
    {
      "cell_type": "code",
      "metadata": {
        "id": "XQYI3Um26jru",
        "colab_type": "code",
        "outputId": "3864fd15-7059-451a-a5a0-0f44261cd303",
        "colab": {
          "base_uri": "https://localhost:8080/",
          "height": 50
        }
      },
      "source": [
        "result = ufunc_reduce(np.add,a,b,c)\n",
        "\n",
        "\n",
        "print(np.add.identity)\n",
        "print(result[2, 2, 2], a[2]+b[2]+c[2])"
      ],
      "execution_count": 0,
      "outputs": [
        {
          "output_type": "stream",
          "text": [
            "0\n",
            "19 19\n"
          ],
          "name": "stdout"
        }
      ]
    },
    {
      "cell_type": "markdown",
      "metadata": {
        "id": "ACqx6eGnc2Tm",
        "colab_type": "text"
      },
      "source": [
        "### Indexing with strings"
      ]
    },
    {
      "cell_type": "markdown",
      "metadata": {
        "id": "xS43i-awc2RQ",
        "colab_type": "text"
      },
      "source": [
        "## Linear Algebra"
      ]
    },
    {
      "cell_type": "markdown",
      "metadata": {
        "id": "fXW0RZbSc2On",
        "colab_type": "text"
      },
      "source": [
        "### Simple Array Operations"
      ]
    },
    {
      "cell_type": "code",
      "metadata": {
        "id": "Lz-c5SAPA6XU",
        "colab_type": "code",
        "outputId": "34f5802a-44c5-44fc-94ae-3c10111c96df",
        "colab": {
          "base_uri": "https://localhost:8080/",
          "height": 151
        }
      },
      "source": [
        "a = np.arange(4).reshape(2,2)\n",
        "print(a)\n",
        "print(a.T)\n",
        "print(\"a.transpose() = \", a.transpose())\n",
        "a_inv = np.linalg.inv(a)\n",
        "\n",
        "print(a_inv@a)"
      ],
      "execution_count": 0,
      "outputs": [
        {
          "output_type": "stream",
          "text": [
            "[[0 1]\n",
            " [2 3]]\n",
            "[[0 2]\n",
            " [1 3]]\n",
            "a.transpose() =  [[0 2]\n",
            " [1 3]]\n",
            "[[1. 0.]\n",
            " [0. 1.]]\n"
          ],
          "name": "stdout"
        }
      ]
    },
    {
      "cell_type": "code",
      "metadata": {
        "id": "FRQ55D3EDAb9",
        "colab_type": "code",
        "outputId": "3f878e1e-54a2-44a3-c1e0-5f0fcb507b17",
        "colab": {
          "base_uri": "https://localhost:8080/",
          "height": 84
        }
      },
      "source": [
        "u = np.eye(4)\n",
        "u"
      ],
      "execution_count": 0,
      "outputs": [
        {
          "output_type": "execute_result",
          "data": {
            "text/plain": [
              "array([[1., 0., 0., 0.],\n",
              "       [0., 1., 0., 0.],\n",
              "       [0., 0., 1., 0.],\n",
              "       [0., 0., 0., 1.]])"
            ]
          },
          "metadata": {
            "tags": []
          },
          "execution_count": 242
        }
      ]
    },
    {
      "cell_type": "code",
      "metadata": {
        "id": "VrQzYFodDAaI",
        "colab_type": "code",
        "outputId": "c4ec341a-2507-4e31-9ecc-c6df27f44fe2",
        "colab": {
          "base_uri": "https://localhost:8080/",
          "height": 84
        }
      },
      "source": [
        "u@u"
      ],
      "execution_count": 0,
      "outputs": [
        {
          "output_type": "execute_result",
          "data": {
            "text/plain": [
              "array([[1., 0., 0., 0.],\n",
              "       [0., 1., 0., 0.],\n",
              "       [0., 0., 1., 0.],\n",
              "       [0., 0., 0., 1.]])"
            ]
          },
          "metadata": {
            "tags": []
          },
          "execution_count": 243
        }
      ]
    },
    {
      "cell_type": "code",
      "metadata": {
        "id": "PHqUGwdTDAX4",
        "colab_type": "code",
        "outputId": "efd18702-c8b1-4325-bdd2-37f3b99cebd6",
        "colab": {
          "base_uri": "https://localhost:8080/",
          "height": 34
        }
      },
      "source": [
        "np.trace(u)"
      ],
      "execution_count": 0,
      "outputs": [
        {
          "output_type": "execute_result",
          "data": {
            "text/plain": [
              "4.0"
            ]
          },
          "metadata": {
            "tags": []
          },
          "execution_count": 244
        }
      ]
    },
    {
      "cell_type": "code",
      "metadata": {
        "id": "lHw_PdE9DAV8",
        "colab_type": "code",
        "outputId": "eaf37a75-3dbe-4ebf-88b6-bb3d9fc64654",
        "colab": {
          "base_uri": "https://localhost:8080/",
          "height": 118
        }
      },
      "source": [
        "y = np.array([[5], [3]])\n",
        "s = np.linalg.solve(a, y)\n",
        "\n",
        "print(a@s)\n",
        "print(y)\n",
        "\n",
        "print(np.linalg.eig(a))"
      ],
      "execution_count": 0,
      "outputs": [
        {
          "output_type": "stream",
          "text": [
            "[[5.]\n",
            " [3.]]\n",
            "[[5]\n",
            " [3]]\n",
            "(array([-0.56155281,  3.56155281]), array([[-0.87192821, -0.27032301],\n",
            "       [ 0.48963374, -0.96276969]]))\n"
          ],
          "name": "stdout"
        }
      ]
    },
    {
      "cell_type": "code",
      "metadata": {
        "id": "yPkKWVIeFRwI",
        "colab_type": "code",
        "colab": {}
      },
      "source": [
        ""
      ],
      "execution_count": 0,
      "outputs": []
    },
    {
      "cell_type": "markdown",
      "metadata": {
        "id": "oTVXlQakc2Mk",
        "colab_type": "text"
      },
      "source": [
        "## Tricks and Tips"
      ]
    },
    {
      "cell_type": "markdown",
      "metadata": {
        "id": "DDRS8AO7c2KA",
        "colab_type": "text"
      },
      "source": [
        "### \"Automztic\" Reshaping"
      ]
    },
    {
      "cell_type": "code",
      "metadata": {
        "id": "VB-6B5uNFdG4",
        "colab_type": "code",
        "outputId": "fa5f1dd9-3a6d-4f86-eb7e-10482a7a1484",
        "colab": {
          "base_uri": "https://localhost:8080/",
          "height": 34
        }
      },
      "source": [
        "a = np.arange(100)\n",
        "b = a.reshape((2, 5, -1))\n",
        "b.shape"
      ],
      "execution_count": 0,
      "outputs": [
        {
          "output_type": "execute_result",
          "data": {
            "text/plain": [
              "(2, 5, 10)"
            ]
          },
          "metadata": {
            "tags": []
          },
          "execution_count": 254
        }
      ]
    },
    {
      "cell_type": "markdown",
      "metadata": {
        "id": "FVHPqOSrc2Hh",
        "colab_type": "text"
      },
      "source": [
        "### Vector Stacking"
      ]
    },
    {
      "cell_type": "code",
      "metadata": {
        "id": "ffXHmBJ4GGQF",
        "colab_type": "code",
        "outputId": "d829d4be-d342-4b11-e98d-da950eac2d76",
        "colab": {
          "base_uri": "https://localhost:8080/",
          "height": 67
        }
      },
      "source": [
        "x = np.linspace(10, 100, 5)\n",
        "y= np.array([1, 2, 3, 4, 5])\n",
        "stack = np.vstack([x, y])\n",
        "print(stack)\n",
        "\n",
        "xy = np.hstack([x, y])\n",
        "print(xy)"
      ],
      "execution_count": 0,
      "outputs": [
        {
          "output_type": "stream",
          "text": [
            "[[ 10.   32.5  55.   77.5 100. ]\n",
            " [  1.    2.    3.    4.    5. ]]\n",
            "[ 10.   32.5  55.   77.5 100.    1.    2.    3.    4.    5. ]\n"
          ],
          "name": "stdout"
        }
      ]
    },
    {
      "cell_type": "markdown",
      "metadata": {
        "id": "dMPhTJR5c2E5",
        "colab_type": "text"
      },
      "source": [
        "### Histograms"
      ]
    },
    {
      "cell_type": "code",
      "metadata": {
        "id": "KnMvZkX6G_lI",
        "colab_type": "code",
        "outputId": "b5010e8e-2897-40e7-8d1a-8b4b315b36d3",
        "colab": {
          "base_uri": "https://localhost:8080/",
          "height": 853
        }
      },
      "source": [
        "import matplotlib.pyplot as plt\n",
        "\n",
        "mu, sigma = 2, 0.5\n",
        "\n",
        "v = rg.normal(mu, sigma, 10000)\n",
        "\n",
        "plt.hist(v, bins = 100, density=1000)\n",
        "(n, bins) = np.histogram(v, bins = 100, density= True)\n",
        "print(n)\n",
        "print(bins)\n",
        "plt.plot(.5*(bins[1:]+bins[:-1]), n)"
      ],
      "execution_count": 0,
      "outputs": [
        {
          "output_type": "stream",
          "text": [
            "[0.00528792 0.00264396 0.         0.00264396 0.         0.\n",
            " 0.00264396 0.00528792 0.00528792 0.00264396 0.00528792 0.00793188\n",
            " 0.00528792 0.01057583 0.00793188 0.00264396 0.         0.01586375\n",
            " 0.01321979 0.03701542 0.05287917 0.06081104 0.03965938 0.06609896\n",
            " 0.06609896 0.08725063 0.12955396 0.13484188 0.15599355 0.16128147\n",
            " 0.17450126 0.19829688 0.21944855 0.2670398  0.28819147 0.33049481\n",
            " 0.3437146  0.40981356 0.43096523 0.47326856 0.47855648 0.53672357\n",
            " 0.55258732 0.63983795 0.65041378 0.65834565 0.62661815 0.73502045\n",
            " 0.80111941 0.80905129 0.74295232 0.73766441 0.74824024 0.82491504\n",
            " 0.80111941 0.8143392  0.83020295 0.80905129 0.70064899 0.71651274\n",
            " 0.66363357 0.65305774 0.65834565 0.58431482 0.51028398 0.4521169\n",
            " 0.46269273 0.43360919 0.40188168 0.37015418 0.3119871  0.2802596\n",
            " 0.30669918 0.28819147 0.21944855 0.25382001 0.15070563 0.12691001\n",
            " 0.16128147 0.11897813 0.08725063 0.11369021 0.07138688 0.05023521\n",
            " 0.063455   0.04759125 0.04230334 0.02643958 0.01586375 0.01586375\n",
            " 0.01057583 0.02115167 0.00793188 0.00528792 0.00528792 0.00264396\n",
            " 0.00528792 0.         0.         0.00264396]\n",
            "[-0.0162609   0.02156118  0.05938326  0.09720533  0.13502741  0.17284949\n",
            "  0.21067156  0.24849364  0.28631572  0.32413779  0.36195987  0.39978195\n",
            "  0.43760403  0.4754261   0.51324818  0.55107026  0.58889233  0.62671441\n",
            "  0.66453649  0.70235856  0.74018064  0.77800272  0.8158248   0.85364687\n",
            "  0.89146895  0.92929103  0.9671131   1.00493518  1.04275726  1.08057933\n",
            "  1.11840141  1.15622349  1.19404556  1.23186764  1.26968972  1.3075118\n",
            "  1.34533387  1.38315595  1.42097803  1.4588001   1.49662218  1.53444426\n",
            "  1.57226633  1.61008841  1.64791049  1.68573256  1.72355464  1.76137672\n",
            "  1.7991988   1.83702087  1.87484295  1.91266503  1.9504871   1.98830918\n",
            "  2.02613126  2.06395333  2.10177541  2.13959749  2.17741957  2.21524164\n",
            "  2.25306372  2.2908858   2.32870787  2.36652995  2.40435203  2.4421741\n",
            "  2.47999618  2.51781826  2.55564033  2.59346241  2.63128449  2.66910657\n",
            "  2.70692864  2.74475072  2.7825728   2.82039487  2.85821695  2.89603903\n",
            "  2.9338611   2.97168318  3.00950526  3.04732733  3.08514941  3.12297149\n",
            "  3.16079357  3.19861564  3.23643772  3.2742598   3.31208187  3.34990395\n",
            "  3.38772603  3.4255481   3.46337018  3.50119226  3.53901434  3.57683641\n",
            "  3.61465849  3.65248057  3.69030264  3.72812472  3.7659468 ]\n"
          ],
          "name": "stdout"
        },
        {
          "output_type": "execute_result",
          "data": {
            "text/plain": [
              "[<matplotlib.lines.Line2D at 0x7fb982422898>]"
            ]
          },
          "metadata": {
            "tags": []
          },
          "execution_count": 270
        },
        {
          "output_type": "display_data",
          "data": {
            "image/png": "[encoded data removed]",
            "text/plain": [
              "<Figure size 432x288 with 1 Axes>"
            ]
          },
          "metadata": {
            "tags": [],
            "needs_background": "light"
          }
        }
      ]
    },
    {
      "cell_type": "markdown",
      "metadata": {
        "id": "u-zqRVl3iGRr",
        "colab_type": "text"
      },
      "source": [
        "## Further reading"
      ]
    },
    {
      "cell_type": "code",
      "metadata": {
        "id": "N-m007Tic2C3",
        "colab_type": "code",
        "colab": {}
      },
      "source": [
        ""
      ],
      "execution_count": 0,
      "outputs": []
    },
    {
      "cell_type": "code",
      "metadata": {
        "id": "SaLK1AP4c2AT",
        "colab_type": "code",
        "colab": {}
      },
      "source": [
        ""
      ],
      "execution_count": 0,
      "outputs": []
    },
    {
      "cell_type": "code",
      "metadata": {
        "id": "doD7AFeDc190",
        "colab_type": "code",
        "colab": {}
      },
      "source": [
        ""
      ],
      "execution_count": 0,
      "outputs": []
    },
    {
      "cell_type": "code",
      "metadata": {
        "id": "F3VMNUN3c17S",
        "colab_type": "code",
        "colab": {}
      },
      "source": [
        ""
      ],
      "execution_count": 0,
      "outputs": []
    },
    {
      "cell_type": "code",
      "metadata": {
        "id": "0617F8YXc149",
        "colab_type": "code",
        "colab": {}
      },
      "source": [
        ""
      ],
      "execution_count": 0,
      "outputs": []
    },
    {
      "cell_type": "code",
      "metadata": {
        "id": "CH_4hR2Tc12b",
        "colab_type": "code",
        "colab": {}
      },
      "source": [
        ""
      ],
      "execution_count": 0,
      "outputs": []
    },
    {
      "cell_type": "code",
      "metadata": {
        "id": "IDydw9iCc10K",
        "colab_type": "code",
        "colab": {}
      },
      "source": [
        ""
      ],
      "execution_count": 0,
      "outputs": []
    },
    {
      "cell_type": "code",
      "metadata": {
        "id": "uvYU2Zfqc1xl",
        "colab_type": "code",
        "colab": {}
      },
      "source": [
        ""
      ],
      "execution_count": 0,
      "outputs": []
    },
    {
      "cell_type": "code",
      "metadata": {
        "id": "HqQnm4TMc1vW",
        "colab_type": "code",
        "colab": {}
      },
      "source": [
        ""
      ],
      "execution_count": 0,
      "outputs": []
    },
    {
      "cell_type": "code",
      "metadata": {
        "id": "3FIHicqDc1tD",
        "colab_type": "code",
        "colab": {}
      },
      "source": [
        ""
      ],
      "execution_count": 0,
      "outputs": []
    },
    {
      "cell_type": "code",
      "metadata": {
        "id": "fi_LLK3vc1q2",
        "colab_type": "code",
        "colab": {}
      },
      "source": [
        ""
      ],
      "execution_count": 0,
      "outputs": []
    },
    {
      "cell_type": "code",
      "metadata": {
        "id": "AMoYv0Ekc1oZ",
        "colab_type": "code",
        "colab": {}
      },
      "source": [
        ""
      ],
      "execution_count": 0,
      "outputs": []
    },
    {
      "cell_type": "code",
      "metadata": {
        "id": "knr9czdPc1mH",
        "colab_type": "code",
        "colab": {}
      },
      "source": [
        ""
      ],
      "execution_count": 0,
      "outputs": []
    },
    {
      "cell_type": "code",
      "metadata": {
        "id": "oBL8Lzb6c1j4",
        "colab_type": "code",
        "colab": {}
      },
      "source": [
        ""
      ],
      "execution_count": 0,
      "outputs": []
    },
    {
      "cell_type": "code",
      "metadata": {
        "id": "Oycog6ZGc1hi",
        "colab_type": "code",
        "colab": {}
      },
      "source": [
        ""
      ],
      "execution_count": 0,
      "outputs": []
    },
    {
      "cell_type": "code",
      "metadata": {
        "id": "XbXAn7Mwc1fP",
        "colab_type": "code",
        "colab": {}
      },
      "source": [
        ""
      ],
      "execution_count": 0,
      "outputs": []
    },
    {
      "cell_type": "code",
      "metadata": {
        "id": "NeC7e57Bc1c0",
        "colab_type": "code",
        "colab": {}
      },
      "source": [
        ""
      ],
      "execution_count": 0,
      "outputs": []
    },
    {
      "cell_type": "code",
      "metadata": {
        "id": "LWu78eLNc1ae",
        "colab_type": "code",
        "colab": {}
      },
      "source": [
        ""
      ],
      "execution_count": 0,
      "outputs": []
    },
    {
      "cell_type": "code",
      "metadata": {
        "id": "gxIu6vTzc0Qu",
        "colab_type": "code",
        "colab": {}
      },
      "source": [
        ""
      ],
      "execution_count": 0,
      "outputs": []
    }
  ]
}