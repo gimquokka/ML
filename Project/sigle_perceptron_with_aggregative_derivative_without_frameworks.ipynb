{
  "nbformat": 4,
  "nbformat_minor": 0,
  "metadata": {
    "colab": {
      "name": "Sigle_perceptron_with aggregative derivative.ipynb",
      "provenance": [],
      "collapsed_sections": [],
      "authorship_tag": "ABX9TyMdkbm04YYhMz8SrITYQyDa",
      "include_colab_link": true
    },
    "kernelspec": {
      "name": "python3",
      "display_name": "Python 3"
    }
  },
  "cells": [
    {
      "cell_type": "markdown",
      "metadata": {
        "id": "view-in-github",
        "colab_type": "text"
      },
      "source": [
        "<a href=\"https://colab.research.google.com/github/gimquokka/ML/blob/master/Sigle_perceptron_with_aggregative_derivative.ipynb\" target=\"_parent\"><img src=\"https://colab.research.google.com/assets/colab-badge.svg\" alt=\"Open In Colab\"/></a>"
      ]
    },
    {
      "cell_type": "markdown",
      "metadata": {
        "id": "SDM-LC8w94el",
        "colab_type": "text"
      },
      "source": [
        "# Basic Neural Network🍋"
      ]
    },
    {
      "cell_type": "code",
      "metadata": {
        "id": "m2BwyWzE-Wta",
        "colab_type": "code",
        "colab": {}
      },
      "source": [
        "import numpy as np"
      ],
      "execution_count": 0,
      "outputs": []
    },
    {
      "cell_type": "markdown",
      "metadata": {
        "id": "LG3nXRkP94cP",
        "colab_type": "text"
      },
      "source": [
        "## Sigmoid Function"
      ]
    },
    {
      "cell_type": "code",
      "metadata": {
        "id": "oWwr3juo-HTE",
        "colab_type": "code",
        "colab": {}
      },
      "source": [
        "def sigmoid(x):\n",
        "  return 1 / (1 + np.exp(-x))\n",
        "\n",
        "def sigmoid_derivative(x):\n",
        "  return x*(1-x)"
      ],
      "execution_count": 0,
      "outputs": []
    },
    {
      "cell_type": "markdown",
      "metadata": {
        "id": "nB8G9sdW94Z7",
        "colab_type": "text"
      },
      "source": [
        "## Initialize status"
      ]
    },
    {
      "cell_type": "code",
      "metadata": {
        "id": "mg3DoNyuCEX3",
        "colab_type": "code",
        "colab": {}
      },
      "source": [
        "training_input = np.array([[0, 0, 1], [1,1,1], [1, 0, 1],[0,1,1]])\n",
        "\n",
        "training_output =np.transpose(np.array([[0,1, 1, 0]]))\n",
        "rg = np.random.default_rng(1)"
      ],
      "execution_count": 0,
      "outputs": []
    },
    {
      "cell_type": "markdown",
      "metadata": {
        "id": "G6wezZOAEDOC",
        "colab_type": "text"
      },
      "source": [
        "## Test - Feed Forward Propagation"
      ]
    },
    {
      "cell_type": "code",
      "metadata": {
        "id": "r-BxK7MWCEVf",
        "colab_type": "code",
        "outputId": "99d36a2c-bd7c-4af0-d104-eb154be82e93",
        "colab": {
          "base_uri": "https://localhost:8080/",
          "height": 286
        }
      },
      "source": [
        "i = training_input\n",
        "w = synaptic_weights\n",
        "# Print Parameters\n",
        "print('Training input data is')\n",
        "print(i, '\\n')\n",
        "print('Initial Weight is')\n",
        "print(w, '\\n')\n",
        "\n",
        "nn_output = sigmoid(np.dot(i, w))\n",
        "print('Result output is')\n",
        "print(nn_output)"
      ],
      "execution_count": 0,
      "outputs": [
        {
          "output_type": "stream",
          "text": [
            "Training input data is\n",
            "[[0 0 1]\n",
            " [1 1 1]\n",
            " [1 0 1]\n",
            " [0 1 1]] \n",
            "\n",
            "Initial Weight is\n",
            "[[ 7.26592351]\n",
            " [-0.22360321]\n",
            " [-3.41412902]] \n",
            "\n",
            "Result output is\n",
            "[[0.0318568 ]\n",
            " [0.97412321]\n",
            " [0.97920024]\n",
            " [0.02563738]]\n"
          ],
          "name": "stdout"
        }
      ]
    },
    {
      "cell_type": "markdown",
      "metadata": {
        "id": "1OD8l9UaCES-",
        "colab_type": "text"
      },
      "source": [
        "## Training and Back Propargation!💫"
      ]
    },
    {
      "cell_type": "code",
      "metadata": {
        "id": "Y1JT576nCEQv",
        "colab_type": "code",
        "outputId": "87daec53-a604-4796-c7bc-efc041275350",
        "colab": {
          "base_uri": "https://localhost:8080/",
          "height": 1000
        }
      },
      "source": [
        "itertaion_number = 10000\n",
        "# Generate random number for asymmetric initialization of weight\n",
        "synaptic_weights = 2*rg.random((3, 1)) - 1\n",
        "\n",
        "# Trainning process\n",
        "for i in range(itertaion_number):\n",
        "  # Feed Forward Propagation\n",
        "  nn_output = sigmoid(np.dot(training_input, synaptic_weights))\n",
        "  # Get error\n",
        "  err = training_output - nn_output # dim = 4 x 1\n",
        "\n",
        "  # Backpropagation\n",
        "  # Find the adjustment value for training synaptic_weight\n",
        "  adjustments = np.dot(training_input.T, err*sigmoid_derivative(nn_output)) # dim(4 x 1) * dim(4 x 1) = dim(4 x 1)\n",
        "  \n",
        "  synaptic_weights += adjustments\n",
        "  \n",
        "  # Print parameters only at some point\n",
        "  if i in [1, 10, 100, 1000, 9999]:\n",
        "    print('i = ', i)\n",
        "    print('error \\n', err)\n",
        "    print('adjustment \\n', adjustments)\n",
        "    print('synaptic_weights \\n', synaptic_weights)\n",
        "    # dt = {'names':['ID', 'Ring', '123', '412421'], 'formats':[float, float, float, float]} => Try to give name for output table\n",
        "    structured_comparison = np.column_stack((training_input, nn_output))\n",
        "    print('training_input and nn_output \\n',structured_comparison, '\\n\\n')"
      ],
      "execution_count": 0,
      "outputs": [
        {
          "output_type": "stream",
          "text": [
            "i =  1\n",
            "error \n",
            " [[-0.37900081]\n",
            " [ 0.53813707]\n",
            " [ 0.671396  ]\n",
            " [-0.51696078]]\n",
            "adjustment \n",
            " [[0.28187726]\n",
            " [0.0046601 ]\n",
            " [0.06358445]]\n",
            "synaptic_weights \n",
            " [[ 0.06116294]\n",
            " [ 0.5663207 ]\n",
            " [-0.43020699]]\n",
            "training_input and nn_output \n",
            " [[0.         0.         1.         0.37900081]\n",
            " [1.         1.         1.         0.46186293]\n",
            " [1.         0.         1.         0.328604  ]\n",
            " [0.         1.         1.         0.51696078]] \n",
            "\n",
            "\n",
            "i =  10\n",
            "error \n",
            " [[-0.33558829]\n",
            " [ 0.26906226]\n",
            " [ 0.31080812]\n",
            " [-0.38225794]]\n",
            "adjustment \n",
            " [[ 0.11949297]\n",
            " [-0.0373493 ]\n",
            " [-0.04559791]]\n",
            "synaptic_weights \n",
            " [[ 1.59885386]\n",
            " [ 0.16569224]\n",
            " [-0.72861483]]\n",
            "training_input and nn_output \n",
            " [[0.         0.         1.         0.33558829]\n",
            " [1.         1.         1.         0.73093774]\n",
            " [1.         0.         1.         0.68919188]\n",
            " [0.         1.         1.         0.38225794]] \n",
            "\n",
            "\n",
            "i =  100\n",
            "error \n",
            " [[-0.1120736 ]\n",
            " [ 0.09076056]\n",
            " [ 0.07436044]\n",
            " [-0.09221287]]\n",
            "adjustment \n",
            " [[ 0.01260814]\n",
            " [-0.00022927]\n",
            " [-0.00626376]]\n",
            "synaptic_weights \n",
            " [[ 4.60390198]\n",
            " [-0.21740639]\n",
            " [-2.07599679]]\n",
            "training_input and nn_output \n",
            " [[0.         0.         1.         0.1120736 ]\n",
            " [1.         1.         1.         0.90923944]\n",
            " [1.         0.         1.         0.92563956]\n",
            " [0.         1.         1.         0.09221287]] \n",
            "\n",
            "\n",
            "i =  1000\n",
            "error \n",
            " [[-0.03183291]\n",
            " [ 0.02588655]\n",
            " [ 0.02093199]\n",
            " [-0.02577035]]\n",
            "adjustment \n",
            " [[ 1.08174303e-03]\n",
            " [ 5.76956183e-06]\n",
            " [-5.46330474e-04]]\n",
            "synaptic_weights \n",
            " [[ 7.26130848]\n",
            " [-0.2175125 ]\n",
            " [-3.41545037]]\n",
            "training_input and nn_output \n",
            " [[0.         0.         1.         0.03183291]\n",
            " [1.         1.         1.         0.97411345]\n",
            " [1.         0.         1.         0.97906801]\n",
            " [0.         1.         1.         0.02577035]] \n",
            "\n",
            "\n",
            "i =  9999\n",
            "error \n",
            " [[-0.00966646]\n",
            " [ 0.00788182]\n",
            " [ 0.00641127]\n",
            " [-0.00786557]]\n",
            "adjustment \n",
            " [[ 1.02474237e-04]\n",
            " [ 2.52802114e-07]\n",
            " [-5.14435419e-05]]\n",
            "synaptic_weights \n",
            " [[ 9.67274905]\n",
            " [-0.20798287]\n",
            " [-4.62943143]]\n",
            "training_input and nn_output \n",
            " [[0.         0.         1.         0.00966646]\n",
            " [1.         1.         1.         0.99211818]\n",
            " [1.         0.         1.         0.99358873]\n",
            " [0.         1.         1.         0.00786557]] \n",
            "\n",
            "\n"
          ],
          "name": "stdout"
        }
      ]
    }
  ]
}
