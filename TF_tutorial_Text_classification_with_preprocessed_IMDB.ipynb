{
  "nbformat": 4,
  "nbformat_minor": 0,
  "metadata": {
    "colab": {
      "name": "TF_tutorial_Text classification with preprocessed:IMDB.ipynb",
      "provenance": [],
      "collapsed_sections": [],
      "authorship_tag": "ABX9TyOI6gWUqhuKT28DiHYJOHYf",
      "include_colab_link": true
    },
    "kernelspec": {
      "name": "python3",
      "display_name": "Python 3"
    },
    "accelerator": "TPU"
  },
  "cells": [
    {
      "cell_type": "markdown",
      "metadata": {
        "id": "view-in-github",
        "colab_type": "text"
      },
      "source": [
        "<a href=\"https://colab.research.google.com/github/gimquokka/ML/blob/master/TF_tutorial_Text_classification_with_preprocessed_IMDB.ipynb\" target=\"_parent\"><img src=\"https://colab.research.google.com/assets/colab-badge.svg\" alt=\"Open In Colab\"/></a>"
      ]
    },
    {
      "cell_type": "markdown",
      "metadata": {
        "id": "kKQuwwOgWDMV",
        "colab_type": "text"
      },
      "source": [
        "# Text classification with preprocessed text: Movie reviews 🤥"
      ]
    },
    {
      "cell_type": "markdown",
      "metadata": {
        "id": "lUN9kOKEVqUz",
        "colab_type": "text"
      },
      "source": [
        "## Setup"
      ]
    },
    {
      "cell_type": "code",
      "metadata": {
        "id": "qHgMlZJxXd_s",
        "colab_type": "code",
        "outputId": "22bb7a6f-a74f-4824-ac8f-0aa64316ffe3",
        "colab": {
          "base_uri": "https://localhost:8080/",
          "height": 34
        }
      },
      "source": [
        "import tensorflow as tf\n",
        "\n",
        "from tensorflow import  keras\n",
        "\n",
        "import tensorflow_datasets as tfds\n",
        "\n",
        "import numpy as np\n",
        "\n",
        "print(tf.__version__)"
      ],
      "execution_count": 1,
      "outputs": [
        {
          "output_type": "stream",
          "text": [
            "2.2.0\n"
          ],
          "name": "stdout"
        }
      ]
    },
    {
      "cell_type": "markdown",
      "metadata": {
        "id": "foQUq-NsWR1C",
        "colab_type": "text"
      },
      "source": [
        "## Download the IMDB tfds"
      ]
    },
    {
      "cell_type": "code",
      "metadata": {
        "id": "ThtMTha2bjQn",
        "colab_type": "code",
        "colab": {}
      },
      "source": [
        "(train_data, test_data), info = tfds.load(\n",
        "    # Use the version pre-encoded with an ~8k vocabulary.\n",
        "    'imdb_reviews/subwords32k', \n",
        "    # Return the train/test datasets as a tuple.\n",
        "    split = (tfds.Split.TRAIN, tfds.Split.TEST),\n",
        "    # Return (example, label) pairs from the dataset (instead of a dictionary).\n",
        "    as_supervised=True,\n",
        "    # Also return the `info` structure. \n",
        "    with_info=True\n",
        "    )"
      ],
      "execution_count": 0,
      "outputs": []
    },
    {
      "cell_type": "markdown",
      "metadata": {
        "id": "fZKwzslNWVML",
        "colab_type": "text"
      },
      "source": [
        "## Try to encode using encoder in info(tfds)"
      ]
    },
    {
      "cell_type": "code",
      "metadata": {
        "id": "whSZO-A3dZ0C",
        "colab_type": "code",
        "colab": {}
      },
      "source": [
        "# ?info"
      ],
      "execution_count": 0,
      "outputs": []
    },
    {
      "cell_type": "code",
      "metadata": {
        "id": "bKjSBNZJfrEn",
        "colab_type": "code",
        "outputId": "b044f2d9-c969-4f98-99c7-b6ac65b443a5",
        "colab": {
          "base_uri": "https://localhost:8080/",
          "height": 547
        }
      },
      "source": [
        "info"
      ],
      "execution_count": 4,
      "outputs": [
        {
          "output_type": "execute_result",
          "data": {
            "text/plain": [
              "tfds.core.DatasetInfo(\n",
              "    name='imdb_reviews',\n",
              "    version=1.0.0,\n",
              "    description='Large Movie Review Dataset.\n",
              "This is a dataset for binary sentiment classification containing substantially more data than previous benchmark datasets. We provide a set of 25,000 highly polar movie reviews for training, and 25,000 for testing. There is additional unlabeled data for use as well.',\n",
              "    homepage='http://ai.stanford.edu/~amaas/data/sentiment/',\n",
              "    features=FeaturesDict({\n",
              "        'label': ClassLabel(shape=(), dtype=tf.int64, num_classes=2),\n",
              "        'text': Text(shape=(None,), dtype=tf.int64, encoder=<SubwordTextEncoder vocab_size=32650>),\n",
              "    }),\n",
              "    total_num_examples=100000,\n",
              "    splits={\n",
              "        'test': 25000,\n",
              "        'train': 25000,\n",
              "        'unsupervised': 50000,\n",
              "    },\n",
              "    supervised_keys=('text', 'label'),\n",
              "    citation=\"\"\"@InProceedings{maas-EtAl:2011:ACL-HLT2011,\n",
              "      author    = {Maas, Andrew L.  and  Daly, Raymond E.  and  Pham, Peter T.  and  Huang, Dan  and  Ng, Andrew Y.  and  Potts, Christopher},\n",
              "      title     = {Learning Word Vectors for Sentiment Analysis},\n",
              "      booktitle = {Proceedings of the 49th Annual Meeting of the Association for Computational Linguistics: Human Language Technologies},\n",
              "      month     = {June},\n",
              "      year      = {2011},\n",
              "      address   = {Portland, Oregon, USA},\n",
              "      publisher = {Association for Computational Linguistics},\n",
              "      pages     = {142--150},\n",
              "      url       = {http://www.aclweb.org/anthology/P11-1015}\n",
              "    }\"\"\",\n",
              "    redistribution_info=,\n",
              ")"
            ]
          },
          "metadata": {
            "tags": []
          },
          "execution_count": 4
        }
      ]
    },
    {
      "cell_type": "code",
      "metadata": {
        "id": "4WePhlv3de--",
        "colab_type": "code",
        "colab": {
          "base_uri": "https://localhost:8080/",
          "height": 71
        },
        "outputId": "6baab9fe-74eb-4cd4-c30f-90d0f99950fb"
      },
      "source": [
        "print(info.description)"
      ],
      "execution_count": 5,
      "outputs": [
        {
          "output_type": "stream",
          "text": [
            "Large Movie Review Dataset.\n",
            "This is a dataset for binary sentiment classification containing substantially more data than previous benchmark datasets. We provide a set of 25,000 highly polar movie reviews for training, and 25,000 for testing. There is additional unlabeled data for use as well.\n"
          ],
          "name": "stdout"
        }
      ]
    },
    {
      "cell_type": "code",
      "metadata": {
        "id": "njeVZ2M_caxL",
        "colab_type": "code",
        "colab": {}
      },
      "source": [
        "encoder = info.features['text'].encoder #SubwordTextEncoder has method encoder, decoder"
      ],
      "execution_count": 0,
      "outputs": []
    },
    {
      "cell_type": "code",
      "metadata": {
        "id": "o3R-i2udk5x5",
        "colab_type": "code",
        "colab": {
          "base_uri": "https://localhost:8080/",
          "height": 34
        },
        "outputId": "3bc53d46-1d30-4082-8c83-3b464885b8ac"
      },
      "source": [
        "print('Vovabulary size : {}'.format(encoder.vocab_size))"
      ],
      "execution_count": 7,
      "outputs": [
        {
          "output_type": "stream",
          "text": [
            "Vovabulary size : 32650\n"
          ],
          "name": "stdout"
        }
      ]
    },
    {
      "cell_type": "code",
      "metadata": {
        "id": "TI8AwywrlJPT",
        "colab_type": "code",
        "colab": {
          "base_uri": "https://localhost:8080/",
          "height": 51
        },
        "outputId": "a2dbee10-d783-4188-a913-02adc92da8e8"
      },
      "source": [
        "sample_string = 'Keep Going!'\n",
        "\n",
        "encoded_string = encoder.encode(sample_string)\n",
        "print(encoded_string)\n",
        "\n",
        "decoded_string = encoder.decode(encoded_string)\n",
        "assert decoded_string == sample_string\n",
        "print(decoded_string)"
      ],
      "execution_count": 8,
      "outputs": [
        {
          "output_type": "stream",
          "text": [
            "[9326, 32108, 32497, 32427]\n",
            "Keep Going!\n"
          ],
          "name": "stdout"
        }
      ]
    },
    {
      "cell_type": "code",
      "metadata": {
        "id": "X7q8KD0llJM_",
        "colab_type": "code",
        "colab": {
          "base_uri": "https://localhost:8080/",
          "height": 85
        },
        "outputId": "5abac75a-46e5-4923-b378-4c9b98e335a5"
      },
      "source": [
        "for es in encoded_string:\n",
        "  print('{} ======> {}'.format(es, encoder.decode([es])))"
      ],
      "execution_count": 9,
      "outputs": [
        {
          "output_type": "stream",
          "text": [
            "9326 ======> Keep \n",
            "32108 ======> Goin\n",
            "32497 ======> g\n",
            "32427 ======> !\n"
          ],
          "name": "stdout"
        }
      ]
    },
    {
      "cell_type": "markdown",
      "metadata": {
        "id": "rY5ska-vWVKE",
        "colab_type": "text"
      },
      "source": [
        "## Explore the data"
      ]
    },
    {
      "cell_type": "code",
      "metadata": {
        "id": "3E-27MTfn7GN",
        "colab_type": "code",
        "colab": {
          "base_uri": "https://localhost:8080/",
          "height": 170
        },
        "outputId": "7f3bd057-5d28-41bb-c57d-0e06c3430fc9"
      },
      "source": [
        "train_example_batch = np.array([[]])\n",
        "train_label_batch = np.array([])\n",
        "\n",
        "for train_example, train_label in train_data.take(1):\n",
        "  print('train_example: \\n', train_example[:10])\n",
        "  print()\n",
        "  print('train_example_batch.shape \\n', train_example.shape)\n",
        "  print()\n",
        "  print('train_label_batch \\n', train_label)\n",
        "  print()"
      ],
      "execution_count": 10,
      "outputs": [
        {
          "output_type": "stream",
          "text": [
            "train_example: \n",
            " tf.Tensor([   56    18    41   496   674    59     3   574 32433    25], shape=(10,), dtype=int64)\n",
            "\n",
            "train_example_batch.shape \n",
            " (143,)\n",
            "\n",
            "train_label_batch \n",
            " tf.Tensor(0, shape=(), dtype=int64)\n",
            "\n"
          ],
          "name": "stdout"
        }
      ]
    },
    {
      "cell_type": "code",
      "metadata": {
        "id": "rSlSxJpEn7Dx",
        "colab_type": "code",
        "colab": {
          "base_uri": "https://localhost:8080/",
          "height": 54
        },
        "outputId": "5aef7e21-e424-467c-8173-8e415a1470be"
      },
      "source": [
        "encoder.decode(train_example)"
      ],
      "execution_count": 11,
      "outputs": [
        {
          "output_type": "execute_result",
          "data": {
            "text/plain": [
              "\"This was an absolutely terrible movie. Don't be lured in by Christopher Walken or Michael Ironside. Both are great actors, but this must simply be their worst role in history. Even their great acting could not redeem this movie's ridiculous storyline. This movie is an early nineties US propaganda piece. The most pathetic scenes were those when the Columbian rebels were making their cases for revolutions. Maria Conchita Alonso appeared phony, and her pseudo-love affair with Walken was nothing but a pathetic emotional plug in a movie that was devoid of any real meaning. I am disappointed that there are movies like this, ruining actor's like Christopher Walken's good name. I could barely sit through it.\""
            ]
          },
          "metadata": {
            "tags": []
          },
          "execution_count": 11
        }
      ]
    },
    {
      "cell_type": "code",
      "metadata": {
        "id": "zzfbw3HBn7Bm",
        "colab_type": "code",
        "colab": {
          "base_uri": "https://localhost:8080/",
          "height": 323
        },
        "outputId": "c1f99ed3-acb0-4776-a023-63a858556d1e"
      },
      "source": [
        "# Test shuffle! method\n",
        "samples = [1, 2, 3, 4, 5, 6]\n",
        "labels = [1, 2, 3, 4, 5, 6]\n",
        "\n",
        "test_dataset = tf.data.Dataset.from_tensor_slices((samples, labels))\n",
        "\n",
        "test_dataset_batches = (\n",
        "    test_dataset\n",
        "    .shuffle(2)\n",
        "    .padded_batch(2)\n",
        ")\n",
        "\n",
        "for s, l in test_dataset_batches.take(3):\n",
        "  print('sample Batch shape: ', s.shape)\n",
        "  print('sample Batch \\n', s)\n",
        "  print('label shape: ', l.shape)\n",
        "  print('label \\n', s)"
      ],
      "execution_count": 30,
      "outputs": [
        {
          "output_type": "stream",
          "text": [
            "sample Batch shape:  (2,)\n",
            "sample Batch \n",
            " tf.Tensor([1 3], shape=(2,), dtype=int32)\n",
            "label shape:  (2,)\n",
            "label \n",
            " tf.Tensor([1 3], shape=(2,), dtype=int32)\n",
            "sample Batch shape:  (2,)\n",
            "sample Batch \n",
            " tf.Tensor([4 2], shape=(2,), dtype=int32)\n",
            "label shape:  (2,)\n",
            "label \n",
            " tf.Tensor([4 2], shape=(2,), dtype=int32)\n",
            "sample Batch shape:  (2,)\n",
            "sample Batch \n",
            " tf.Tensor([6 5], shape=(2,), dtype=int32)\n",
            "label shape:  (2,)\n",
            "label \n",
            " tf.Tensor([6 5], shape=(2,), dtype=int32)\n"
          ],
          "name": "stdout"
        }
      ]
    },
    {
      "cell_type": "markdown",
      "metadata": {
        "id": "Bd37SIbvWVHs",
        "colab_type": "text"
      },
      "source": [
        "## Prepare the data for training model"
      ]
    },
    {
      "cell_type": "code",
      "metadata": {
        "id": "RyFLkZaIFDXB",
        "colab_type": "code",
        "colab": {}
      },
      "source": [
        "BUFFER_SIZE = 1000\n",
        "\n",
        "train_batchs = (\n",
        "    train_data\n",
        "    .shuffle(BUFFER_SIZE)\n",
        "    .padded_batch(32))\n",
        "\n",
        "test_batches = (\n",
        "    test_data\n",
        "    .padded_batch(32))"
      ],
      "execution_count": 0,
      "outputs": []
    },
    {
      "cell_type": "code",
      "metadata": {
        "id": "ayktDypaAMZz",
        "colab_type": "code",
        "colab": {
          "base_uri": "https://localhost:8080/",
          "height": 238
        },
        "outputId": "f0a94adb-0634-4a2f-efa2-c934898b0fa6"
      },
      "source": [
        "for s, l in test_batches.take(1):\n",
        "  print('sample Batch shape: ', s.shape)\n",
        "  print('sample Batch \\n', s)\n",
        "  print('label shape: ', l.shape)\n",
        "  print('label \\n', l)"
      ],
      "execution_count": 31,
      "outputs": [
        {
          "output_type": "stream",
          "text": [
            "sample Batch shape:  (32, 695)\n",
            "sample Batch \n",
            " tf.Tensor(\n",
            "[[  156    29   168 ...     0     0     0]\n",
            " [  122  1975   187 ...     0     0     0]\n",
            " [ 6612  1863 32443 ... 10299   222 32440]\n",
            " ...\n",
            " [10129  7900 13957 ...     0     0     0]\n",
            " [  628     2    12 ...     0     0     0]\n",
            " [   12   259    14 ...     0     0     0]], shape=(32, 695), dtype=int64)\n",
            "label shape:  (32,)\n",
            "label \n",
            " tf.Tensor([1 1 0 0 1 1 1 1 0 1 0 0 1 0 1 0 1 0 1 0 0 1 0 0 1 1 0 0 0 1 1 1], shape=(32,), dtype=int64)\n"
          ],
          "name": "stdout"
        }
      ]
    },
    {
      "cell_type": "markdown",
      "metadata": {
        "id": "0J3TUJ-YWVFe",
        "colab_type": "text"
      },
      "source": [
        "## Build the model"
      ]
    },
    {
      "cell_type": "code",
      "metadata": {
        "id": "4siwErqZA_p9",
        "colab_type": "code",
        "colab": {
          "base_uri": "https://localhost:8080/",
          "height": 255
        },
        "outputId": "3226b812-4675-4a98-ae8b-b23ade51ba1e"
      },
      "source": [
        "model = keras.Sequential([\n",
        "  keras.layers.Embedding(encoder.vocab_size, 32),\n",
        "  keras.layers.GlobalAvgPool1D(),\n",
        "  keras.layers.Dense(1)])\n",
        "\n",
        "model.summary()"
      ],
      "execution_count": 32,
      "outputs": [
        {
          "output_type": "stream",
          "text": [
            "Model: \"sequential\"\n",
            "_________________________________________________________________\n",
            "Layer (type)                 Output Shape              Param #   \n",
            "=================================================================\n",
            "embedding (Embedding)        (None, None, 32)          1044800   \n",
            "_________________________________________________________________\n",
            "global_average_pooling1d (Gl (None, 32)                0         \n",
            "_________________________________________________________________\n",
            "dense (Dense)                (None, 1)                 33        \n",
            "=================================================================\n",
            "Total params: 1,044,833\n",
            "Trainable params: 1,044,833\n",
            "Non-trainable params: 0\n",
            "_________________________________________________________________\n"
          ],
          "name": "stdout"
        }
      ]
    },
    {
      "cell_type": "markdown",
      "metadata": {
        "id": "Sv523oDyWVDS",
        "colab_type": "text"
      },
      "source": [
        "### Hidden units"
      ]
    },
    {
      "cell_type": "markdown",
      "metadata": {
        "id": "y4cIlExxXA_w",
        "colab_type": "text"
      },
      "source": [
        "### Loss function and optimizer"
      ]
    },
    {
      "cell_type": "code",
      "metadata": {
        "id": "qKgj68a9BiNN",
        "colab_type": "code",
        "colab": {}
      },
      "source": [
        "model.compile(optimizer='adam',\n",
        "             loss=tf.losses.BinaryCrossentropy(from_logits=True),\n",
        "             metrics=['accuracy'])"
      ],
      "execution_count": 0,
      "outputs": []
    },
    {
      "cell_type": "markdown",
      "metadata": {
        "id": "JWgDTqjyWVA7",
        "colab_type": "text"
      },
      "source": [
        "## Train the model"
      ]
    },
    {
      "cell_type": "code",
      "metadata": {
        "id": "2_Ap2bZeBygW",
        "colab_type": "code",
        "colab": {
          "base_uri": "https://localhost:8080/",
          "height": 357
        },
        "outputId": "d08b1fb4-f52f-4843-a552-2cbe795f51e3"
      },
      "source": [
        "history = model.fit(train_batchs,\n",
        "                    epochs=10,\n",
        "                    validation_data=test_batches,\n",
        "                    validation_steps=30)"
      ],
      "execution_count": 35,
      "outputs": [
        {
          "output_type": "stream",
          "text": [
            "Epoch 1/10\n",
            "782/782 [==============================] - 15s 19ms/step - loss: 0.6693 - accuracy: 0.5073 - val_loss: 0.6319 - val_accuracy: 0.5365\n",
            "Epoch 2/10\n",
            "782/782 [==============================] - 15s 19ms/step - loss: 0.5613 - accuracy: 0.6364 - val_loss: 0.5318 - val_accuracy: 0.7198\n",
            "Epoch 3/10\n",
            "782/782 [==============================] - 15s 19ms/step - loss: 0.4542 - accuracy: 0.7719 - val_loss: 0.4584 - val_accuracy: 0.7875\n",
            "Epoch 4/10\n",
            "782/782 [==============================] - 15s 19ms/step - loss: 0.3773 - accuracy: 0.8358 - val_loss: 0.4141 - val_accuracy: 0.7990\n",
            "Epoch 5/10\n",
            "782/782 [==============================] - 15s 19ms/step - loss: 0.3241 - accuracy: 0.8708 - val_loss: 0.3832 - val_accuracy: 0.8521\n",
            "Epoch 6/10\n",
            "782/782 [==============================] - 15s 19ms/step - loss: 0.2856 - accuracy: 0.8911 - val_loss: 0.3651 - val_accuracy: 0.8646\n",
            "Epoch 7/10\n",
            "782/782 [==============================] - 15s 19ms/step - loss: 0.2518 - accuracy: 0.9056 - val_loss: 0.3536 - val_accuracy: 0.8604\n",
            "Epoch 8/10\n",
            "782/782 [==============================] - 15s 19ms/step - loss: 0.2271 - accuracy: 0.9172 - val_loss: 0.3466 - val_accuracy: 0.8646\n",
            "Epoch 9/10\n",
            "782/782 [==============================] - 15s 20ms/step - loss: 0.2054 - accuracy: 0.9264 - val_loss: 0.3450 - val_accuracy: 0.8594\n",
            "Epoch 10/10\n",
            "782/782 [==============================] - 15s 19ms/step - loss: 0.1840 - accuracy: 0.9367 - val_loss: 0.3431 - val_accuracy: 0.8615\n"
          ],
          "name": "stdout"
        }
      ]
    },
    {
      "cell_type": "markdown",
      "metadata": {
        "id": "zPoj4RU2WU-v",
        "colab_type": "text"
      },
      "source": [
        "## Evaluate the model"
      ]
    },
    {
      "cell_type": "code",
      "metadata": {
        "id": "9m7chU9fEoxs",
        "colab_type": "code",
        "colab": {
          "base_uri": "https://localhost:8080/",
          "height": 68
        },
        "outputId": "0611bfa1-6bee-4f16-d3a3-f8c66e305092"
      },
      "source": [
        "loss, accuracy = model.evaluate(test_batches)\n",
        "\n",
        "print('Loss: ', loss)\n",
        "print('Accuracy: ', accuracy)"
      ],
      "execution_count": 36,
      "outputs": [
        {
          "output_type": "stream",
          "text": [
            "782/782 [==============================] - 4s 5ms/step - loss: 0.3025 - accuracy: 0.8634\n",
            "Loss:  0.3024882972240448\n",
            "Accuracy:  0.8633999824523926\n"
          ],
          "name": "stdout"
        }
      ]
    },
    {
      "cell_type": "markdown",
      "metadata": {
        "id": "5YXpShefXOsJ",
        "colab_type": "text"
      },
      "source": [
        "## Visualize the evaluation result with matplotlib"
      ]
    },
    {
      "cell_type": "code",
      "metadata": {
        "id": "OxF2TZ0EXOUo",
        "colab_type": "code",
        "colab": {
          "base_uri": "https://localhost:8080/",
          "height": 34
        },
        "outputId": "cb0d4c89-2aa1-4905-cd55-e674c2d2d79d"
      },
      "source": [
        "history_dict = history.history\n",
        "print(history_dict.keys())"
      ],
      "execution_count": 40,
      "outputs": [
        {
          "output_type": "stream",
          "text": [
            "dict_keys(['loss', 'accuracy', 'val_loss', 'val_accuracy'])\n"
          ],
          "name": "stdout"
        }
      ]
    },
    {
      "cell_type": "code",
      "metadata": {
        "id": "DK7pEd0_XOP3",
        "colab_type": "code",
        "colab": {
          "base_uri": "https://localhost:8080/",
          "height": 105
        },
        "outputId": "6de8c918-eb5d-4e84-c330-9627251899b0"
      },
      "source": [
        "print(history_dict['loss'])\n",
        "print(history_dict['accuracy'])\n",
        "print(history_dict['val_loss'])\n",
        "print(history_dict['val_accuracy'])"
      ],
      "execution_count": 43,
      "outputs": [
        {
          "output_type": "stream",
          "text": [
            "[0.6693195104598999, 0.5613390207290649, 0.45415452122688293, 0.3773426115512848, 0.3240654468536377, 0.28562086820602417, 0.2517958879470825, 0.22713826596736908, 0.20535162091255188, 0.1839940845966339]\n",
            "[0.5072799921035767, 0.6363999843597412, 0.7718799710273743, 0.8357599973678589, 0.8707600235939026, 0.8911200165748596, 0.9056400060653687, 0.9172000288963318, 0.926360011100769, 0.936680018901825]\n",
            "[0.6319437623023987, 0.5318410992622375, 0.4584323763847351, 0.41411760449409485, 0.3832227885723114, 0.3651006519794464, 0.3536212742328644, 0.34655845165252686, 0.34499070048332214, 0.34309276938438416]\n",
            "[0.5364583134651184, 0.7197916507720947, 0.7875000238418579, 0.7989583611488342, 0.8520833253860474, 0.8645833134651184, 0.8604166507720947, 0.8645833134651184, 0.859375, 0.8614583611488342]\n"
          ],
          "name": "stdout"
        }
      ]
    },
    {
      "cell_type": "code",
      "metadata": {
        "id": "nMzifrhyWQ7Q",
        "colab_type": "code",
        "colab": {}
      },
      "source": [
        "import matplotlib.pyplot as plt\n",
        "\n",
        "loss = history_dict['loss']\n",
        "acc = history_dict['accuracy']\n",
        "val_loss = history_dict['val_loss']\n",
        "val_acc = history_dict['val_accuracy']"
      ],
      "execution_count": 0,
      "outputs": []
    },
    {
      "cell_type": "code",
      "metadata": {
        "id": "5dgkzTfYK8Oq",
        "colab_type": "code",
        "colab": {
          "base_uri": "https://localhost:8080/",
          "height": 295
        },
        "outputId": "f5337316-e59f-4907-e358-c4ac8694d93f"
      },
      "source": [
        "epochs = range(1, len(acc)+1)\n",
        "\n",
        "plt.plot(epochs, loss, 'bo', label='Training loss', )\n",
        "plt.plot(epochs, val_loss, 'b', label='Validation loss')\n",
        "plt.title('Traing and validation loss', color='white')\n",
        "plt.xlabel('Epochs', color='white')\n",
        "plt.ylabel('Loss', color='white')\n",
        "plt.rc_context({'xtick.color':'white', 'ytick.color':'white'})\n",
        "plt.legend()\n",
        "\n",
        "plt.show()"
      ],
      "execution_count": 65,
      "outputs": [
        {
          "output_type": "display_data",
          "data": {
            "image/png": "[encoded data removed]",
            "text/plain": [
              "<Figure size 432x288 with 1 Axes>"
            ]
          },
          "metadata": {
            "tags": [],
            "needs_background": "dark"
          }
        }
      ]
    },
    {
      "cell_type": "code",
      "metadata": {
        "id": "1RE8j0r-K8MR",
        "colab_type": "code",
        "colab": {
          "base_uri": "https://localhost:8080/",
          "height": 295
        },
        "outputId": "78c5c19c-952e-427f-d492-b0a656138d67"
      },
      "source": [
        "epochs = range(1, len(acc)+1)\n",
        "\n",
        "plt.plot(epochs, acc, 'bo', label='Training loss', )\n",
        "plt.plot(epochs, val_acc, 'b', label='Validation loss')\n",
        "plt.title('Traing and validation loss', color='white')\n",
        "plt.xlabel('Epochs', color='white')\n",
        "plt.ylabel('Accuracy', color='white')\n",
        "plt.legend(loc='lower right')\n",
        "plt.rc_context({'xtick.color':'white', 'ytick.color':'white'})\n",
        "\n",
        "plt.show()"
      ],
      "execution_count": 63,
      "outputs": [
        {
          "output_type": "display_data",
          "data": {
            "image/png": "[encoded data removed]",
            "text/plain": [
              "<Figure size 432x288 with 1 Axes>"
            ]
          },
          "metadata": {
            "tags": [],
            "needs_background": "dark"
          }
        }
      ]
    }
  ]
}