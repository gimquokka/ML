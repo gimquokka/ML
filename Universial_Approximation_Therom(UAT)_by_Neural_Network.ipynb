{
  "nbformat": 4,
  "nbformat_minor": 0,
  "metadata": {
    "colab": {
      "name": "Universial Approximation Therom(UAT) by Neural Network.ipynb",
      "provenance": [],
      "collapsed_sections": [],
      "authorship_tag": "ABX9TyMkf3G/tPOswPxMpiVLJ3Fr",
      "include_colab_link": true
    },
    "kernelspec": {
      "name": "python3",
      "display_name": "Python 3"
    }
  },
  "cells": [
    {
      "cell_type": "markdown",
      "metadata": {
        "id": "view-in-github",
        "colab_type": "text"
      },
      "source": [
        "<a href=\"https://colab.research.google.com/github/gimquokka/ML/blob/master/Universial_Approximation_Therom(UAT)_by_Neural_Network.ipynb\" target=\"_parent\"><img src=\"https://colab.research.google.com/assets/colab-badge.svg\" alt=\"Open In Colab\"/></a>"
      ]
    },
    {
      "cell_type": "markdown",
      "metadata": {
        "id": "R0-E5RKq8493",
        "colab_type": "text"
      },
      "source": [
        "# **Universial Approximation Therom(UAT) by Neural Network👑**"
      ]
    },
    {
      "cell_type": "markdown",
      "metadata": {
        "id": "wrPXU1qD9dWf",
        "colab_type": "text"
      },
      "source": [
        "## Procedure\n",
        "1. Choose the function want to approximate and extract feature_set and labels from the function\n",
        "2. Triaing Neural Network with them\n",
        "3. Plot trained result with matplotlib\n",
        "4. Compare two plot and being pleasured, astonished on Neural Network...🤘"
      ]
    },
    {
      "cell_type": "markdown",
      "metadata": {
        "id": "A0VHpL5J9dUT",
        "colab_type": "text"
      },
      "source": [
        "# 1. Choose the function want to approximate and extract feature_set and labels from the function"
      ]
    },
    {
      "cell_type": "code",
      "metadata": {
        "id": "6iZCw8NJAIB6",
        "colab_type": "code",
        "colab": {}
      },
      "source": [
        "import numpy as np\n",
        "import matplotlib.pyplot as plt"
      ],
      "execution_count": 0,
      "outputs": []
    },
    {
      "cell_type": "code",
      "metadata": {
        "id": "LfoOcePy_-K1",
        "colab_type": "code",
        "outputId": "0f3304e3-e229-4810-d642-84abe0b11588",
        "colab": {
          "base_uri": "https://localhost:8080/",
          "height": 337
        }
      },
      "source": [
        "# The selected funciton!\n",
        "def func(x):\n",
        "  return np.sin(x) + np.cos(x) # <<<=== Adjust this function!\n",
        "\n",
        "# Intialized parameters\n",
        "sampling_num = 50\n",
        "\n",
        "origin_x = np.linspace(5, -5, sampling_num)\n",
        "origin_y = func(origin_x)\n",
        "\n",
        "feature_set = origin_x.reshape(sampling_num, 1)\n",
        "labels = origin_y.reshape(sampling_num, 1)\n",
        "\n",
        "# Check the initialize result\n",
        "'''\n",
        "print('feature_set \\n', feature_set)\n",
        "print('feature_set.shape \\n', feature_set.shape)\n",
        "\n",
        "print('labels \\n', labels)\n",
        "print('labels.shape \\n', labels.shape)\n",
        "'''\n",
        "\n",
        "# Plot\n",
        "plt.figure(figsize=(5,5))\n",
        "plt.scatter(feature_set, labels, c = 'blue')\n"
      ],
      "execution_count": 9,
      "outputs": [
        {
          "output_type": "execute_result",
          "data": {
            "text/plain": [
              "<matplotlib.collections.PathCollection at 0x7f2f0ef8fcc0>"
            ]
          },
          "metadata": {
            "tags": []
          },
          "execution_count": 9
        },
        {
          "output_type": "display_data",
          "data": {
            "image/png": "[encoded data removed]",
            "text/plain": [
              "<Figure size 360x360 with 1 Axes>"
            ]
          },
          "metadata": {
            "tags": [],
            "needs_background": "light"
          }
        }
      ]
    },
    {
      "cell_type": "markdown",
      "metadata": {
        "id": "GXKb452m9dSG",
        "colab_type": "text"
      },
      "source": [
        "# 2. Triaing Neural Network with them\n"
      ]
    },
    {
      "cell_type": "code",
      "metadata": {
        "id": "SAxJJTNMgeOC",
        "colab_type": "code",
        "colab": {}
      },
      "source": [
        "# Define sigmoid and It's derivate\n",
        "def sigmoid(x):\n",
        "  return np.array(1/(1 + np.exp(-x)), dtype = np.float128)\n",
        "\n",
        "def sigmoid_der(x):\n",
        "  return np.array(sigmoid(x)*(1-sigmoid(x)), dtype =np.float128)"
      ],
      "execution_count": 0,
      "outputs": []
    },
    {
      "cell_type": "code",
      "metadata": {
        "id": "OrjRZf9Wjb6W",
        "colab_type": "code",
        "outputId": "cd13e6de-cd9b-4b6d-a18f-c9fc2ab36197",
        "colab": {
          "base_uri": "https://localhost:8080/",
          "height": 393
        }
      },
      "source": [
        "# =================== Initialize parameters ========================\n",
        "\n",
        "# feature_set.shape = sampling_num x 1\n",
        "# labels.shape = sampling_num x 1\n",
        "\n",
        "# Number of hidden layer\n",
        "numh1 = 50\n",
        "\n",
        "# weight (1) Input to hidden_layer, (2) Hidden_layer to output\n",
        "np.random.seed(40)\n",
        "wh1 = np.random.rand(1, numh1) #wh1.shape = 1 x numh1\n",
        "wo = np.random.rand(numh1, 1) #wo.shape = numh1 x 1\n",
        "# print(wh1)\n",
        "\n",
        "# Bias (1) of hidden layer (2) of output\n",
        "bh1 = np.random.rand(numh1)\n",
        "bo = np.random.rand(1)\n",
        "\n",
        "Learning_rate = 0.001\n",
        "training_num = 100000\n",
        "\n",
        "# =================== Trianing ======================\n",
        "for current_num in range(training_num):\n",
        "  # Feedforward Propagation ===========================\n",
        "  # Step 1\n",
        "  zh1 = np.dot(feature_set, wh1) + bh1# dot product => (sampling_num x 1) x (1 x numh1)\n",
        "  ah1 = sigmoid(zh1) # ah1.shape = sampling_num x numh1\n",
        "  # Step 2\n",
        "  ao = np.dot(ah1, wo) + bo# ao = sampling_num x 1\n",
        "\n",
        "  # MSE(Mean Square Error)\n",
        "  if current_num%10000 == 0:\n",
        "    MSE = np.sum(np.square(ao - labels))\n",
        "    print('MSE: ', MSE)\n",
        "\n",
        "\n",
        "  # Back-Propagation ==============================\n",
        "  # Step 1: dcost_dwo = dcost_dao*dao_dwo (dao = dzo)\n",
        "  dcost_dao = ao - labels #.shape = sampling_num x 1\n",
        "  # print('dcost_dao', dcost_dao)\n",
        "  dao_dwo = ah1 #.shape = sampling_num x numh1\n",
        "  dcost_dwo = np.dot(dao_dwo.T, dcost_dao) #.shape = numh1 x 1\n",
        "\n",
        "  dcost_dbo = dcost_dao\n",
        "  \n",
        "  # Step 2: dcost_dwh1 = (a)dcost_dah1*dah1_dzh1*dzh1_dwh1\n",
        "                        #(a)dcost_dah1 = (b)dcost_dzo*dzo_dah1\n",
        "                                        #(b)dcost_dzo = dcost_dao\n",
        "  dzo_dah1 = wo #.shape = numh1 x 1\n",
        "  dcost_dah1 = np.dot(dcost_dao, dzo_dah1.T) # (sampling x 1) x (1 x numh1) => sampling_num x numh1\n",
        "  dah1_dzh1 = sigmoid_der(zh1) #.shape = sampling_num x numh1\n",
        "  # print('dah1_dzh1', dah1_dzh1)\n",
        "  dzh1_dwh1 = feature_set #.shape = sampling_num x 1\n",
        "  \n",
        "  dcost_dwh1 = np.dot(dzh1_dwh1.T, dcost_dah1*dah1_dzh1) # (1 x sampling_num) x (sampling_num x numh1) = 1 x numh1\n",
        "  \n",
        "  wo -= Learning_rate*dcost_dwo\n",
        "  bo -= Learning_rate*np.sum(dcost_dbo)\n",
        "\n",
        "  wh1 -= Learning_rate*dcost_dwh1\n",
        "  bh1 -= Learning_rate*np.sum(dcost_dah1*dah1_dzh1, axis = 0)\n",
        "\n",
        "# Plot the origin function\n",
        "# plt.figure(figsize=(5,5))\n",
        "# plt.scatter(feature_set, labels, c = 'blue')\n",
        "\n",
        "# Plot the trained function\n",
        "# Predict Y value from X value\n",
        "# Step 1\n",
        "num_pred = 10000\n",
        "\n",
        "x_pred = np.linspace(-5, 5, num_pred).reshape(-1, 1)\n",
        "\n",
        "zh1 = np.dot(x_pred, wh1) + bh1# dot product => (sampling_num x 1) x (1 x numh1)\n",
        "ah1 = sigmoid(zh1) # ah1.shape = sampling_num x numh1\n",
        "# Step 2\n",
        "ao = np.dot(ah1, wo) + bo# ao = sampling_num x 1\n",
        "\n",
        "y_pred = ao\n",
        "\n",
        "fig, axes = plt.subplots(nrows=1, ncols=2, figsize=(7, 3))\n",
        "axes[0].plot(feature_set, labels, c = 'red')\n",
        "axes[1].plot(x_pred, y_pred, c = 'blue')\n",
        "fig.tight_layout()"
      ],
      "execution_count": 11,
      "outputs": [
        {
          "output_type": "stream",
          "text": [
            "MSE:  11957.395297702745319\n",
            "MSE:  2.1208409040446274786\n",
            "MSE:  1.1688407914825433197\n",
            "MSE:  0.61616536596582023556\n",
            "MSE:  0.39983806133284671507\n",
            "MSE:  0.29737586899396075492\n",
            "MSE:  0.23181102299511302728\n",
            "MSE:  0.18521745654535744196\n",
            "MSE:  0.15072083118681758385\n",
            "MSE:  0.124326230220885617195\n"
          ],
          "name": "stdout"
        },
        {
          "output_type": "display_data",
          "data": {
            "image/png": "[encoded data removed]",
            "text/plain": [
              "<Figure size 504x216 with 2 Axes>"
            ]
          },
          "metadata": {
            "tags": [],
            "needs_background": "light"
          }
        }
      ]
    }
  ]
}