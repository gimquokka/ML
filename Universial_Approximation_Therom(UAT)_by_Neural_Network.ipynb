{
  "nbformat": 4,
  "nbformat_minor": 0,
  "metadata": {
    "colab": {
      "name": "Universial Approximation Therom(UAT) by Neural Network.ipynb",
      "provenance": [],
      "collapsed_sections": [],
      "authorship_tag": "ABX9TyObC++3GZ/IDFW7XqX9TlWg",
      "include_colab_link": true
    },
    "kernelspec": {
      "name": "python3",
      "display_name": "Python 3"
    }
  },
  "cells": [
    {
      "cell_type": "markdown",
      "metadata": {
        "id": "view-in-github",
        "colab_type": "text"
      },
      "source": [
        "<a href=\"https://colab.research.google.com/github/gimquokka/ML/blob/master/Universial_Approximation_Therom(UAT)_by_Neural_Network.ipynb\" target=\"_parent\"><img src=\"https://colab.research.google.com/assets/colab-badge.svg\" alt=\"Open In Colab\"/></a>"
      ]
    },
    {
      "cell_type": "markdown",
      "metadata": {
        "id": "R0-E5RKq8493",
        "colab_type": "text"
      },
      "source": [
        "# **Universial Approximation Therom(UAT) by Neural Network👑**"
      ]
    },
    {
      "cell_type": "markdown",
      "metadata": {
        "id": "wrPXU1qD9dWf",
        "colab_type": "text"
      },
      "source": [
        "## Procedure\n",
        "1. Choose the function want to approximate and extract feature_set and labels from the function\n",
        "2. Triaing Neural Network with them\n",
        "3. Plot trained result with matplotlib\n",
        "4. Compare two plot and being pleasured, astonished on Neural Network...🤘"
      ]
    },
    {
      "cell_type": "markdown",
      "metadata": {
        "id": "A0VHpL5J9dUT",
        "colab_type": "text"
      },
      "source": [
        "# 1. Choose the function want to approximate and extract feature_set and labels from the function"
      ]
    },
    {
      "cell_type": "code",
      "metadata": {
        "id": "6iZCw8NJAIB6",
        "colab_type": "code",
        "colab": {}
      },
      "source": [
        "import numpy as np\n",
        "import matplotlib.pyplot as plt"
      ],
      "execution_count": 0,
      "outputs": []
    },
    {
      "cell_type": "code",
      "metadata": {
        "id": "LfoOcePy_-K1",
        "colab_type": "code",
        "outputId": "4caee91a-ad47-4859-b9ee-484d520e8ced",
        "colab": {
          "base_uri": "https://localhost:8080/",
          "height": 445
        }
      },
      "source": [
        "# The selected funciton is x^2\n",
        "def func(x):\n",
        "  return x*x\n",
        "\n",
        "# Intialized parameters\n",
        "feature_num = 40\n",
        "\n",
        "origin_x = np.linspace(5, -5, feature_num)\n",
        "origin_y = func(origin_x)\n",
        "\n",
        "feature_set = origin_x.reshape(feature_num, 1)\n",
        "labels = origin_y.reshape(feature_num, 1)\n",
        "\n",
        "# Check the initialize result\n",
        "'''\n",
        "print('feature_set \\n', feature_set)\n",
        "print('feature_set.shape \\n', feature_set.shape)\n",
        "\n",
        "print('labels \\n', labels)\n",
        "print('labels.shape \\n', labels.shape)\n",
        "'''\n",
        "\n",
        "# Plot\n",
        "plt.figure(figsize=(5,7))\n",
        "plt.scatter(feature_set, labels, c = 'blue')\n"
      ],
      "execution_count": 26,
      "outputs": [
        {
          "output_type": "execute_result",
          "data": {
            "text/plain": [
              "<matplotlib.collections.PathCollection at 0x7f7e3f5c3518>"
            ]
          },
          "metadata": {
            "tags": []
          },
          "execution_count": 26
        },
        {
          "output_type": "display_data",
          "data": {
            "image/png": "[encoded data removed]",
            "text/plain": [
              "<Figure size 360x504 with 1 Axes>"
            ]
          },
          "metadata": {
            "tags": [],
            "needs_background": "light"
          }
        }
      ]
    },
    {
      "cell_type": "markdown",
      "metadata": {
        "id": "GXKb452m9dSG",
        "colab_type": "text"
      },
      "source": [
        "# 2. Triaing Neural Network with them\n"
      ]
    },
    {
      "cell_type": "code",
      "metadata": {
        "id": "SAxJJTNMgeOC",
        "colab_type": "code",
        "colab": {}
      },
      "source": [
        "# Define sigmoid and It's derivate\n",
        "def sigmoid(x):\n",
        "  return 1/(1 - np.exp(-x))\n",
        "\n",
        "def sigmoid_der(x):\n",
        "  return -np.exp(-x)/np.square(1-np.exp(-x))"
      ],
      "execution_count": 0,
      "outputs": []
    },
    {
      "cell_type": "code",
      "metadata": {
        "id": "OrjRZf9Wjb6W",
        "colab_type": "code",
        "colab": {}
      },
      "source": [
        "# Initialize parameters ==========================\n",
        "\n",
        "# feature_set.shape = feature_num x 1\n",
        "# labels.shape = feature_num x 1\n",
        "\n",
        "# Number of hidden layer\n",
        "numh1 = 50\n",
        "\n",
        "# weight (1) Input to hidden_layer, (2) Hidden_layer to output\n",
        "np.random.seed(0)\n",
        "wh1 = np.random.rand(1, numh1) #wh1.shape = 1 x numh1\n",
        "wo = np.random.rand(numh1, 1) #wo.shape = numh1 x 1\n",
        "\n",
        "# Bias (1) of hidden layer (2) of output\n",
        "bh1 = np.random.rand(numh1)\n",
        "bo = np.random.rand(1)\n",
        "\n",
        "# Learning_rate\n",
        "Learning_rate = 0.05\n",
        "\n",
        "# nunt\n",
        "training_num = 1\n",
        "\n",
        "for current_num in range(training_num):\n",
        "  \n",
        "  \n"
      ],
      "execution_count": 0,
      "outputs": []
    },
    {
      "cell_type": "code",
      "metadata": {
        "id": "5X0G54tbooto",
        "colab_type": "code",
        "colab": {}
      },
      "source": [
        ""
      ],
      "execution_count": 0,
      "outputs": []
    },
    {
      "cell_type": "code",
      "metadata": {
        "id": "D7cW3mwSjb4B",
        "colab_type": "code",
        "colab": {}
      },
      "source": [
        ""
      ],
      "execution_count": 0,
      "outputs": []
    },
    {
      "cell_type": "code",
      "metadata": {
        "id": "CZjduOJfjb12",
        "colab_type": "code",
        "colab": {}
      },
      "source": [
        ""
      ],
      "execution_count": 0,
      "outputs": []
    },
    {
      "cell_type": "markdown",
      "metadata": {
        "id": "vzh7a8hq9dPr",
        "colab_type": "text"
      },
      "source": [
        ""
      ]
    },
    {
      "cell_type": "markdown",
      "metadata": {
        "id": "vyv38xL39dNj",
        "colab_type": "text"
      },
      "source": [
        ""
      ]
    },
    {
      "cell_type": "code",
      "metadata": {
        "id": "3RI0CpRX9cwS",
        "colab_type": "code",
        "colab": {}
      },
      "source": [
        ""
      ],
      "execution_count": 0,
      "outputs": []
    },
    {
      "cell_type": "code",
      "metadata": {
        "id": "c606YQP09ct9",
        "colab_type": "code",
        "colab": {}
      },
      "source": [
        ""
      ],
      "execution_count": 0,
      "outputs": []
    },
    {
      "cell_type": "code",
      "metadata": {
        "id": "75NLQULU9crr",
        "colab_type": "code",
        "colab": {}
      },
      "source": [
        ""
      ],
      "execution_count": 0,
      "outputs": []
    },
    {
      "cell_type": "code",
      "metadata": {
        "id": "cFoKLLq39cex",
        "colab_type": "code",
        "colab": {}
      },
      "source": [
        ""
      ],
      "execution_count": 0,
      "outputs": []
    }
  ]
}